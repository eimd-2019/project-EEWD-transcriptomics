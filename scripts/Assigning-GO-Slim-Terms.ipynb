{
 "cells": [
  {
   "cell_type": "markdown",
   "metadata": {},
   "source": [
    "# Assigning GO Slim Terms"
   ]
  },
  {
   "cell_type": "markdown",
   "metadata": {},
   "source": [
    "In this notebook, I'll assign GO Slim terms to differentially expressed genes for *Zostera marina* and *Labyrinthula zosterae*. I will only do this for files with GO-MWU Biological Process output. This will help with downstream interpretation of biological processes impacted by infection."
   ]
  },
  {
   "cell_type": "markdown",
   "metadata": {},
   "source": [
    "## 0. Set working directory"
   ]
  },
  {
   "cell_type": "code",
   "execution_count": 1,
   "metadata": {
    "collapsed": false
   },
   "outputs": [
    {
     "data": {
      "text/plain": [
       "'/Users/yaamini/Documents/project-EWD-transcriptomics/scripts'"
      ]
     },
     "execution_count": 1,
     "metadata": {},
     "output_type": "execute_result"
    }
   ],
   "source": [
    "pwd"
   ]
  },
  {
   "cell_type": "code",
   "execution_count": 2,
   "metadata": {
    "collapsed": false
   },
   "outputs": [
    {
     "name": "stdout",
     "output_type": "stream",
     "text": [
      "/Users/yaamini/Documents/project-EWD-transcriptomics/analyses\n"
     ]
    }
   ],
   "source": [
    "cd ../analyses/"
   ]
  },
  {
   "cell_type": "code",
   "execution_count": 3,
   "metadata": {
    "collapsed": true
   },
   "outputs": [],
   "source": [
    "#!mkdir Gene-Enrichment"
   ]
  },
  {
   "cell_type": "code",
   "execution_count": 4,
   "metadata": {
    "collapsed": false
   },
   "outputs": [
    {
     "name": "stdout",
     "output_type": "stream",
     "text": [
      "/Users/yaamini/Documents/project-EWD-transcriptomics/analyses/Gene-Enrichment\n"
     ]
    }
   ],
   "source": [
    "cd Gene-Enrichment/"
   ]
  },
  {
   "cell_type": "markdown",
   "metadata": {},
   "source": [
    "## *Z. marina*"
   ]
  },
  {
   "cell_type": "markdown",
   "metadata": {},
   "source": [
    "### 1. Format differentially expressed gene lists"
   ]
  },
  {
   "cell_type": "code",
   "execution_count": 21,
   "metadata": {
    "collapsed": false
   },
   "outputs": [
    {
     "name": "stdout",
     "output_type": "stream",
     "text": [
      "\tGeneID\tlogFC\tlogCPM\tF\tPValue\tFDR\tAccession\tIsoform\tE-value\tProteinN\tGO_BP\tGO_CC\tGO_MF\tGO\tStatus\tOrganism\tS_10B\tS_9A\tS_13A\tS_42A\tS_46B\tS_47B\tS_48B\tS_2A\tS_2B\tS_7B\tS_8B\tS_33A\tS_36B\tS_38A\tS_40A\n",
      "1\tTRINITY_DN102431_c0_g1\t7.87968942125049\t1.5948412518851\t9.62074706954095\t0.00646939513530696\t0.039492658666223\tQ7ZX51\tTRINITY_DN102431_c0_g1_i1\t1.4e-40\tTyrosine--tRNA ligase, cytoplasmic (EC 6.1.1.1) (Tyrosyl-tRNA synthetase) (TyrRS)\ttyrosyl-tRNA aminoacylation [GO:0006437]\tcytoplasm [GO:0005737]\tATP binding [GO:0005524]; tRNA binding [GO:0000049]; tyrosine-tRNA ligase activity [GO:0004831]\tGO:0000049; GO:0004831; GO:0005524; GO:0005737; GO:0006437\treviewed\tXenopus laevis (African clawed frog)\t0\t0\t2\t0\t2\t4\t0\t0\t0\t0\t0\t0\t0\t0\t0\n",
      "     541 ../EdgeR/DE.EXP.CON.FDR.Z.Annot.txt\n"
     ]
    }
   ],
   "source": [
    "#Check DEG file\n",
    "!head -n2 ../EdgeR/DE.EXP.CON.FDR.Z.Annot.txt\n",
    "!wc -l ../EdgeR/DE.EXP.CON.FDR.Z.Annot.txt"
   ]
  },
  {
   "cell_type": "code",
   "execution_count": 43,
   "metadata": {
    "collapsed": true,
    "scrolled": true
   },
   "outputs": [],
   "source": [
    "#Remove header\n",
    "# Sort\n",
    "#Only keep gene ID and GOterms\n",
    "#Save as new file\n",
    "!tail -n +2 ../EdgeR/DE.EXP.CON.FDR.Z.Annot.txt \\\n",
    "| sort \\\n",
    "| awk -F'\\t' -v OFS='\\t' '{print $8, $2, $15}' \\\n",
    "> Zostera_blast-annot.tab"
   ]
  },
  {
   "cell_type": "code",
   "execution_count": 45,
   "metadata": {
    "collapsed": false,
    "scrolled": false
   },
   "outputs": [
    {
     "name": "stdout",
     "output_type": "stream",
     "text": [
      "Q7ZX51\tTRINITY_DN102431_c0_g1\tGO:0000049; GO:0004831; GO:0005524; GO:0005737; GO:0006437\n",
      "O49561\tTRINITY_DN172833_c0_g1\tGO:0009685; GO:0009686; GO:0046872; GO:0051213; GO:0052635\n",
      "Q47UW0\tTRINITY_DN276081_c0_g2\tGO:0003677; GO:0003899; GO:0006351\n",
      "Q5XHZ0\tTRINITY_DN276264_c0_g1\tGO:0003723; GO:0005524; GO:0005654; GO:0005739; GO:0005743; GO:0005758; GO:0005759; GO:0006457; GO:0009386; GO:0019901; GO:0051082; GO:1901856; GO:1903751\n",
      "P0CH36\tTRINITY_DN276264_c0_g3\tGO:0008106; GO:0008270\n",
      "P09444\tTRINITY_DN276293_c0_g1\t\n",
      "Q9LJ97\tTRINITY_DN276293_c0_g2\tGO:0005634; GO:0005730; GO:0005829; GO:0006873; GO:0009845; GO:0010226\n",
      "P00125\tTRINITY_DN276409_c0_g1\tGO:0005739; GO:0005743; GO:0005750; GO:0006122; GO:0016021; GO:0020037; GO:0042776; GO:0045153; GO:0046872\n",
      "Q3IJK2\tTRINITY_DN276418_c0_g1\tGO:0003735; GO:0006412; GO:0015935; GO:0019843\n",
      "Q9M8M3\tTRINITY_DN276445_c0_g1\tGO:0005739\n",
      "     540 Zostera_blast-annot.tab\n"
     ]
    }
   ],
   "source": [
    "#Check output\n",
    "#Count lines (original - 1)\n",
    "!head Zostera_blast-annot.tab\n",
    "!wc -l Zostera_blast-annot.tab"
   ]
  },
  {
   "cell_type": "markdown",
   "metadata": {},
   "source": [
    "### 2. Unfold GOterms"
   ]
  },
  {
   "cell_type": "code",
   "execution_count": 46,
   "metadata": {
    "collapsed": true
   },
   "outputs": [],
   "source": [
    "%%bash \n",
    "\n",
    "# This script was originally written to address a specific problem that Rhonda was having\n",
    "\n",
    "# input_file is the initial, \"problem\" file\n",
    "# file is an intermediate file that most of the program works upon\n",
    "# output_file is the final file produced by the script\n",
    "input_file=\"Zostera_blast-annot.tab\"\n",
    "file=\"Zostera_intermediate.file\"\n",
    "output_file=\"Zostera_blast-GO-unfolded.tab\"\n",
    "\n",
    "# sed command substitutes the \"; \" sequence to a tab and writes the new format to a new file.\n",
    "# This character sequence is how the GO terms are delimited in their field.\n",
    "sed $'s/; /\\t/g' \"$input_file\" > \"$file\"\n",
    "\n",
    "# Identify first field containing a GO term.\n",
    "# Search file with grep for \"GO:\" and pipe to awk.\n",
    "# Awk sets tab as field delimiter (-F'\\t'), runs a for loop that looks for \"GO:\" (~/GO:/), and then prints the field number).\n",
    "# Awk results are piped to sort, which sorts unique by number (-ug).\n",
    "# Sort results are piped to head to retrieve the lowest value (i.e. the top of the list; \"-n1\").\n",
    "begin_goterms=$(grep \"GO:\" \"$file\" | awk -F'\\t' '{for (i=1;i<=NF;i++) if($i ~/GO:/) print i}' | sort -ug | head -n1)\n",
    "\n",
    "# While loop to process each line of the input file.\n",
    "while read -r line\n",
    "\tdo\n",
    "\t\n",
    "\t# Send contents of the current line to awk.\n",
    "\t# Set the field separator as a tab (-F'\\t') and print the number of fields in that line.\n",
    "\t# Save the results of the echo/awk pipe (i.e. number of fields) to the variable \"max_field\".\n",
    "\tmax_field=$(echo \"$line\" | awk -F'\\t' '{print NF}')\n",
    "\n",
    "\t# Send contents of current line to cut.\n",
    "\t# Cut fields (i.e. retain those fields) 1-12.\n",
    "\t# Save the results of the echo/cut pipe (i.e. fields 1-12) to the variable \"fixed_fields\"\n",
    "\tfixed_fields=$(echo \"$line\" | cut -f1-2)\n",
    "\n",
    "\t# Since not all the lines contain the same number of fields (e.g. may not have GO terms),\n",
    "\t# evaluate the number of fields in each line to determine how to handle current line.\n",
    "\n",
    "\t# If the value in max_field is less than the field number where the GO terms begin,\n",
    "\t# then just print the current line (%s) followed by a newline (\\n).\n",
    "\tif (( \"$max_field\" < \"$begin_goterms\" ))\n",
    "\t\tthen printf \"%s\\n\" \"$line\"\n",
    "\t\t\telse\n",
    "\n",
    "\t\t\t# Send contents of current line (which contains GO terms) to cut.\n",
    "\t\t\t# Cut fields (i.e. retain those fields) 13 to whatever the last field is in the curent line.\n",
    "\t\t\t# Save the results of the echo/cut pipe (i.e. all the GO terms fields) to the variable \"goterms\".\n",
    "\t\t\tgoterms=$(echo \"$line\" | cut -f\"$begin_goterms\"-\"$max_field\")\n",
    "\t\t\t\n",
    "\t\t\t# Assign values in the variable \"goterms\" to a new indexed array (called \"array\"), \n",
    "\t\t\t# with tab delimiter (IFS=$'\\t')\n",
    "\t\t\tIFS=$'\\t' read -r -a array <<<\"$goterms\"\n",
    "\t\t\t\n",
    "\t\t\t# Iterate through each element of the array.\n",
    "\t\t\t# Print the first 12 fields (i.e. the fields stored in \"fixed_fields\") followed by a tab (%s\\t).\n",
    "\t\t\t# Print the current element in the array (i.e. the current GO term) followed by a new line (%s\\n).\n",
    "\t\t\tfor element in \"${!array[@]}\"\t\n",
    "\t\t\t\tdo printf \"%s\\t%s\\n\" \"$fixed_fields\" \"${array[$element]}\"\n",
    "\t\t\tdone\n",
    "\tfi\n",
    "\n",
    "# Send the input file into the while loop and send the output to a file named \"rhonda_fixed.txt\".\n",
    "done < \"$file\" > \"$output_file\""
   ]
  },
  {
   "cell_type": "code",
   "execution_count": 48,
   "metadata": {
    "collapsed": false,
    "scrolled": true
   },
   "outputs": [
    {
     "name": "stdout",
     "output_type": "stream",
     "text": [
      "Q7ZX51\tTRINITY_DN102431_c0_g1\tGO:0000049\r\n",
      "Q7ZX51\tTRINITY_DN102431_c0_g1\tGO:0004831\r\n",
      "Q7ZX51\tTRINITY_DN102431_c0_g1\tGO:0005524\r\n",
      "Q7ZX51\tTRINITY_DN102431_c0_g1\tGO:0005737\r\n",
      "Q7ZX51\tTRINITY_DN102431_c0_g1\tGO:0006437\r\n",
      "O49561\tTRINITY_DN172833_c0_g1\tGO:0009685\r\n",
      "O49561\tTRINITY_DN172833_c0_g1\tGO:0009686\r\n",
      "O49561\tTRINITY_DN172833_c0_g1\tGO:0046872\r\n",
      "O49561\tTRINITY_DN172833_c0_g1\tGO:0051213\r\n",
      "O49561\tTRINITY_DN172833_c0_g1\tGO:0052635\r\n"
     ]
    }
   ],
   "source": [
    "#It was unfolded correctly\n",
    "!head Zostera_blast-GO-unfolded.tab"
   ]
  },
  {
   "cell_type": "code",
   "execution_count": 58,
   "metadata": {
    "collapsed": true,
    "scrolled": true
   },
   "outputs": [],
   "source": [
    "!awk '{print $3\"\\t\"$2}' Zostera_blast-GO-unfolded.tab | gsort -V > Zostera_blast-GO-unfolded.sorted"
   ]
  },
  {
   "cell_type": "code",
   "execution_count": 59,
   "metadata": {
    "collapsed": false
   },
   "outputs": [
    {
     "name": "stdout",
     "output_type": "stream",
     "text": [
      "GO:0000027\tTRINITY_DN293394_c0_g1\r\n",
      "GO:0000027\tTRINITY_DN298832_c1_g1\r\n",
      "GO:0000027\tTRINITY_DN298848_c3_g2\r\n",
      "GO:0000027\tTRINITY_DN314236_c0_g1\r\n",
      "GO:0000028\tTRINITY_DN292998_c5_g6\r\n",
      "GO:0000028\tTRINITY_DN316936_c5_g1\r\n",
      "GO:0000035\tTRINITY_DN311987_c0_g1\r\n",
      "GO:0000036\tTRINITY_DN311987_c0_g1\r\n",
      "GO:0000038\tTRINITY_DN314641_c0_g1\r\n",
      "GO:0000045\tTRINITY_DN298449_c4_g2\r\n"
     ]
    }
   ],
   "source": [
    "#Extra space was removed and columns reorganized\n",
    "!head Zostera_blast-GO-unfolded.sorted"
   ]
  },
  {
   "cell_type": "markdown",
   "metadata": {},
   "source": [
    "### 3. Match GOterms to GO Slim terms"
   ]
  },
  {
   "cell_type": "code",
   "execution_count": 135,
   "metadata": {
    "collapsed": false
   },
   "outputs": [
    {
     "name": "stdout",
     "output_type": "stream",
     "text": [
      "  % Total    % Received % Xferd  Average Speed   Time    Time     Time  Current\n",
      "                                 Dload  Upload   Total   Spent    Left  Speed\n",
      "100 2314k  100 2314k    0     0  1115k      0  0:00:02  0:00:02 --:--:-- 1115k\n"
     ]
    }
   ],
   "source": [
    "#Download list of GO Slim and matching GOterms\n",
    "!curl -O http://owl.fish.washington.edu/halfshell/bu-alanine-wd/17-07-20/GO-GOslim.sorted"
   ]
  },
  {
   "cell_type": "code",
   "execution_count": 35,
   "metadata": {
    "collapsed": false
   },
   "outputs": [
    {
     "name": "stdout",
     "output_type": "stream",
     "text": [
      "GO:0000001\tmitochondrion inheritance\tcell organization and biogenesis\tP\r\n",
      "GO:0000002\tmitochondrial genome maintenance\tcell organization and biogenesis\tP\r\n",
      "GO:0000003\treproduction\tother biological processes\tP\r\n",
      "GO:0000006\thigh affinity zinc uptake transmembrane transporter activity\ttransporter activity\tF\r\n",
      "GO:0000007\tlow-affinity zinc ion transmembrane transporter activity\ttransporter activity\tF\r\n",
      "GO:0000009\t\"alpha-1,6-mannosyltransferase activity\"\tother molecular function\tF\r\n",
      "GO:0000010\ttrans-hexaprenyltranstransferase activity\tother molecular function\tF\r\n",
      "GO:0000011\tvacuole inheritance\tcell organization and biogenesis\tP\r\n",
      "GO:0000012\tsingle strand break repair\tDNA metabolism\tP\r\n",
      "GO:0000012\tsingle strand break repair\tstress response\tP\r\n"
     ]
    }
   ],
   "source": [
    "!head GO-GOslim.sorted"
   ]
  },
  {
   "cell_type": "code",
   "execution_count": 65,
   "metadata": {
    "collapsed": true
   },
   "outputs": [],
   "source": [
    "#Join files to get GOslim for each query\n",
    "#Remove duplicate GOslim and queries removed\n",
    "#Sort files\n",
    "#Only print gene ID, GO Slim, and original GOterm\n",
    "!join -1 1 -2 1 -t $'\\t' \\\n",
    "Zostera_blast-GO-unfolded.sorted \\\n",
    "GO-GOslim.sorted \\\n",
    "| uniq | awk -F'\\t' -v OFS='\\t' '{print $2, $4, $5}' \\\n",
    "> Zostera_Blastquery-GOslim.tab"
   ]
  },
  {
   "cell_type": "code",
   "execution_count": 66,
   "metadata": {
    "collapsed": false,
    "scrolled": false
   },
   "outputs": [
    {
     "name": "stdout",
     "output_type": "stream",
     "text": [
      "TRINITY_DN293394_c0_g1\tcell organization and biogenesis\tP\n",
      "TRINITY_DN298832_c1_g1\tcell organization and biogenesis\tP\n",
      "TRINITY_DN298848_c3_g2\tcell organization and biogenesis\tP\n",
      "TRINITY_DN314236_c0_g1\tcell organization and biogenesis\tP\n",
      "TRINITY_DN292998_c5_g6\tcell organization and biogenesis\tP\n",
      "TRINITY_DN316936_c5_g1\tcell organization and biogenesis\tP\n",
      "TRINITY_DN311987_c0_g1\tother molecular function\tF\n",
      "TRINITY_DN311987_c0_g1\ttransporter activity\tF\n",
      "TRINITY_DN314641_c0_g1\tother metabolic processes\tP\n",
      "TRINITY_DN298449_c4_g2\tcell organization and biogenesis\tP\n",
      "    4437 Zostera_Blastquery-GOslim.tab\n"
     ]
    }
   ],
   "source": [
    "#Check output\n",
    "!head Zostera_Blastquery-GOslim.tab\n",
    "!wc -l Zostera_Blastquery-GOslim.tab"
   ]
  },
  {
   "cell_type": "code",
   "execution_count": 67,
   "metadata": {
    "collapsed": false
   },
   "outputs": [
    {
     "name": "stdout",
     "output_type": "stream",
     "text": [
      "    1549\r\n"
     ]
    }
   ],
   "source": [
    "#Count the number of unique IDs with GOSlim terms\n",
    "!uniq -f1 Zostera_Blastquery-GOslim.tab | wc -l"
   ]
  },
  {
   "cell_type": "markdown",
   "metadata": {},
   "source": [
    "### 4. Obtain Biological Process GO Slim terms"
   ]
  },
  {
   "cell_type": "code",
   "execution_count": 72,
   "metadata": {
    "collapsed": false
   },
   "outputs": [
    {
     "name": "stdout",
     "output_type": "stream",
     "text": [
      "TRINITY_DN102431_c0_g1\tRNA metabolism\n",
      "TRINITY_DN102431_c0_g1\tprotein metabolism\n",
      "TRINITY_DN111410_c0_g1\tother biological processes\n",
      "TRINITY_DN111543_c0_g1\tother biological processes\n",
      "TRINITY_DN111543_c0_g1\tother biological processes\n",
      "TRINITY_DN111543_c0_g1\tother biological processes\n",
      "TRINITY_DN111543_c0_g1\tother metabolic processes\n",
      "TRINITY_DN111543_c0_g1\tother metabolic processes\n",
      "TRINITY_DN111543_c0_g1\tother metabolic processes\n",
      "TRINITY_DN111543_c0_g1\tother metabolic processes\n",
      "    1611 Zostera_Blastquery-GOslim-BP.sorted\n"
     ]
    }
   ],
   "source": [
    "#Get BP entries for each gene ID. Multiple GOslim terms may be matched with one ID.\n",
    "#Confirm GOslim terms were obtained\n",
    "#Count the number of entries\n",
    "!awk -F\"\\t\" '$3 == \"P\" { print $1\"\\t\"$2 }' Zostera_Blastquery-GOslim.tab | sort > Zostera_Blastquery-GOslim-BP.sorted\n",
    "!head Zostera_Blastquery-GOslim-BP.sorted\n",
    "!wc -l Zostera_Blastquery-GOslim-BP.sorted"
   ]
  },
  {
   "cell_type": "code",
   "execution_count": 73,
   "metadata": {
    "collapsed": false
   },
   "outputs": [
    {
     "name": "stdout",
     "output_type": "stream",
     "text": [
      "TRINITY_DN102431_c0_g1\tRNA metabolism\n",
      "TRINITY_DN102431_c0_g1\tprotein metabolism\n",
      "TRINITY_DN111410_c0_g1\tother biological processes\n",
      "TRINITY_DN111543_c0_g1\tother biological processes\n",
      "TRINITY_DN111543_c0_g1\tother metabolic processes\n",
      "TRINITY_DN111543_c0_g1\tstress response\n",
      "TRINITY_DN111591_c0_g1\tother metabolic processes\n",
      "TRINITY_DN139711_c0_g1\tRNA metabolism\n",
      "TRINITY_DN139711_c0_g1\tcell cycle and proliferation\n",
      "TRINITY_DN139711_c0_g1\tcell organization and biogenesis\n",
      "     975 Zostera_Blastquery-GOslim-BP.sorted.unique\n"
     ]
    }
   ],
   "source": [
    "#Remove duplicate entries\n",
    "#Count the number of unique entries\n",
    "!uniq Zostera_Blastquery-GOslim-BP.sorted > Zostera_Blastquery-GOslim-BP.sorted.unique\n",
    "!head Zostera_Blastquery-GOslim-BP.sorted.unique\n",
    "!wc -l Zostera_Blastquery-GOslim-BP.sorted.unique"
   ]
  },
  {
   "cell_type": "code",
   "execution_count": 74,
   "metadata": {
    "collapsed": false
   },
   "outputs": [
    {
     "name": "stdout",
     "output_type": "stream",
     "text": [
      "     920\r\n"
     ]
    }
   ],
   "source": [
    "#Count the number of unique IDs with GOSlim terms\n",
    "!uniq -f1 Zostera_Blastquery-GOslim-BP.sorted.unique | wc -l"
   ]
  },
  {
   "cell_type": "code",
   "execution_count": 75,
   "metadata": {
    "collapsed": false,
    "scrolled": true
   },
   "outputs": [
    {
     "name": "stdout",
     "output_type": "stream",
     "text": [
      "TRINITY_DN102431_c0_g1\tRNA metabolism\n",
      "TRINITY_DN102431_c0_g1\tprotein metabolism\n",
      "TRINITY_DN111543_c0_g1\tother metabolic processes\n",
      "TRINITY_DN111543_c0_g1\tstress response\n",
      "TRINITY_DN111591_c0_g1\tother metabolic processes\n",
      "TRINITY_DN139711_c0_g1\tRNA metabolism\n",
      "TRINITY_DN139711_c0_g1\tcell cycle and proliferation\n",
      "TRINITY_DN139711_c0_g1\tcell organization and biogenesis\n",
      "TRINITY_DN139711_c0_g1\tcell-cell signaling\n",
      "TRINITY_DN139711_c0_g1\tdevelopmental processes\n",
      "     848 Zostera_Blastquery-GOslim-BP.sorted.unique.noOther\n"
     ]
    }
   ],
   "source": [
    "#Remove all \"other biological processes\"\n",
    "#Confirm removal\n",
    "#Count the number of entries\n",
    "!grep --invert-match \"other biological processes\" Zostera_Blastquery-GOslim-BP.sorted.unique \\\n",
    "> Zostera_Blastquery-GOslim-BP.sorted.unique.noOther\n",
    "!head Zostera_Blastquery-GOslim-BP.sorted.unique.noOther\n",
    "!wc -l Zostera_Blastquery-GOslim-BP.sorted.unique.noOther"
   ]
  },
  {
   "cell_type": "code",
   "execution_count": 76,
   "metadata": {
    "collapsed": false,
    "scrolled": true
   },
   "outputs": [
    {
     "name": "stdout",
     "output_type": "stream",
     "text": [
      "     781\r\n"
     ]
    }
   ],
   "source": [
    "#Count the number of unique CGI IDs with defined GOSlim terms\n",
    "!uniq -f1 Zostera_blastquery-GOslim-BP.sorted.unique.noOther | wc -l"
   ]
  },
  {
   "cell_type": "markdown",
   "metadata": {},
   "source": [
    "### 5. Match GO Slim terms to original annotations"
   ]
  },
  {
   "cell_type": "code",
   "execution_count": 84,
   "metadata": {
    "collapsed": false,
    "scrolled": false
   },
   "outputs": [
    {
     "name": "stdout",
     "output_type": "stream",
     "text": [
      "TRINITY_DN100001_c0_g1\tQ54EW8\tTRINITY_DN100001_c0_g1_i1\t1.2e-19\tDihydrolipoyl dehydrogenase, mitochondrial (EC 1.8.1.4) (Dihydrolipoamide dehydrogenase) (Glycine cleavage system L protein)\tcell redox homeostasis [GO:0045454]; glycine catabolic process [GO:0006546]; isoleucine catabolic process [GO:0006550]; leucine catabolic process [GO:0006552]; L-serine biosynthetic process [GO:0006564]; valine catabolic process [GO:0006574]\textracellular matrix [GO:0031012]; mitochondrial matrix [GO:0005759]; mitochondrial pyruvate dehydrogenase complex [GO:0005967]; phagocytic vesicle [GO:0045335]\tdihydrolipoyl dehydrogenase activity [GO:0004148]; electron transfer activity [GO:0009055]; flavin adenine dinucleotide binding [GO:0050660]\tGO:0004148; GO:0005759; GO:0005967; GO:0006546; GO:0006550; GO:0006552; GO:0006564; GO:0006574; GO:0009055; GO:0031012; GO:0045335; GO:0045454; GO:0050660\treviewed\tDictyostelium discoideum (Slime mold)\r\n",
      "TRINITY_DN100015_c0_g1\tP16894\tTRINITY_DN100015_c0_g1_i1\t1.2e-21\tGuanine nucleotide-binding protein alpha-1 subunit (G alpha-1)\tadenylate cyclase-modulating G protein-coupled receptor signaling pathway [GO:0007188]; cell differentiation [GO:0030154]; chemotaxis to cAMP [GO:0043327]; G protein-coupled receptor signaling pathway [GO:0007186]; negative regulation of phospholipase C activity [GO:1900275]; signal transduction [GO:0007165]\theterotrimeric G-protein complex [GO:0005834]\tG-protein beta/gamma-subunit complex binding [GO:0031683]; G protein-coupled receptor binding [GO:0001664]; GTPase activity [GO:0003924]; GTP binding [GO:0005525]; metal ion binding [GO:0046872]\tGO:0001664; GO:0003924; GO:0005525; GO:0005834; GO:0007165; GO:0007186; GO:0007188; GO:0030154; GO:0031683; GO:0043327; GO:0046872; GO:1900275\treviewed\tDictyostelium discoideum (Slime mold)\r\n"
     ]
    }
   ],
   "source": [
    "#Check format of gene list with protein annotations\n",
    "#Columns: seq ID, Uniprot, seq ID ith isoform information, e-value, annotation, GOerms, reviewed, organism\n",
    "!head -n2 ../../data/Zostera-blast-annot-withGeneID-noIsoforms.tab"
   ]
  },
  {
   "cell_type": "code",
   "execution_count": 103,
   "metadata": {
    "collapsed": true
   },
   "outputs": [],
   "source": [
    "#Join protein annotation with GO Slim terms (unique, no other)\n",
    "#Use a left join so unpaired lines from GOSlim terms are still printed\n",
    "!join -1 1 -2 1 -t $'\\t' \\\n",
    "Zostera_blastquery-GOslim-BP.sorted.unique.noOther \\\n",
    "../../data/Zostera-blast-annot-withGeneID-noIsoforms.tab \\\n",
    "| awk -F'\\t' -v OFS='\\t' '{print $1, $2, $6}' \\\n",
    "> Zostera_blastquery-GOslim-BP.sorted.unique.noOther.annot"
   ]
  },
  {
   "cell_type": "code",
   "execution_count": 104,
   "metadata": {
    "collapsed": false,
    "scrolled": true
   },
   "outputs": [
    {
     "name": "stdout",
     "output_type": "stream",
     "text": [
      "TRINITY_DN102431_c0_g1\tRNA metabolism\tTyrosine--tRNA ligase, cytoplasmic (EC 6.1.1.1) (Tyrosyl-tRNA synthetase) (TyrRS)\n",
      "TRINITY_DN102431_c0_g1\tprotein metabolism\tTyrosine--tRNA ligase, cytoplasmic (EC 6.1.1.1) (Tyrosyl-tRNA synthetase) (TyrRS)\n",
      "TRINITY_DN111543_c0_g1\tother metabolic processes\tPeroxisomal acyl-coenzyme A oxidase 1 (AOX 1) (EC 1.3.3.6) (Long-chain acyl-CoA oxidase) (AtCX1)\n",
      "TRINITY_DN111543_c0_g1\tstress response\tPeroxisomal acyl-coenzyme A oxidase 1 (AOX 1) (EC 1.3.3.6) (Long-chain acyl-CoA oxidase) (AtCX1)\n",
      "TRINITY_DN111591_c0_g1\tother metabolic processes\tDelta-aminolevulinic acid dehydratase (ALAD) (ALADH) (EC 4.2.1.24) (Porphobilinogen synthase)\n",
      "TRINITY_DN139711_c0_g1\tRNA metabolism\tPolyadenylate-binding protein (PABP) (Poly(A)-binding protein)\n",
      "TRINITY_DN139711_c0_g1\tcell cycle and proliferation\tPolyadenylate-binding protein (PABP) (Poly(A)-binding protein)\n",
      "TRINITY_DN139711_c0_g1\tcell organization and biogenesis\tPolyadenylate-binding protein (PABP) (Poly(A)-binding protein)\n",
      "TRINITY_DN139711_c0_g1\tcell-cell signaling\tPolyadenylate-binding protein (PABP) (Poly(A)-binding protein)\n",
      "TRINITY_DN139711_c0_g1\tdevelopmental processes\tPolyadenylate-binding protein (PABP) (Poly(A)-binding protein)\n",
      "     848 Zostera_blastquery-GOslim-BP.sorted.unique.noOther.annot\n"
     ]
    }
   ],
   "source": [
    "#Check output\n",
    "#Count lines (same as original file)\n",
    "!head Zostera_blastquery-GOslim-BP.sorted.unique.noOther.annot\n",
    "!wc -l Zostera_blastquery-GOslim-BP.sorted.unique.noOther.annot"
   ]
  },
  {
   "cell_type": "markdown",
   "metadata": {},
   "source": [
    "### 6. Match GOSlim terms with full `blastx` output"
   ]
  },
  {
   "cell_type": "markdown",
   "metadata": {},
   "source": [
    "In addition to having GO Slim terms assigned to DEG, having that information for all detected genes (gene background) is helpful."
   ]
  },
  {
   "cell_type": "markdown",
   "metadata": {},
   "source": [
    "#### 6a. Isolate necessary columns"
   ]
  },
  {
   "cell_type": "code",
   "execution_count": 18,
   "metadata": {
    "collapsed": true
   },
   "outputs": [],
   "source": [
    "#Use file with gene counts so only detected genes (gene background) are used\n",
    "#Only need Uniprot, gene ID, and GOterms\n",
    "!awk -F'\\t' -v OFS='\\t' '{print $2, $1, $9}' ../../data/Zostera-blast-annot-withGeneID-noIsoforms-geneCounts.tab \\\n",
    "> Zostera_full_blast-annot.tab"
   ]
  },
  {
   "cell_type": "code",
   "execution_count": 19,
   "metadata": {
    "collapsed": false
   },
   "outputs": [
    {
     "name": "stdout",
     "output_type": "stream",
     "text": [
      "Q1DZQ0\tTRINITY_DN102005_c0_g1\tGO:0000139; GO:0005198; GO:0005643; GO:0005789; GO:0015031; GO:0030127; GO:0051028; GO:0090114; GO:1904263\n",
      "Q54NS9\tTRINITY_DN102006_c0_g1\tGO:0004174; GO:0005737; GO:0005811; GO:0050660\n",
      "Q56872\tTRINITY_DN102012_c0_g1\tGO:0008446; GO:0009243; GO:0019673; GO:0042351; GO:0070401\n",
      "F4I460\tTRINITY_DN102016_c0_g1\tGO:0003774; GO:0005516; GO:0005524; GO:0005737; GO:0007015; GO:0016459; GO:0030048; GO:0048767; GO:0051015\n",
      "Q9LK31\tTRINITY_DN102024_c0_g1\tGO:0005768; GO:0005794; GO:0005802; GO:0009061; GO:0016021\n",
      "Q6DIF4\tTRINITY_DN102050_c0_g1\tGO:0003779; GO:0005634; GO:0005737; GO:0005884; GO:0005886; GO:0030042; GO:0030043; GO:0030836; GO:0030864; GO:0040011; GO:0042643; GO:0045214; GO:0051015\n",
      "Q9H172\tTRINITY_DN102051_c0_g1\tGO:0005524; GO:0005886; GO:0016021; GO:0016887; GO:0033344; GO:0042626; GO:0042803; GO:0046982; GO:0055085; GO:1990830\n",
      "Q8BJD1\tTRINITY_DN102060_c0_g1\tGO:0004867; GO:0030212; GO:0062023\n",
      "P34673\tTRINITY_DN102062_c0_g1\tGO:0005739; GO:0016787; GO:0018773; GO:0046872\n",
      "Q12849\tTRINITY_DN10208_c0_g1\tGO:0003723; GO:0003729; GO:0005737; GO:0005739; GO:0006378; GO:0008033; GO:0009952; GO:0016331; GO:0035770; GO:0042645\n",
      "    5159 Zostera_full_blast-annot.tab\n"
     ]
    }
   ],
   "source": [
    "!head Zostera_full_blast-annot.tab\n",
    "!wc -l Zostera_full_blast-annot.tab"
   ]
  },
  {
   "cell_type": "markdown",
   "metadata": {},
   "source": [
    "#### 6b. Unfold GOterms"
   ]
  },
  {
   "cell_type": "code",
   "execution_count": 20,
   "metadata": {
    "collapsed": true
   },
   "outputs": [],
   "source": [
    "%%bash \n",
    "\n",
    "# This script was originally written to address a specific problem that Rhonda was having\n",
    "\n",
    "# input_file is the initial, \"problem\" file\n",
    "# file is an intermediate file that most of the program works upon\n",
    "# output_file is the final file produced by the script\n",
    "input_file=\"Zostera_full_blast-annot.tab\"\n",
    "file=\"Zostera_full_intermediate.file\"\n",
    "output_file=\"Zostera_full_blast-GO-unfolded.tab\"\n",
    "\n",
    "# sed command substitutes the \"; \" sequence to a tab and writes the new format to a new file.\n",
    "# This character sequence is how the GO terms are delimited in their field.\n",
    "sed $'s/; /\\t/g' \"$input_file\" > \"$file\"\n",
    "\n",
    "# Identify first field containing a GO term.\n",
    "# Search file with grep for \"GO:\" and pipe to awk.\n",
    "# Awk sets tab as field delimiter (-F'\\t'), runs a for loop that looks for \"GO:\" (~/GO:/), and then prints the field number).\n",
    "# Awk results are piped to sort, which sorts unique by number (-ug).\n",
    "# Sort results are piped to head to retrieve the lowest value (i.e. the top of the list; \"-n1\").\n",
    "begin_goterms=$(grep \"GO:\" \"$file\" | awk -F'\\t' '{for (i=1;i<=NF;i++) if($i ~/GO:/) print i}' | sort -ug | head -n1)\n",
    "\n",
    "# While loop to process each line of the input file.\n",
    "while read -r line\n",
    "\tdo\n",
    "\t\n",
    "\t# Send contents of the current line to awk.\n",
    "\t# Set the field separator as a tab (-F'\\t') and print the number of fields in that line.\n",
    "\t# Save the results of the echo/awk pipe (i.e. number of fields) to the variable \"max_field\".\n",
    "\tmax_field=$(echo \"$line\" | awk -F'\\t' '{print NF}')\n",
    "\n",
    "\t# Send contents of current line to cut.\n",
    "\t# Cut fields (i.e. retain those fields) 1-12.\n",
    "\t# Save the results of the echo/cut pipe (i.e. fields 1-12) to the variable \"fixed_fields\"\n",
    "\tfixed_fields=$(echo \"$line\" | cut -f1-2)\n",
    "\n",
    "\t# Since not all the lines contain the same number of fields (e.g. may not have GO terms),\n",
    "\t# evaluate the number of fields in each line to determine how to handle current line.\n",
    "\n",
    "\t# If the value in max_field is less than the field number where the GO terms begin,\n",
    "\t# then just print the current line (%s) followed by a newline (\\n).\n",
    "\tif (( \"$max_field\" < \"$begin_goterms\" ))\n",
    "\t\tthen printf \"%s\\n\" \"$line\"\n",
    "\t\t\telse\n",
    "\n",
    "\t\t\t# Send contents of current line (which contains GO terms) to cut.\n",
    "\t\t\t# Cut fields (i.e. retain those fields) 13 to whatever the last field is in the curent line.\n",
    "\t\t\t# Save the results of the echo/cut pipe (i.e. all the GO terms fields) to the variable \"goterms\".\n",
    "\t\t\tgoterms=$(echo \"$line\" | cut -f\"$begin_goterms\"-\"$max_field\")\n",
    "\t\t\t\n",
    "\t\t\t# Assign values in the variable \"goterms\" to a new indexed array (called \"array\"), \n",
    "\t\t\t# with tab delimiter (IFS=$'\\t')\n",
    "\t\t\tIFS=$'\\t' read -r -a array <<<\"$goterms\"\n",
    "\t\t\t\n",
    "\t\t\t# Iterate through each element of the array.\n",
    "\t\t\t# Print the first 12 fields (i.e. the fields stored in \"fixed_fields\") followed by a tab (%s\\t).\n",
    "\t\t\t# Print the current element in the array (i.e. the current GO term) followed by a new line (%s\\n).\n",
    "\t\t\tfor element in \"${!array[@]}\"\t\n",
    "\t\t\t\tdo printf \"%s\\t%s\\n\" \"$fixed_fields\" \"${array[$element]}\"\n",
    "\t\t\tdone\n",
    "\tfi\n",
    "\n",
    "# Send the input file into the while loop and send the output to a file named \"rhonda_fixed.txt\".\n",
    "done < \"$file\" > \"$output_file\""
   ]
  },
  {
   "cell_type": "code",
   "execution_count": 21,
   "metadata": {
    "collapsed": false
   },
   "outputs": [
    {
     "name": "stdout",
     "output_type": "stream",
     "text": [
      "Q1DZQ0\tTRINITY_DN102005_c0_g1\tGO:0000139\r\n",
      "Q1DZQ0\tTRINITY_DN102005_c0_g1\tGO:0005198\r\n",
      "Q1DZQ0\tTRINITY_DN102005_c0_g1\tGO:0005643\r\n",
      "Q1DZQ0\tTRINITY_DN102005_c0_g1\tGO:0005789\r\n",
      "Q1DZQ0\tTRINITY_DN102005_c0_g1\tGO:0015031\r\n",
      "Q1DZQ0\tTRINITY_DN102005_c0_g1\tGO:0030127\r\n",
      "Q1DZQ0\tTRINITY_DN102005_c0_g1\tGO:0051028\r\n",
      "Q1DZQ0\tTRINITY_DN102005_c0_g1\tGO:0090114\r\n",
      "Q1DZQ0\tTRINITY_DN102005_c0_g1\tGO:1904263\r\n",
      "Q54NS9\tTRINITY_DN102006_c0_g1\tGO:0004174\r\n"
     ]
    }
   ],
   "source": [
    "#See if it was unfolded correctly\n",
    "!head Zostera_full_blast-GO-unfolded.tab"
   ]
  },
  {
   "cell_type": "code",
   "execution_count": 22,
   "metadata": {
    "collapsed": true
   },
   "outputs": [],
   "source": [
    "!awk '{print $3\"\\t\"$2}' Zostera_full_blast-GO-unfolded.tab | gsort -V > Zostera_full_blast-GO-unfolded.sorted"
   ]
  },
  {
   "cell_type": "code",
   "execution_count": 23,
   "metadata": {
    "collapsed": false,
    "scrolled": true
   },
   "outputs": [
    {
     "name": "stdout",
     "output_type": "stream",
     "text": [
      "GO:0000002\tTRINITY_DN106385_c0_g1\r\n",
      "GO:0000003\tTRINITY_DN3354_c0_g1\r\n",
      "GO:0000011\tTRINITY_DN235307_c0_g1\r\n",
      "GO:0000012\tTRINITY_DN18_c1_g1\r\n",
      "GO:0000012\tTRINITY_DN11157_c0_g1\r\n",
      "GO:0000012\tTRINITY_DN294144_c2_g1\r\n",
      "GO:0000014\tTRINITY_DN40815_c0_g1\r\n",
      "GO:0000018\tTRINITY_DN311034_c1_g1\r\n",
      "GO:0000019\tTRINITY_DN274898_c0_g1\r\n",
      "GO:0000022\tTRINITY_DN293890_c1_g1\r\n"
     ]
    }
   ],
   "source": [
    "#Extra space was removed and columns reorganized\n",
    "!head Zostera_full_blast-GO-unfolded.sorted"
   ]
  },
  {
   "cell_type": "markdown",
   "metadata": {},
   "source": [
    "#### 6c. Match GOterms to GO Slim terms"
   ]
  },
  {
   "cell_type": "code",
   "execution_count": 24,
   "metadata": {
    "collapsed": true
   },
   "outputs": [],
   "source": [
    "#Join files to get GOslim for each query\n",
    "#Remove duplicate GOslim and queries removed\n",
    "#Sort files\n",
    "#Only print gene ID, GO Slim, and original GOterm\n",
    "!join -1 1 -2 1 -t $'\\t' \\\n",
    "Zostera_full_blast-GO-unfolded.sorted \\\n",
    "GO-GOslim.sorted \\\n",
    "| uniq | awk -F'\\t' -v OFS='\\t' '{print $2, $4, $5}' \\\n",
    "> Zostera_full_Blastquery-GOslim.tab"
   ]
  },
  {
   "cell_type": "code",
   "execution_count": 25,
   "metadata": {
    "collapsed": false
   },
   "outputs": [
    {
     "name": "stdout",
     "output_type": "stream",
     "text": [
      "TRINITY_DN106385_c0_g1\tcell organization and biogenesis\tP\n",
      "TRINITY_DN3354_c0_g1\tother biological processes\tP\n",
      "TRINITY_DN235307_c0_g1\tcell organization and biogenesis\tP\n",
      "TRINITY_DN18_c1_g1\tDNA metabolism\tP\n",
      "TRINITY_DN18_c1_g1\tstress response\tP\n",
      "TRINITY_DN11157_c0_g1\tDNA metabolism\tP\n",
      "TRINITY_DN11157_c0_g1\tstress response\tP\n",
      "TRINITY_DN294144_c2_g1\tDNA metabolism\tP\n",
      "TRINITY_DN294144_c2_g1\tstress response\tP\n",
      "TRINITY_DN40815_c0_g1\tother molecular function\tF\n",
      "   45025 Zostera_full_Blastquery-GOslim.tab\n"
     ]
    }
   ],
   "source": [
    "#Check output\n",
    "!head Zostera_full_Blastquery-GOslim.tab\n",
    "!wc -l Zostera_full_Blastquery-GOslim.tab"
   ]
  },
  {
   "cell_type": "markdown",
   "metadata": {},
   "source": [
    "#### 6d. Obtain Biological Process GO Slim terms"
   ]
  },
  {
   "cell_type": "code",
   "execution_count": 26,
   "metadata": {
    "collapsed": false
   },
   "outputs": [
    {
     "name": "stdout",
     "output_type": "stream",
     "text": [
      "TRINITY_DN102005_c0_g1\ttransport\n",
      "TRINITY_DN102005_c0_g1\ttransport\n",
      "TRINITY_DN102012_c0_g1\tother metabolic processes\n",
      "TRINITY_DN102012_c0_g1\tother metabolic processes\n",
      "TRINITY_DN102012_c0_g1\tother metabolic processes\n",
      "TRINITY_DN102016_c0_g1\tcell organization and biogenesis\n",
      "TRINITY_DN102016_c0_g1\tdevelopmental processes\n",
      "TRINITY_DN102016_c0_g1\ttransport\n",
      "TRINITY_DN102024_c0_g1\tother metabolic processes\n",
      "TRINITY_DN102050_c0_g1\tcell organization and biogenesis\n",
      "   16552 Zostera_full_Blastquery-GOslim-BP.sorted\n"
     ]
    }
   ],
   "source": [
    "#Get BP entries for each gene ID. Multiple GOslim terms may be matched with one ID.\n",
    "#Confirm GOslim terms were obtained\n",
    "#Count the number of entries\n",
    "!awk -F\"\\t\" '$3 == \"P\" { print $1\"\\t\"$2 }' Zostera_full_Blastquery-GOslim.tab | sort > Zostera_full_Blastquery-GOslim-BP.sorted\n",
    "!head Zostera_full_Blastquery-GOslim-BP.sorted\n",
    "!wc -l Zostera_full_Blastquery-GOslim-BP.sorted"
   ]
  },
  {
   "cell_type": "code",
   "execution_count": 27,
   "metadata": {
    "collapsed": false
   },
   "outputs": [
    {
     "name": "stdout",
     "output_type": "stream",
     "text": [
      "TRINITY_DN102005_c0_g1\ttransport\n",
      "TRINITY_DN102012_c0_g1\tother metabolic processes\n",
      "TRINITY_DN102016_c0_g1\tcell organization and biogenesis\n",
      "TRINITY_DN102016_c0_g1\tdevelopmental processes\n",
      "TRINITY_DN102016_c0_g1\ttransport\n",
      "TRINITY_DN102024_c0_g1\tother metabolic processes\n",
      "TRINITY_DN102050_c0_g1\tcell organization and biogenesis\n",
      "TRINITY_DN102050_c0_g1\tdevelopmental processes\n",
      "TRINITY_DN102050_c0_g1\tother biological processes\n",
      "TRINITY_DN102050_c0_g1\tprotein metabolism\n",
      "    9337 Zostera_full_Blastquery-GOslim-BP.sorted.unique\n"
     ]
    }
   ],
   "source": [
    "#Remove duplicate entries\n",
    "#Count the number of unique entries\n",
    "!uniq Zostera_full_Blastquery-GOslim-BP.sorted > Zostera_full_Blastquery-GOslim-BP.sorted.unique\n",
    "!head Zostera_full_Blastquery-GOslim-BP.sorted.unique\n",
    "!wc -l Zostera_full_Blastquery-GOslim-BP.sorted.unique"
   ]
  },
  {
   "cell_type": "code",
   "execution_count": 28,
   "metadata": {
    "collapsed": false
   },
   "outputs": [
    {
     "name": "stdout",
     "output_type": "stream",
     "text": [
      "    8563\r\n"
     ]
    }
   ],
   "source": [
    "#Count the number of unique IDs with GOSlim terms\n",
    "!uniq -f1 Zostera_full_Blastquery-GOslim-BP.sorted.unique | wc -l"
   ]
  },
  {
   "cell_type": "code",
   "execution_count": 29,
   "metadata": {
    "collapsed": false
   },
   "outputs": [
    {
     "name": "stdout",
     "output_type": "stream",
     "text": [
      "TRINITY_DN102005_c0_g1\ttransport\n",
      "TRINITY_DN102012_c0_g1\tother metabolic processes\n",
      "TRINITY_DN102016_c0_g1\tcell organization and biogenesis\n",
      "TRINITY_DN102016_c0_g1\tdevelopmental processes\n",
      "TRINITY_DN102016_c0_g1\ttransport\n",
      "TRINITY_DN102024_c0_g1\tother metabolic processes\n",
      "TRINITY_DN102050_c0_g1\tcell organization and biogenesis\n",
      "TRINITY_DN102050_c0_g1\tdevelopmental processes\n",
      "TRINITY_DN102050_c0_g1\tprotein metabolism\n",
      "TRINITY_DN102051_c0_g1\ttransport\n",
      "    8153 Zostera_full_Blastquery-GOslim-BP.sorted.unique.noOther\n"
     ]
    }
   ],
   "source": [
    "#Remove all \"other biological processes\"\n",
    "#Confirm removal\n",
    "#Count the number of entries\n",
    "!grep --invert-match \"other biological processes\" Zostera_full_Blastquery-GOslim-BP.sorted.unique \\\n",
    "> Zostera_full_Blastquery-GOslim-BP.sorted.unique.noOther\n",
    "!head Zostera_full_Blastquery-GOslim-BP.sorted.unique.noOther\n",
    "!wc -l Zostera_full_Blastquery-GOslim-BP.sorted.unique.noOther"
   ]
  },
  {
   "cell_type": "code",
   "execution_count": 30,
   "metadata": {
    "collapsed": false
   },
   "outputs": [
    {
     "name": "stdout",
     "output_type": "stream",
     "text": [
      "    7312\r\n"
     ]
    }
   ],
   "source": [
    "#Count the number of unique CGI IDs with defined GOSlim terms\n",
    "!uniq -f1 Zostera_full_blastquery-GOslim-BP.sorted.unique.noOther | wc -l"
   ]
  },
  {
   "cell_type": "markdown",
   "metadata": {},
   "source": [
    "#### 6e. Match GO Slim terms to original annotations"
   ]
  },
  {
   "cell_type": "code",
   "execution_count": 31,
   "metadata": {
    "collapsed": true
   },
   "outputs": [],
   "source": [
    "#Join protein annotation with GO Slim terms (unique, no other)\n",
    "#Use a left join so unpaired lines from GOSlim terms are still printed\n",
    "!join -1 1 -2 1 -t $'\\t' \\\n",
    "Zostera_full_blastquery-GOslim-BP.sorted.unique.noOther \\\n",
    "../../data/Zostera-blast-annot-withGeneID-noIsoforms.tab \\\n",
    "| awk -F'\\t' -v OFS='\\t' '{print $1, $2, $6}' \\\n",
    "> Zostera_full_blastquery-GOslim-BP.sorted.unique.noOther.annot"
   ]
  },
  {
   "cell_type": "code",
   "execution_count": 32,
   "metadata": {
    "collapsed": false,
    "scrolled": true
   },
   "outputs": [
    {
     "name": "stdout",
     "output_type": "stream",
     "text": [
      "TRINITY_DN102005_c0_g1\ttransport\tProtein transport protein SEC13\n",
      "TRINITY_DN102012_c0_g1\tother metabolic processes\tGDP-mannose 4,6-dehydratase (EC 4.2.1.47) (GDP-D-mannose dehydratase)\n",
      "TRINITY_DN102016_c0_g1\tcell organization and biogenesis\tMyosin-8 (Myosin XI B) (AtXIB)\n",
      "TRINITY_DN102016_c0_g1\tdevelopmental processes\tMyosin-8 (Myosin XI B) (AtXIB)\n",
      "TRINITY_DN102016_c0_g1\ttransport\tMyosin-8 (Myosin XI B) (AtXIB)\n",
      "TRINITY_DN102024_c0_g1\tother metabolic processes\tKelch repeat-containing protein At3g27220\n",
      "TRINITY_DN102050_c0_g1\tcell organization and biogenesis\tWD repeat-containing protein 1 (Actin-interacting protein 1) (AIP1)\n",
      "TRINITY_DN102050_c0_g1\tdevelopmental processes\tWD repeat-containing protein 1 (Actin-interacting protein 1) (AIP1)\n",
      "TRINITY_DN102050_c0_g1\tprotein metabolism\tWD repeat-containing protein 1 (Actin-interacting protein 1) (AIP1)\n",
      "TRINITY_DN102051_c0_g1\ttransport\tATP-binding cassette sub-family G member 4\n",
      "    8153 Zostera_full_blastquery-GOslim-BP.sorted.unique.noOther.annot\n"
     ]
    }
   ],
   "source": [
    "#Check output\n",
    "#Count lines (same as original file)\n",
    "!head Zostera_full_blastquery-GOslim-BP.sorted.unique.noOther.annot\n",
    "!wc -l Zostera_full_blastquery-GOslim-BP.sorted.unique.noOther.annot"
   ]
  },
  {
   "cell_type": "markdown",
   "metadata": {},
   "source": [
    "### 7. Obtain Molecular Function GO Slim terms"
   ]
  },
  {
   "cell_type": "code",
   "execution_count": 7,
   "metadata": {
    "collapsed": false
   },
   "outputs": [
    {
     "name": "stdout",
     "output_type": "stream",
     "text": [
      "TRINITY_DN102431_c0_g1\tnucleic acid binding activity\n",
      "TRINITY_DN102431_c0_g1\tother molecular function\n",
      "TRINITY_DN102431_c0_g1\tother molecular function\n",
      "TRINITY_DN104822_c0_g1\tnucleic acid binding activity\n",
      "TRINITY_DN104822_c0_g1\tother molecular function\n",
      "TRINITY_DN111410_c0_g1\tnucleic acid binding activity\n",
      "TRINITY_DN111543_c0_g1\tother molecular function\n",
      "TRINITY_DN111543_c0_g1\tother molecular function\n",
      "TRINITY_DN111543_c0_g1\tother molecular function\n",
      "TRINITY_DN111591_c0_g1\tother molecular function\n",
      "    1212 Zostera_Blastquery-GOslim-MF.sorted\n"
     ]
    }
   ],
   "source": [
    "#Get MF entries for each gene ID. Multiple GOslim terms may be matched with one ID.\n",
    "#Confirm GOslim terms were obtained\n",
    "#Count the number of entries\n",
    "!awk -F\"\\t\" '$3 == \"F\" { print $1\"\\t\"$2 }' Zostera_Blastquery-GOslim.tab | sort > Zostera_Blastquery-GOslim-MF.sorted\n",
    "!head Zostera_Blastquery-GOslim-MF.sorted\n",
    "!wc -l Zostera_Blastquery-GOslim-MF.sorted"
   ]
  },
  {
   "cell_type": "code",
   "execution_count": 8,
   "metadata": {
    "collapsed": false
   },
   "outputs": [
    {
     "name": "stdout",
     "output_type": "stream",
     "text": [
      "TRINITY_DN102431_c0_g1\tnucleic acid binding activity\n",
      "TRINITY_DN102431_c0_g1\tother molecular function\n",
      "TRINITY_DN104822_c0_g1\tnucleic acid binding activity\n",
      "TRINITY_DN104822_c0_g1\tother molecular function\n",
      "TRINITY_DN111410_c0_g1\tnucleic acid binding activity\n",
      "TRINITY_DN111543_c0_g1\tother molecular function\n",
      "TRINITY_DN111591_c0_g1\tother molecular function\n",
      "TRINITY_DN139711_c0_g1\tnucleic acid binding activity\n",
      "TRINITY_DN151645_c0_g1\tother molecular function\n",
      "TRINITY_DN151645_c0_g1\ttransporter activity\n",
      "     666 Zostera_Blastquery-GOslim-MF.sorted.unique\n"
     ]
    }
   ],
   "source": [
    "#Remove duplicate entries\n",
    "#Count the number of unique entries\n",
    "!uniq Zostera_Blastquery-GOslim-MF.sorted > Zostera_Blastquery-GOslim-MF.sorted.unique\n",
    "!head Zostera_Blastquery-GOslim-MF.sorted.unique\n",
    "!wc -l Zostera_Blastquery-GOslim-MF.sorted.unique"
   ]
  },
  {
   "cell_type": "code",
   "execution_count": 9,
   "metadata": {
    "collapsed": false
   },
   "outputs": [
    {
     "name": "stdout",
     "output_type": "stream",
     "text": [
      "     446\r\n"
     ]
    }
   ],
   "source": [
    "#Count the number of unique IDs with GOSlim terms\n",
    "!uniq -f1 Zostera_Blastquery-GOslim-MF.sorted.unique | wc -l"
   ]
  },
  {
   "cell_type": "code",
   "execution_count": 10,
   "metadata": {
    "collapsed": false,
    "scrolled": true
   },
   "outputs": [
    {
     "name": "stdout",
     "output_type": "stream",
     "text": [
      "TRINITY_DN102431_c0_g1\tnucleic acid binding activity\n",
      "TRINITY_DN102431_c0_g1\tother molecular function\n",
      "TRINITY_DN104822_c0_g1\tnucleic acid binding activity\n",
      "TRINITY_DN104822_c0_g1\tother molecular function\n",
      "TRINITY_DN111410_c0_g1\tnucleic acid binding activity\n",
      "TRINITY_DN111543_c0_g1\tother molecular function\n",
      "TRINITY_DN111591_c0_g1\tother molecular function\n",
      "TRINITY_DN139711_c0_g1\tnucleic acid binding activity\n",
      "TRINITY_DN151645_c0_g1\tother molecular function\n",
      "TRINITY_DN151645_c0_g1\ttransporter activity\n",
      "     666 Zostera_Blastquery-GOslim-MF.sorted.unique.noOther\n"
     ]
    }
   ],
   "source": [
    "#Remove all \"other biological processes\"\n",
    "#Confirm removal\n",
    "#Count the number of entries\n",
    "!grep --invert-match \"other molecular functions\" Zostera_Blastquery-GOslim-MF.sorted.unique \\\n",
    "> Zostera_Blastquery-GOslim-MF.sorted.unique.noOther\n",
    "!head Zostera_Blastquery-GOslim-MF.sorted.unique.noOther\n",
    "!wc -l Zostera_Blastquery-GOslim-MF.sorted.unique.noOther"
   ]
  },
  {
   "cell_type": "code",
   "execution_count": 11,
   "metadata": {
    "collapsed": false,
    "scrolled": true
   },
   "outputs": [
    {
     "name": "stdout",
     "output_type": "stream",
     "text": [
      "     446\r\n"
     ]
    }
   ],
   "source": [
    "#Count the number of unique CGI IDs with defined GOSlim terms\n",
    "!uniq -f1 Zostera_blastquery-GOslim-MF.sorted.unique.noOther | wc -l"
   ]
  },
  {
   "cell_type": "markdown",
   "metadata": {},
   "source": [
    "### 8. Match GO Slim terms to original annotations"
   ]
  },
  {
   "cell_type": "code",
   "execution_count": 12,
   "metadata": {
    "collapsed": true
   },
   "outputs": [],
   "source": [
    "#Join protein annotation with GO Slim terms (unique, no other)\n",
    "#Use a left join so unpaired lines from GOSlim terms are still printed\n",
    "!join -1 1 -2 1 -t $'\\t' \\\n",
    "Zostera_blastquery-GOslim-MF.sorted.unique.noOther \\\n",
    "../../data/Zostera-blast-annot-withGeneID-noIsoforms.tab \\\n",
    "| awk -F'\\t' -v OFS='\\t' '{print $1, $2, $6}' \\\n",
    "> Zostera_blastquery-GOslim-MF.sorted.unique.noOther.annot"
   ]
  },
  {
   "cell_type": "code",
   "execution_count": 13,
   "metadata": {
    "collapsed": false,
    "scrolled": true
   },
   "outputs": [
    {
     "name": "stdout",
     "output_type": "stream",
     "text": [
      "TRINITY_DN102431_c0_g1\tnucleic acid binding activity\tTyrosine--tRNA ligase, cytoplasmic (EC 6.1.1.1) (Tyrosyl-tRNA synthetase) (TyrRS)\n",
      "TRINITY_DN102431_c0_g1\tother molecular function\tTyrosine--tRNA ligase, cytoplasmic (EC 6.1.1.1) (Tyrosyl-tRNA synthetase) (TyrRS)\n",
      "TRINITY_DN104822_c0_g1\tnucleic acid binding activity\tZinc finger A20 and AN1 domain-containing stress-associated protein 10 (OsSAP10)\n",
      "TRINITY_DN104822_c0_g1\tother molecular function\tZinc finger A20 and AN1 domain-containing stress-associated protein 10 (OsSAP10)\n",
      "TRINITY_DN111410_c0_g1\tnucleic acid binding activity\tNucleolar MIF4G domain-containing protein 1 homolog\n",
      "TRINITY_DN111543_c0_g1\tother molecular function\tPeroxisomal acyl-coenzyme A oxidase 1 (AOX 1) (EC 1.3.3.6) (Long-chain acyl-CoA oxidase) (AtCX1)\n",
      "TRINITY_DN111591_c0_g1\tother molecular function\tDelta-aminolevulinic acid dehydratase (ALAD) (ALADH) (EC 4.2.1.24) (Porphobilinogen synthase)\n",
      "TRINITY_DN139711_c0_g1\tnucleic acid binding activity\tPolyadenylate-binding protein (PABP) (Poly(A)-binding protein)\n",
      "TRINITY_DN151645_c0_g1\tother molecular function\tATP-binding cassette sub-family B member 9 (ATP-binding cassette transporter 9) (ABC transporter 9 protein) (hABCB9) (TAP-like protein) (TAPL)\n",
      "TRINITY_DN151645_c0_g1\ttransporter activity\tATP-binding cassette sub-family B member 9 (ATP-binding cassette transporter 9) (ABC transporter 9 protein) (hABCB9) (TAP-like protein) (TAPL)\n",
      "     666 Zostera_blastquery-GOslim-MF.sorted.unique.noOther.annot\n"
     ]
    }
   ],
   "source": [
    "#Check output\n",
    "#Count lines (same as original file)\n",
    "!head Zostera_blastquery-GOslim-MF.sorted.unique.noOther.annot\n",
    "!wc -l Zostera_blastquery-GOslim-MF.sorted.unique.noOther.annot"
   ]
  },
  {
   "cell_type": "markdown",
   "metadata": {},
   "source": [
    "### 9. Match GOSlim terms with full `blastx` output"
   ]
  },
  {
   "cell_type": "markdown",
   "metadata": {},
   "source": [
    "In addition to having GO Slim terms assigned to DEG, having that information for all detected genes (gene background) is helpful."
   ]
  },
  {
   "cell_type": "markdown",
   "metadata": {},
   "source": [
    "#### 9a. Obtain Molecular Function GO Slim terms"
   ]
  },
  {
   "cell_type": "code",
   "execution_count": 14,
   "metadata": {
    "collapsed": false
   },
   "outputs": [
    {
     "name": "stdout",
     "output_type": "stream",
     "text": [
      "TRINITY_DN102005_c0_g1\tother molecular function\n",
      "TRINITY_DN102006_c0_g1\tother molecular function\n",
      "TRINITY_DN102006_c0_g1\tother molecular function\n",
      "TRINITY_DN102012_c0_g1\tother molecular function\n",
      "TRINITY_DN102012_c0_g1\tother molecular function\n",
      "TRINITY_DN102016_c0_g1\tcytoskeletal activity\n",
      "TRINITY_DN102016_c0_g1\tcytoskeletal activity\n",
      "TRINITY_DN102016_c0_g1\tother molecular function\n",
      "TRINITY_DN102016_c0_g1\tother molecular function\n",
      "TRINITY_DN102050_c0_g1\tcytoskeletal activity\n",
      "   12169 Zostera_full_Blastquery-GOslim-MF.sorted\n"
     ]
    }
   ],
   "source": [
    "#Get MF entries for each gene ID. Multiple GOslim terms may be matched with one ID.\n",
    "#Confirm GOslim terms were obtained\n",
    "#Count the number of entries\n",
    "!awk -F\"\\t\" '$3 == \"F\" { print $1\"\\t\"$2 }' Zostera_full_Blastquery-GOslim.tab | sort > Zostera_full_Blastquery-GOslim-MF.sorted\n",
    "!head Zostera_full_Blastquery-GOslim-MF.sorted\n",
    "!wc -l Zostera_full_Blastquery-GOslim-MF.sorted"
   ]
  },
  {
   "cell_type": "code",
   "execution_count": 15,
   "metadata": {
    "collapsed": false
   },
   "outputs": [
    {
     "name": "stdout",
     "output_type": "stream",
     "text": [
      "TRINITY_DN102005_c0_g1\tother molecular function\n",
      "TRINITY_DN102006_c0_g1\tother molecular function\n",
      "TRINITY_DN102012_c0_g1\tother molecular function\n",
      "TRINITY_DN102016_c0_g1\tcytoskeletal activity\n",
      "TRINITY_DN102016_c0_g1\tother molecular function\n",
      "TRINITY_DN102050_c0_g1\tcytoskeletal activity\n",
      "TRINITY_DN102051_c0_g1\tother molecular function\n",
      "TRINITY_DN102051_c0_g1\ttransporter activity\n",
      "TRINITY_DN102060_c0_g1\tenzyme regulator activity\n",
      "TRINITY_DN102062_c0_g1\tother molecular function\n",
      "    6511 Zostera_full_Blastquery-GOslim-MF.sorted.unique\n"
     ]
    }
   ],
   "source": [
    "#Remove duplicate entries\n",
    "#Count the number of unique entries\n",
    "!uniq Zostera_full_Blastquery-GOslim-MF.sorted > Zostera_full_Blastquery-GOslim-MF.sorted.unique\n",
    "!head Zostera_full_Blastquery-GOslim-MF.sorted.unique\n",
    "!wc -l Zostera_full_Blastquery-GOslim-MF.sorted.unique"
   ]
  },
  {
   "cell_type": "code",
   "execution_count": 16,
   "metadata": {
    "collapsed": false
   },
   "outputs": [
    {
     "name": "stdout",
     "output_type": "stream",
     "text": [
      "    4070\r\n"
     ]
    }
   ],
   "source": [
    "#Count the number of unique IDs with GOSlim terms\n",
    "!uniq -f1 Zostera_full_Blastquery-GOslim-MF.sorted.unique | wc -l"
   ]
  },
  {
   "cell_type": "code",
   "execution_count": 17,
   "metadata": {
    "collapsed": false
   },
   "outputs": [
    {
     "name": "stdout",
     "output_type": "stream",
     "text": [
      "TRINITY_DN102005_c0_g1\tother molecular function\n",
      "TRINITY_DN102006_c0_g1\tother molecular function\n",
      "TRINITY_DN102012_c0_g1\tother molecular function\n",
      "TRINITY_DN102016_c0_g1\tcytoskeletal activity\n",
      "TRINITY_DN102016_c0_g1\tother molecular function\n",
      "TRINITY_DN102050_c0_g1\tcytoskeletal activity\n",
      "TRINITY_DN102051_c0_g1\tother molecular function\n",
      "TRINITY_DN102051_c0_g1\ttransporter activity\n",
      "TRINITY_DN102060_c0_g1\tenzyme regulator activity\n",
      "TRINITY_DN102062_c0_g1\tother molecular function\n",
      "    6511 Zostera_full_Blastquery-GOslim-MF.sorted.unique.noOther\n"
     ]
    }
   ],
   "source": [
    "#Remove all \"other molecular functions\"\n",
    "#Confirm removal\n",
    "#Count the number of entries\n",
    "!grep --invert-match \"other molecular functions\" Zostera_full_Blastquery-GOslim-MF.sorted.unique \\\n",
    "> Zostera_full_Blastquery-GOslim-MF.sorted.unique.noOther\n",
    "!head Zostera_full_Blastquery-GOslim-MF.sorted.unique.noOther\n",
    "!wc -l Zostera_full_Blastquery-GOslim-MF.sorted.unique.noOther"
   ]
  },
  {
   "cell_type": "code",
   "execution_count": 18,
   "metadata": {
    "collapsed": false
   },
   "outputs": [
    {
     "name": "stdout",
     "output_type": "stream",
     "text": [
      "    4070\r\n"
     ]
    }
   ],
   "source": [
    "#Count the number of unique CGI IDs with defined GOSlim terms\n",
    "!uniq -f1 Zostera_full_blastquery-GOslim-MF.sorted.unique.noOther | wc -l"
   ]
  },
  {
   "cell_type": "markdown",
   "metadata": {},
   "source": [
    "#### 6e. Match GO Slim terms to original annotations"
   ]
  },
  {
   "cell_type": "code",
   "execution_count": 19,
   "metadata": {
    "collapsed": true
   },
   "outputs": [],
   "source": [
    "#Join protein annotation with GO Slim terms (unique, no other)\n",
    "#Use a left join so unpaired lines from GOSlim terms are still printed\n",
    "!join -1 1 -2 1 -t $'\\t' \\\n",
    "Zostera_full_blastquery-GOslim-MF.sorted.unique.noOther \\\n",
    "../../data/Zostera-blast-annot-withGeneID-noIsoforms.tab \\\n",
    "| awk -F'\\t' -v OFS='\\t' '{print $1, $2, $6}' \\\n",
    "> Zostera_full_blastquery-GOslim-MF.sorted.unique.noOther.annot"
   ]
  },
  {
   "cell_type": "code",
   "execution_count": 20,
   "metadata": {
    "collapsed": false,
    "scrolled": false
   },
   "outputs": [
    {
     "name": "stdout",
     "output_type": "stream",
     "text": [
      "TRINITY_DN102005_c0_g1\tother molecular function\tProtein transport protein SEC13\n",
      "TRINITY_DN102006_c0_g1\tother molecular function\tApoptosis-inducing factor homolog A (EC 1.-.-.-)\n",
      "TRINITY_DN102012_c0_g1\tother molecular function\tGDP-mannose 4,6-dehydratase (EC 4.2.1.47) (GDP-D-mannose dehydratase)\n",
      "TRINITY_DN102016_c0_g1\tcytoskeletal activity\tMyosin-8 (Myosin XI B) (AtXIB)\n",
      "TRINITY_DN102016_c0_g1\tother molecular function\tMyosin-8 (Myosin XI B) (AtXIB)\n",
      "TRINITY_DN102050_c0_g1\tcytoskeletal activity\tWD repeat-containing protein 1 (Actin-interacting protein 1) (AIP1)\n",
      "TRINITY_DN102051_c0_g1\tother molecular function\tATP-binding cassette sub-family G member 4\n",
      "TRINITY_DN102051_c0_g1\ttransporter activity\tATP-binding cassette sub-family G member 4\n",
      "TRINITY_DN102060_c0_g1\tenzyme regulator activity\tInter-alpha-trypsin inhibitor heavy chain H5 (ITI heavy chain H5) (ITI-HC5) (Inter-alpha-inhibitor heavy chain 5)\n",
      "TRINITY_DN102062_c0_g1\tother molecular function\tFumarylacetoacetate hydrolase domain-containing protein 1 (EC 3.-.-.-)\n",
      "    6511 Zostera_full_blastquery-GOslim-MF.sorted.unique.noOther.annot\n"
     ]
    }
   ],
   "source": [
    "#Check output\n",
    "#Count lines (same as original file)\n",
    "!head Zostera_full_blastquery-GOslim-MF.sorted.unique.noOther.annot\n",
    "!wc -l Zostera_full_blastquery-GOslim-MF.sorted.unique.noOther.annot"
   ]
  },
  {
   "cell_type": "markdown",
   "metadata": {},
   "source": [
    "## *L. zosterae*"
   ]
  },
  {
   "cell_type": "markdown",
   "metadata": {},
   "source": [
    "### 1. Format differentially expressed gene lists"
   ]
  },
  {
   "cell_type": "code",
   "execution_count": 52,
   "metadata": {
    "collapsed": false
   },
   "outputs": [
    {
     "name": "stdout",
     "output_type": "stream",
     "text": [
      "\tGeneID\tlogFC\tlogCPM\tF\tPValue\tFDR\tAccession\tIsoform\tE-value\tProteinN\tGO_BP\tGO_CC\tGO_MF\tGO\tStatus\tOrganism\tS_10B\tS_9A\tS_13A\tS_42A\tS_46B\tS_47B\tS_48B\tS_2A\tS_2B\tS_7B\tS_8B\tS_33A\tS_36B\tS_38A\tS_40A\n",
      "1\tTRINITY_DN173970_c0_g1\t19.7709273\t14.04275312\t103.1232144\t7.15E-12\t7.09E-10\tQ54IP4\tTRINITY_DN173970_c0_g1_i1\t1.90E-06\tDual specificity protein kinase shkB (EC 2.7.11.1) (SH2 domain-containing protein 2) (SH2 domain-containing protein B)\t\tmembrane [GO:0016020]\tATP binding [GO:0005524]; protein serine/threonine kinase activity [GO:0004674]; protein tyrosine kinase activity [GO:0004713]\tGO:0004674; GO:0004713; GO:0005524; GO:0016020\treviewed\tDictyostelium discoideum (Slime mold)\t1149\t2612\t930\t742\t1004\t757\t488\t0\t0\t0\t2\t1\t0\t2\t1\n",
      "     100 ../EdgeR/DE.EXP.CON.FDR.nZ.Annot.txt\n"
     ]
    }
   ],
   "source": [
    "#Check DEG file\n",
    "!head -n2 ../EdgeR/DE.EXP.CON.FDR.nZ.Annot.txt\n",
    "!wc -l ../EdgeR/DE.EXP.CON.FDR.nZ.Annot.txt"
   ]
  },
  {
   "cell_type": "code",
   "execution_count": 53,
   "metadata": {
    "collapsed": true,
    "scrolled": true
   },
   "outputs": [],
   "source": [
    "#Remove header\n",
    "# Sort\n",
    "#Only keep gene ID and GOterms\n",
    "#Save as new file\n",
    "!tail -n +2 ../EdgeR/DE.EXP.CON.FDR.nZ.Annot.txt \\\n",
    "| sort \\\n",
    "| awk -F'\\t' -v OFS='\\t' '{print $8, $2, $15}' \\\n",
    "> nonZostera_blast-annot.tab"
   ]
  },
  {
   "cell_type": "code",
   "execution_count": 55,
   "metadata": {
    "collapsed": false,
    "scrolled": true
   },
   "outputs": [
    {
     "name": "stdout",
     "output_type": "stream",
     "text": [
      "Q54IP4\tTRINITY_DN173970_c0_g1\tGO:0004674; GO:0004713; GO:0005524; GO:0016020\n",
      "Q8Y457\tTRINITY_DN251191_c0_g2\tGO:0003723; GO:0009982; GO:0031119; GO:0106029\n",
      "Q0V6M5\tTRINITY_DN66609_c0_g1\tGO:0004310; GO:0006696; GO:0016021; GO:0016117; GO:0016767; GO:0016872; GO:0051996\n",
      "Q8IXJ6\tTRINITY_DN255273_c0_g1\tGO:0000122; GO:0000183; GO:0000781; GO:0003682; GO:0004407; GO:0005634; GO:0005677; GO:0005694; GO:0005720; GO:0005730; GO:0005737; GO:0005739; GO:0005813; GO:0005814; GO:0005819; GO:0005829; GO:0005874; GO:0005886; GO:0006342; GO:0006348; GO:0006471; GO:0006476; GO:0006914; GO:0007096; GO:0008134; GO:0008270; GO:0008285; GO:0010507; GO:0010801; GO:0014065; GO:0016458; GO:0016575; GO:0017136; GO:0021762; GO:0022011; GO:0030426; GO:0030496; GO:0031641; GO:0032436; GO:0033010; GO:0033270; GO:0033558; GO:0034599; GO:0034979; GO:0034983; GO:0035035; GO:0035729; GO:0042177; GO:0042325; GO:0042826; GO:0042903; GO:0043130; GO:0043161; GO:0043204; GO:0043209; GO:0043219; GO:0043220; GO:0043388; GO:0043491; GO:0044224; GO:0044242; GO:0045087; GO:0045599; GO:0045836; GO:0045843; GO:0045892; GO:0045944; GO:0046970; GO:0048012; GO:0048471; GO:0051301; GO:0051321; GO:0051726; GO:0051775; GO:0051781; GO:0051987; GO:0061428; GO:0061433; GO:0070403; GO:0070446; GO:0070932; GO:0070933; GO:0071219; GO:0071456; GO:0071872; GO:0072686; GO:0072687; GO:0090042; GO:0097386; GO:1900119; GO:1900195; GO:1900226; GO:1900425; GO:2000378; GO:2000777\n",
      "Q5BJJ7\tTRINITY_DN255903_c0_g1\tGO:0000079; GO:0000132; GO:0000226; GO:0005634; GO:0005813; GO:0005814; GO:0006281; GO:0006974; GO:0007052; GO:0015631; GO:0019207; GO:0034453; GO:0090307; GO:0097431\n",
      "Q29350\tTRINITY_DN256449_c0_g1\tGO:0000398; GO:0005681; GO:0016607; GO:0030628; GO:0046872; GO:0089701\n",
      "Q6AYG5\tTRINITY_DN259150_c0_g1\tGO:0004300; GO:0005829; GO:0006635; GO:0016831\n",
      "P35728\tTRINITY_DN271642_c0_g1\tGO:0005634; GO:0005829; GO:0005847; GO:0006378; GO:0008270; GO:0016567; GO:0036002; GO:0061630; GO:0098789\n",
      "O42881\tTRINITY_DN271666_c1_g1\tGO:0002084; GO:0005634; GO:0005737; GO:0005829; GO:0006631; GO:0008474; GO:0052689\n",
      "Q6P7K0\tTRINITY_DN274712_c0_g1\tGO:0005829; GO:0016787\n",
      "     100 nonZostera_blast-annot.tab\n"
     ]
    }
   ],
   "source": [
    "#Check output\n",
    "!head nonZostera_blast-annot.tab\n",
    "!wc -l nonZostera_blast-annot.tab"
   ]
  },
  {
   "cell_type": "markdown",
   "metadata": {},
   "source": [
    "### 2. Unfold GOterms"
   ]
  },
  {
   "cell_type": "code",
   "execution_count": 56,
   "metadata": {
    "collapsed": true
   },
   "outputs": [],
   "source": [
    "%%bash \n",
    "\n",
    "# This script was originally written to address a specific problem that Rhonda was having\n",
    "\n",
    "# input_file is the initial, \"problem\" file\n",
    "# file is an intermediate file that most of the program works upon\n",
    "# output_file is the final file produced by the script\n",
    "input_file=\"nonZostera_blast-annot.tab\"\n",
    "file=\"nonZostera_intermediate.file\"\n",
    "output_file=\"nonZostera_blast-GO-unfolded.tab\"\n",
    "\n",
    "# sed command substitutes the \"; \" sequence to a tab and writes the new format to a new file.\n",
    "# This character sequence is how the GO terms are delimited in their field.\n",
    "sed $'s/; /\\t/g' \"$input_file\" > \"$file\"\n",
    "\n",
    "# Identify first field containing a GO term.\n",
    "# Search file with grep for \"GO:\" and pipe to awk.\n",
    "# Awk sets tab as field delimiter (-F'\\t'), runs a for loop that looks for \"GO:\" (~/GO:/), and then prints the field number).\n",
    "# Awk results are piped to sort, which sorts unique by number (-ug).\n",
    "# Sort results are piped to head to retrieve the lowest value (i.e. the top of the list; \"-n1\").\n",
    "begin_goterms=$(grep \"GO:\" \"$file\" | awk -F'\\t' '{for (i=1;i<=NF;i++) if($i ~/GO:/) print i}' | sort -ug | head -n1)\n",
    "\n",
    "# While loop to process each line of the input file.\n",
    "while read -r line\n",
    "\tdo\n",
    "\t\n",
    "\t# Send contents of the current line to awk.\n",
    "\t# Set the field separator as a tab (-F'\\t') and print the number of fields in that line.\n",
    "\t# Save the results of the echo/awk pipe (i.e. number of fields) to the variable \"max_field\".\n",
    "\tmax_field=$(echo \"$line\" | awk -F'\\t' '{print NF}')\n",
    "\n",
    "\t# Send contents of current line to cut.\n",
    "\t# Cut fields (i.e. retain those fields) 1-12.\n",
    "\t# Save the results of the echo/cut pipe (i.e. fields 1-12) to the variable \"fixed_fields\"\n",
    "\tfixed_fields=$(echo \"$line\" | cut -f1-2)\n",
    "\n",
    "\t# Since not all the lines contain the same number of fields (e.g. may not have GO terms),\n",
    "\t# evaluate the number of fields in each line to determine how to handle current line.\n",
    "\n",
    "\t# If the value in max_field is less than the field number where the GO terms begin,\n",
    "\t# then just print the current line (%s) followed by a newline (\\n).\n",
    "\tif (( \"$max_field\" < \"$begin_goterms\" ))\n",
    "\t\tthen printf \"%s\\n\" \"$line\"\n",
    "\t\t\telse\n",
    "\n",
    "\t\t\t# Send contents of current line (which contains GO terms) to cut.\n",
    "\t\t\t# Cut fields (i.e. retain those fields) 13 to whatever the last field is in the curent line.\n",
    "\t\t\t# Save the results of the echo/cut pipe (i.e. all the GO terms fields) to the variable \"goterms\".\n",
    "\t\t\tgoterms=$(echo \"$line\" | cut -f\"$begin_goterms\"-\"$max_field\")\n",
    "\t\t\t\n",
    "\t\t\t# Assign values in the variable \"goterms\" to a new indexed array (called \"array\"), \n",
    "\t\t\t# with tab delimiter (IFS=$'\\t')\n",
    "\t\t\tIFS=$'\\t' read -r -a array <<<\"$goterms\"\n",
    "\t\t\t\n",
    "\t\t\t# Iterate through each element of the array.\n",
    "\t\t\t# Print the first 12 fields (i.e. the fields stored in \"fixed_fields\") followed by a tab (%s\\t).\n",
    "\t\t\t# Print the current element in the array (i.e. the current GO term) followed by a new line (%s\\n).\n",
    "\t\t\tfor element in \"${!array[@]}\"\t\n",
    "\t\t\t\tdo printf \"%s\\t%s\\n\" \"$fixed_fields\" \"${array[$element]}\"\n",
    "\t\t\tdone\n",
    "\tfi\n",
    "\n",
    "# Send the input file into the while loop and send the output to a file named \"rhonda_fixed.txt\".\n",
    "done < \"$file\" > \"$output_file\""
   ]
  },
  {
   "cell_type": "code",
   "execution_count": 57,
   "metadata": {
    "collapsed": false,
    "scrolled": false
   },
   "outputs": [
    {
     "name": "stdout",
     "output_type": "stream",
     "text": [
      "Q54IP4\tTRINITY_DN173970_c0_g1\tGO:0004674\r\n",
      "Q54IP4\tTRINITY_DN173970_c0_g1\tGO:0004713\r\n",
      "Q54IP4\tTRINITY_DN173970_c0_g1\tGO:0005524\r\n",
      "Q54IP4\tTRINITY_DN173970_c0_g1\tGO:0016020\r\n",
      "Q8Y457\tTRINITY_DN251191_c0_g2\tGO:0003723\r\n",
      "Q8Y457\tTRINITY_DN251191_c0_g2\tGO:0009982\r\n",
      "Q8Y457\tTRINITY_DN251191_c0_g2\tGO:0031119\r\n",
      "Q8Y457\tTRINITY_DN251191_c0_g2\tGO:0106029\r\n",
      "Q0V6M5\tTRINITY_DN66609_c0_g1\tGO:0004310\r\n",
      "Q0V6M5\tTRINITY_DN66609_c0_g1\tGO:0006696\r\n"
     ]
    }
   ],
   "source": [
    "#It was unfolded correctly\n",
    "!head nonZostera_blast-GO-unfolded.tab"
   ]
  },
  {
   "cell_type": "code",
   "execution_count": 60,
   "metadata": {
    "collapsed": true,
    "scrolled": true
   },
   "outputs": [],
   "source": [
    "!awk '{print $3\"\\t\"$2}' nonZostera_blast-GO-unfolded.tab | gsort -V > nonZostera_blast-GO-unfolded.sorted"
   ]
  },
  {
   "cell_type": "code",
   "execution_count": 61,
   "metadata": {
    "collapsed": false,
    "scrolled": false
   },
   "outputs": [
    {
     "name": "stdout",
     "output_type": "stream",
     "text": [
      "GO:0000079\tTRINITY_DN255903_c0_g1\r\n",
      "GO:0000079\tTRINITY_DN299755_c1_g3\r\n",
      "GO:0000122\tTRINITY_DN255273_c0_g1\r\n",
      "GO:0000122\tTRINITY_DN311716_c0_g2\r\n",
      "GO:0000132\tTRINITY_DN255903_c0_g1\r\n",
      "GO:0000139\tTRINITY_DN294657_c0_g1\r\n",
      "GO:0000183\tTRINITY_DN255273_c0_g1\r\n",
      "GO:0000188\tTRINITY_DN299755_c1_g3\r\n",
      "GO:0000212\tTRINITY_DN311731_c0_g1\r\n",
      "GO:0000226\tTRINITY_DN255903_c0_g1\r\n"
     ]
    }
   ],
   "source": [
    "#Extra space was removed and columns reorganized\n",
    "!head nonZostera_blast-GO-unfolded.sorted"
   ]
  },
  {
   "cell_type": "markdown",
   "metadata": {},
   "source": [
    "### 3. Match GOterms to GO Slim terms"
   ]
  },
  {
   "cell_type": "code",
   "execution_count": 68,
   "metadata": {
    "collapsed": true
   },
   "outputs": [],
   "source": [
    "#Join files to get GOslim for each query\n",
    "#Remove duplicate GOslim and queries removed\n",
    "#Sort files\n",
    "#Only print gene ID, GO Slim, and original GOterm\n",
    "!join -1 1 -2 1 -t $'\\t' \\\n",
    "nonZostera_blast-GO-unfolded.sorted \\\n",
    "GO-GOslim.sorted \\\n",
    "| uniq | awk -F'\\t' -v OFS='\\t' '{print $2, $4, $5}' \\\n",
    "> nonZostera_Blastquery-GOslim.tab"
   ]
  },
  {
   "cell_type": "code",
   "execution_count": 69,
   "metadata": {
    "collapsed": false,
    "scrolled": true
   },
   "outputs": [
    {
     "name": "stdout",
     "output_type": "stream",
     "text": [
      "TRINITY_DN255903_c0_g1\tcell cycle and proliferation\tP\n",
      "TRINITY_DN255903_c0_g1\tother metabolic processes\tP\n",
      "TRINITY_DN299755_c1_g3\tcell cycle and proliferation\tP\n",
      "TRINITY_DN299755_c1_g3\tother metabolic processes\tP\n",
      "TRINITY_DN255273_c0_g1\tRNA metabolism\tP\n",
      "TRINITY_DN311716_c0_g2\tRNA metabolism\tP\n",
      "TRINITY_DN255903_c0_g1\tcell cycle and proliferation\tP\n",
      "TRINITY_DN255903_c0_g1\tcell organization and biogenesis\tP\n",
      "TRINITY_DN294657_c0_g1\tER/Golgi\tC\n",
      "TRINITY_DN294657_c0_g1\tother membranes\tC\n",
      "     869 nonZostera_Blastquery-GOslim.tab\n"
     ]
    }
   ],
   "source": [
    "#Check output\n",
    "!head nonZostera_Blastquery-GOslim.tab\n",
    "!wc -l nonZostera_Blastquery-GOslim.tab"
   ]
  },
  {
   "cell_type": "code",
   "execution_count": 71,
   "metadata": {
    "collapsed": false,
    "scrolled": true
   },
   "outputs": [
    {
     "name": "stdout",
     "output_type": "stream",
     "text": [
      "     386\r\n"
     ]
    }
   ],
   "source": [
    "#Count the number of unique IDs with GOSlim terms\n",
    "!uniq -f1 nonZostera_Blastquery-GOslim.tab | wc -l"
   ]
  },
  {
   "cell_type": "markdown",
   "metadata": {},
   "source": [
    "### 4. Obtain Biological Process GO Slim terms"
   ]
  },
  {
   "cell_type": "code",
   "execution_count": 77,
   "metadata": {
    "collapsed": false
   },
   "outputs": [
    {
     "name": "stdout",
     "output_type": "stream",
     "text": [
      "TRINITY_DN2119_c0_g1\tcell organization and biogenesis\n",
      "TRINITY_DN2119_c0_g1\tother metabolic processes\n",
      "TRINITY_DN226644_c0_g1\tother biological processes\n",
      "TRINITY_DN226644_c0_g1\tprotein metabolism\n",
      "TRINITY_DN226644_c0_g1\tstress response\n",
      "TRINITY_DN227396_c0_g1\tDNA metabolism\n",
      "TRINITY_DN227396_c0_g1\tDNA metabolism\n",
      "TRINITY_DN227396_c0_g1\tother biological processes\n",
      "TRINITY_DN233011_c0_g1\tcell cycle and proliferation\n",
      "TRINITY_DN233011_c0_g1\tprotein metabolism\n",
      "     309 nonZostera_Blastquery-GOslim-BP.sorted\n"
     ]
    }
   ],
   "source": [
    "#Get BP entries for each gene ID. Multiple GOslim terms may be matched with one ID.\n",
    "#Confirm GOslim terms were obtained\n",
    "#Count the number of entries\n",
    "!awk -F\"\\t\" '$3 == \"P\" { print $1\"\\t\"$2 }' nonZostera_Blastquery-GOslim.tab | sort > nonZostera_Blastquery-GOslim-BP.sorted\n",
    "!head nonZostera_Blastquery-GOslim-BP.sorted\n",
    "!wc -l nonZostera_Blastquery-GOslim-BP.sorted"
   ]
  },
  {
   "cell_type": "code",
   "execution_count": 78,
   "metadata": {
    "collapsed": false
   },
   "outputs": [
    {
     "name": "stdout",
     "output_type": "stream",
     "text": [
      "TRINITY_DN2119_c0_g1\tcell organization and biogenesis\n",
      "TRINITY_DN2119_c0_g1\tother metabolic processes\n",
      "TRINITY_DN226644_c0_g1\tother biological processes\n",
      "TRINITY_DN226644_c0_g1\tprotein metabolism\n",
      "TRINITY_DN226644_c0_g1\tstress response\n",
      "TRINITY_DN227396_c0_g1\tDNA metabolism\n",
      "TRINITY_DN227396_c0_g1\tother biological processes\n",
      "TRINITY_DN233011_c0_g1\tcell cycle and proliferation\n",
      "TRINITY_DN233011_c0_g1\tprotein metabolism\n",
      "TRINITY_DN251134_c0_g1\tcell organization and biogenesis\n",
      "     165 nonZostera_Blastquery-GOslim-BP.sorted.unique\n"
     ]
    }
   ],
   "source": [
    "#Remove duplicate entries\n",
    "#Count the number of unique entries\n",
    "!uniq nonZostera_Blastquery-GOslim-BP.sorted > nonZostera_Blastquery-GOslim-BP.sorted.unique\n",
    "!head nonZostera_Blastquery-GOslim-BP.sorted.unique\n",
    "!wc -l nonZostera_Blastquery-GOslim-BP.sorted.unique"
   ]
  },
  {
   "cell_type": "code",
   "execution_count": 79,
   "metadata": {
    "collapsed": false
   },
   "outputs": [
    {
     "name": "stdout",
     "output_type": "stream",
     "text": [
      "     152\r\n"
     ]
    }
   ],
   "source": [
    "#Count the number of unique IDs with GOSlim terms\n",
    "!uniq -f1 nonZostera_Blastquery-GOslim-BP.sorted.unique | wc -l"
   ]
  },
  {
   "cell_type": "code",
   "execution_count": 80,
   "metadata": {
    "collapsed": false,
    "scrolled": true
   },
   "outputs": [
    {
     "name": "stdout",
     "output_type": "stream",
     "text": [
      "TRINITY_DN2119_c0_g1\tcell organization and biogenesis\n",
      "TRINITY_DN2119_c0_g1\tother metabolic processes\n",
      "TRINITY_DN226644_c0_g1\tprotein metabolism\n",
      "TRINITY_DN226644_c0_g1\tstress response\n",
      "TRINITY_DN227396_c0_g1\tDNA metabolism\n",
      "TRINITY_DN233011_c0_g1\tcell cycle and proliferation\n",
      "TRINITY_DN233011_c0_g1\tprotein metabolism\n",
      "TRINITY_DN251134_c0_g1\tcell organization and biogenesis\n",
      "TRINITY_DN251134_c0_g1\tprotein metabolism\n",
      "TRINITY_DN251134_c0_g1\ttransport\n",
      "     143 nonZostera_Blastquery-GOslim-BP.sorted.unique.noOther\n"
     ]
    }
   ],
   "source": [
    "#Remove all \"other biological processes\"\n",
    "#Confirm removal\n",
    "#Count the number of entries\n",
    "!grep --invert-match \"other biological processes\" nonZostera_Blastquery-GOslim-BP.sorted.unique \\\n",
    "> nonZostera_Blastquery-GOslim-BP.sorted.unique.noOther\n",
    "!head nonZostera_Blastquery-GOslim-BP.sorted.unique.noOther\n",
    "!wc -l nonZostera_Blastquery-GOslim-BP.sorted.unique.noOther"
   ]
  },
  {
   "cell_type": "code",
   "execution_count": 81,
   "metadata": {
    "collapsed": false,
    "scrolled": true
   },
   "outputs": [
    {
     "name": "stdout",
     "output_type": "stream",
     "text": [
      "     129\r\n"
     ]
    }
   ],
   "source": [
    "#Count the number of unique CGI IDs with defined GOSlim terms\n",
    "!uniq -f1 nonZostera_blastquery-GOslim-BP.sorted.unique.noOther | wc -l"
   ]
  },
  {
   "cell_type": "markdown",
   "metadata": {},
   "source": [
    "### 5. Match GO Slim terms to original annotations"
   ]
  },
  {
   "cell_type": "code",
   "execution_count": 87,
   "metadata": {
    "collapsed": false,
    "scrolled": true
   },
   "outputs": [
    {
     "name": "stdout",
     "output_type": "stream",
     "text": [
      "TRINITY_DN100016_c0_g1\tQ8GYA6\tTRINITY_DN100016_c0_g1_i1\t1.2e-08\t26S proteasome non-ATPase regulatory subunit 13 homolog B (26S proteasome regulatory subunit RPN9b) (AtRNP9b) (26S proteasome regulatory subunit S11 homolog B)\tproteasome assembly [GO:0043248]; protein catabolic process [GO:0030163]; ubiquitin-dependent protein catabolic process [GO:0006511]\tcytosol [GO:0005829]; nucleus [GO:0005634]; proteasome complex [GO:0000502]; proteasome regulatory particle, lid subcomplex [GO:0008541]\tstructural molecule activity [GO:0005198]\tGO:0000502; GO:0005198; GO:0005634; GO:0005829; GO:0006511; GO:0008541; GO:0030163; GO:0043248\treviewed\tArabidopsis thaliana (Mouse-ear cress)\r\n",
      "TRINITY_DN100076_c0_g1\tQ59118\tTRINITY_DN100076_c0_g1_i1\t2.3e-09\tHistamine oxidase (EC 1.4.3.22) (Copper amine oxidase)\tamine metabolic process [GO:0009308]; cellular response to azide [GO:0097185]; oxidation-reduction process [GO:0055114]\tcytoplasm [GO:0005737]\tcopper ion binding [GO:0005507]; diamine oxidase activity [GO:0052597]; histamine oxidase activity [GO:0052598]; methylputrescine oxidase activity [GO:0052599]; primary amine oxidase activity [GO:0008131]; propane-1,3-diamine oxidase activity [GO:0052600]; quinone binding [GO:0048038]\tGO:0005507; GO:0005737; GO:0008131; GO:0009308; GO:0048038; GO:0052597; GO:0052598; GO:0052599; GO:0052600; GO:0055114; GO:0097185\treviewed\tArthrobacter globiformis\r\n"
     ]
    }
   ],
   "source": [
    "#Check format of gene list with protein annotations\n",
    "#Columns: seq ID, Uniprot, seq ID ith isoform information, e-value, annotation, GOerms, reviewed, organism\n",
    "!head -n2 ../../data/nonZostera-blast-annot-withGeneID-noIsoforms.tab"
   ]
  },
  {
   "cell_type": "code",
   "execution_count": 105,
   "metadata": {
    "collapsed": true
   },
   "outputs": [],
   "source": [
    "#Join protein annotation with GO Slim terms (unique, no other)\n",
    "#Use a left join so unpaired lines from GOSlim terms are still printed\n",
    "!join -1 1 -2 1 -t $'\\t' \\\n",
    "nonZostera_blastquery-GOslim-BP.sorted.unique.noOther \\\n",
    "../../data/nonZostera-blast-annot-withGeneID-noIsoforms.tab \\\n",
    "| awk -F'\\t' -v OFS='\\t' '{print $1, $2, $6}' \\\n",
    "> nonZostera_blastquery-GOslim-BP.sorted.unique.noOther.annot"
   ]
  },
  {
   "cell_type": "code",
   "execution_count": 106,
   "metadata": {
    "collapsed": false,
    "scrolled": true
   },
   "outputs": [
    {
     "name": "stdout",
     "output_type": "stream",
     "text": [
      "TRINITY_DN2119_c0_g1\tcell organization and biogenesis\tCytochrome c oxidase assembly protein COX11, mitochondrial\n",
      "TRINITY_DN2119_c0_g1\tother metabolic processes\tCytochrome c oxidase assembly protein COX11, mitochondrial\n",
      "TRINITY_DN226644_c0_g1\tprotein metabolism\tProtein disulfide-isomerase A4 (EC 5.3.4.1)\n",
      "TRINITY_DN226644_c0_g1\tstress response\tProtein disulfide-isomerase A4 (EC 5.3.4.1)\n",
      "TRINITY_DN227396_c0_g1\tDNA metabolism\tTransposon Ty3-I Gag-Pol polyprotein (Gag3-Pol3) (Transposon Ty3-2 TYA-TYB polyprotein) [Cleaved into: Capsid protein (CA) (p24); Spacer peptide p3; Nucleocapsid protein p11 (NC); Ty3 protease (PR) (EC 3.4.23.-) (p16); Spacer peptide J; Reverse transcriptase/ribonuclease H (RT) (RT-RH) (EC 2.7.7.49) (EC 2.7.7.7) (EC 3.1.26.4) (p55); Integrase p52 (IN); Integrase p49 (IN)]\n",
      "TRINITY_DN233011_c0_g1\tcell cycle and proliferation\tProbable serine/threonine-protein kinase pats1 (EC 2.7.11.1) (Protein associated with the transduction of signal 1)\n",
      "TRINITY_DN233011_c0_g1\tprotein metabolism\tProbable serine/threonine-protein kinase pats1 (EC 2.7.11.1) (Protein associated with the transduction of signal 1)\n",
      "TRINITY_DN251134_c0_g1\tcell organization and biogenesis\tProtein dpy-30 homolog (Dpy-30-like protein) (Dpy-30L)\n",
      "TRINITY_DN251134_c0_g1\tprotein metabolism\tProtein dpy-30 homolog (Dpy-30-like protein) (Dpy-30L)\n",
      "TRINITY_DN251134_c0_g1\ttransport\tProtein dpy-30 homolog (Dpy-30-like protein) (Dpy-30L)\n",
      "     143 nonZostera_blastquery-GOslim-BP.sorted.unique.noOther.annot\n"
     ]
    }
   ],
   "source": [
    "#Check output\n",
    "#Count lines (same as original file)\n",
    "!head nonZostera_blastquery-GOslim-BP.sorted.unique.noOther.annot\n",
    "!wc -l nonZostera_blastquery-GOslim-BP.sorted.unique.noOther.annot"
   ]
  },
  {
   "cell_type": "markdown",
   "metadata": {},
   "source": [
    "### 6. Match GOSlim terms with full `blastx` output"
   ]
  },
  {
   "cell_type": "markdown",
   "metadata": {},
   "source": [
    "#### 6a. Isolate necessary columns"
   ]
  },
  {
   "cell_type": "code",
   "execution_count": 33,
   "metadata": {
    "collapsed": true
   },
   "outputs": [],
   "source": [
    "#Use file with gene counts so only detected genes (gene background) are used\n",
    "#Only need Uniprot, gene ID, and GOterms\n",
    "!awk -F'\\t' -v OFS='\\t' '{print $2, $1, $9}' ../../data/nonZostera-blast-annot-withGeneID-noIsoforms-geneCounts.tab \\\n",
    "> nonZostera_full_blast-annot.tab"
   ]
  },
  {
   "cell_type": "code",
   "execution_count": 34,
   "metadata": {
    "collapsed": false
   },
   "outputs": [
    {
     "name": "stdout",
     "output_type": "stream",
     "text": [
      "Q54BM8\tTRINITY_DN102004_c0_g1\tGO:0008270\n",
      "Q84M24\tTRINITY_DN102011_c0_g1\tGO:0005319; GO:0005524; GO:0005774; GO:0006869; GO:0016021; GO:0016887; GO:0042626; GO:0043231\n",
      "A5DB51\tTRINITY_DN102014_c0_g1\tGO:0004746; GO:0009231\n",
      "F4I460\tTRINITY_DN102016_c0_g1\tGO:0003774; GO:0005516; GO:0005524; GO:0005737; GO:0007015; GO:0016459; GO:0030048; GO:0048767; GO:0051015\n",
      "Q19020\tTRINITY_DN10203_c0_g1\tGO:0000278; GO:0000776; GO:0000922; GO:0005524; GO:0005635; GO:0005737; GO:0005819; GO:0005868; GO:0005881; GO:0005938; GO:0007018; GO:0007097; GO:0008090; GO:0008569; GO:0016322; GO:0030286; GO:0031122; GO:0045503; GO:0045505; GO:0048489; GO:0048814; GO:0051293; GO:0051296; GO:0051661; GO:0051932; GO:0051959; GO:0072382; GO:1902473; GO:1904115; GO:1904811; GO:1990048\n",
      "Q9H172\tTRINITY_DN102051_c0_g1\tGO:0005524; GO:0005886; GO:0016021; GO:0016887; GO:0033344; GO:0042626; GO:0042803; GO:0046982; GO:0055085; GO:1990830\n",
      "P30349\tTRINITY_DN102053_c0_g1\tGO:0004177; GO:0004301; GO:0004463; GO:0005634; GO:0005737; GO:0006691; GO:0008237; GO:0008270; GO:0010043; GO:0019370; GO:0043171; GO:0043434; GO:0044255; GO:0060509\n",
      "Q51330\tTRINITY_DN10209_c0_g1\tGO:0005886; GO:0015297; GO:0016021; GO:0019531\n",
      "Q7RYL6\tTRINITY_DN102366_c0_g1\tGO:0005737; GO:0046872; GO:0070006\n",
      "Q54BM8\tTRINITY_DN10241_c0_g1\tGO:0008270\n",
      "    2402 nonZostera_full_blast-annot.tab\n"
     ]
    }
   ],
   "source": [
    "!head nonZostera_full_blast-annot.tab\n",
    "!wc -l nonZostera_full_blast-annot.tab"
   ]
  },
  {
   "cell_type": "markdown",
   "metadata": {},
   "source": [
    "#### 6b. Unfold GOterms"
   ]
  },
  {
   "cell_type": "code",
   "execution_count": 35,
   "metadata": {
    "collapsed": true
   },
   "outputs": [],
   "source": [
    "%%bash \n",
    "\n",
    "# This script was originally written to address a specific problem that Rhonda was having\n",
    "\n",
    "# input_file is the initial, \"problem\" file\n",
    "# file is an intermediate file that most of the program works upon\n",
    "# output_file is the final file produced by the script\n",
    "input_file=\"nonZostera_full_blast-annot.tab\"\n",
    "file=\"nonZostera_full_intermediate.file\"\n",
    "output_file=\"nonZostera_full_blast-GO-unfolded.tab\"\n",
    "\n",
    "# sed command substitutes the \"; \" sequence to a tab and writes the new format to a new file.\n",
    "# This character sequence is how the GO terms are delimited in their field.\n",
    "sed $'s/; /\\t/g' \"$input_file\" > \"$file\"\n",
    "\n",
    "# Identify first field containing a GO term.\n",
    "# Search file with grep for \"GO:\" and pipe to awk.\n",
    "# Awk sets tab as field delimiter (-F'\\t'), runs a for loop that looks for \"GO:\" (~/GO:/), and then prints the field number).\n",
    "# Awk results are piped to sort, which sorts unique by number (-ug).\n",
    "# Sort results are piped to head to retrieve the lowest value (i.e. the top of the list; \"-n1\").\n",
    "begin_goterms=$(grep \"GO:\" \"$file\" | awk -F'\\t' '{for (i=1;i<=NF;i++) if($i ~/GO:/) print i}' | sort -ug | head -n1)\n",
    "\n",
    "# While loop to process each line of the input file.\n",
    "while read -r line\n",
    "\tdo\n",
    "\t\n",
    "\t# Send contents of the current line to awk.\n",
    "\t# Set the field separator as a tab (-F'\\t') and print the number of fields in that line.\n",
    "\t# Save the results of the echo/awk pipe (i.e. number of fields) to the variable \"max_field\".\n",
    "\tmax_field=$(echo \"$line\" | awk -F'\\t' '{print NF}')\n",
    "\n",
    "\t# Send contents of current line to cut.\n",
    "\t# Cut fields (i.e. retain those fields) 1-12.\n",
    "\t# Save the results of the echo/cut pipe (i.e. fields 1-12) to the variable \"fixed_fields\"\n",
    "\tfixed_fields=$(echo \"$line\" | cut -f1-2)\n",
    "\n",
    "\t# Since not all the lines contain the same number of fields (e.g. may not have GO terms),\n",
    "\t# evaluate the number of fields in each line to determine how to handle current line.\n",
    "\n",
    "\t# If the value in max_field is less than the field number where the GO terms begin,\n",
    "\t# then just print the current line (%s) followed by a newline (\\n).\n",
    "\tif (( \"$max_field\" < \"$begin_goterms\" ))\n",
    "\t\tthen printf \"%s\\n\" \"$line\"\n",
    "\t\t\telse\n",
    "\n",
    "\t\t\t# Send contents of current line (which contains GO terms) to cut.\n",
    "\t\t\t# Cut fields (i.e. retain those fields) 13 to whatever the last field is in the curent line.\n",
    "\t\t\t# Save the results of the echo/cut pipe (i.e. all the GO terms fields) to the variable \"goterms\".\n",
    "\t\t\tgoterms=$(echo \"$line\" | cut -f\"$begin_goterms\"-\"$max_field\")\n",
    "\t\t\t\n",
    "\t\t\t# Assign values in the variable \"goterms\" to a new indexed array (called \"array\"), \n",
    "\t\t\t# with tab delimiter (IFS=$'\\t')\n",
    "\t\t\tIFS=$'\\t' read -r -a array <<<\"$goterms\"\n",
    "\t\t\t\n",
    "\t\t\t# Iterate through each element of the array.\n",
    "\t\t\t# Print the first 12 fields (i.e. the fields stored in \"fixed_fields\") followed by a tab (%s\\t).\n",
    "\t\t\t# Print the current element in the array (i.e. the current GO term) followed by a new line (%s\\n).\n",
    "\t\t\tfor element in \"${!array[@]}\"\t\n",
    "\t\t\t\tdo printf \"%s\\t%s\\n\" \"$fixed_fields\" \"${array[$element]}\"\n",
    "\t\t\tdone\n",
    "\tfi\n",
    "\n",
    "# Send the input file into the while loop and send the output to a file named \"rhonda_fixed.txt\".\n",
    "done < \"$file\" > \"$output_file\""
   ]
  },
  {
   "cell_type": "code",
   "execution_count": 36,
   "metadata": {
    "collapsed": false
   },
   "outputs": [
    {
     "name": "stdout",
     "output_type": "stream",
     "text": [
      "Q54BM8\tTRINITY_DN102004_c0_g1\tGO:0008270\r\n",
      "Q84M24\tTRINITY_DN102011_c0_g1\tGO:0005319\r\n",
      "Q84M24\tTRINITY_DN102011_c0_g1\tGO:0005524\r\n",
      "Q84M24\tTRINITY_DN102011_c0_g1\tGO:0005774\r\n",
      "Q84M24\tTRINITY_DN102011_c0_g1\tGO:0006869\r\n",
      "Q84M24\tTRINITY_DN102011_c0_g1\tGO:0016021\r\n",
      "Q84M24\tTRINITY_DN102011_c0_g1\tGO:0016887\r\n",
      "Q84M24\tTRINITY_DN102011_c0_g1\tGO:0042626\r\n",
      "Q84M24\tTRINITY_DN102011_c0_g1\tGO:0043231\r\n",
      "A5DB51\tTRINITY_DN102014_c0_g1\tGO:0004746\r\n"
     ]
    }
   ],
   "source": [
    "#See if it was unfolded correctly\n",
    "!head nonZostera_full_blast-GO-unfolded.tab"
   ]
  },
  {
   "cell_type": "code",
   "execution_count": 37,
   "metadata": {
    "collapsed": true
   },
   "outputs": [],
   "source": [
    "!awk '{print $3\"\\t\"$2}' nonZostera_full_blast-GO-unfolded.tab | gsort -V > nonZostera_full_blast-GO-unfolded.sorted"
   ]
  },
  {
   "cell_type": "code",
   "execution_count": 38,
   "metadata": {
    "collapsed": false,
    "scrolled": true
   },
   "outputs": [
    {
     "name": "stdout",
     "output_type": "stream",
     "text": [
      "GO:0000001\tTRINITY_DN540991_c0_g1\r\n",
      "GO:0000002\tTRINITY_DN21033_c0_g1\r\n",
      "GO:0000003\tTRINITY_DN106042_c0_g1\r\n",
      "GO:0000003\tTRINITY_DN684764_c0_g1\r\n",
      "GO:0000009\tTRINITY_DN67030_c0_g1\r\n",
      "GO:0000011\tTRINITY_DN278317_c0_g1\r\n",
      "GO:0000023\tTRINITY_DN552983_c0_g1\r\n",
      "GO:0000025\tTRINITY_DN552983_c0_g1\r\n",
      "GO:0000027\tTRINITY_DN293394_c0_g3\r\n",
      "GO:0000027\tTRINITY_DN298612_c2_g2\r\n"
     ]
    }
   ],
   "source": [
    "#Extra space was removed and columns reorganized\n",
    "!head nonZostera_full_blast-GO-unfolded.sorted"
   ]
  },
  {
   "cell_type": "markdown",
   "metadata": {},
   "source": [
    "#### 6c. Match GOterms to GO Slim terms"
   ]
  },
  {
   "cell_type": "code",
   "execution_count": 39,
   "metadata": {
    "collapsed": true
   },
   "outputs": [],
   "source": [
    "#Join files to get GOslim for each query\n",
    "#Remove duplicate GOslim and queries removed\n",
    "#Sort files\n",
    "#Only print gene ID, GO Slim, and original GOterm\n",
    "!join -1 1 -2 1 -t $'\\t' \\\n",
    "nonZostera_full_blast-GO-unfolded.sorted \\\n",
    "GO-GOslim.sorted \\\n",
    "| uniq | awk -F'\\t' -v OFS='\\t' '{print $2, $4, $5}' \\\n",
    "> nonZostera_full_Blastquery-GOslim.tab"
   ]
  },
  {
   "cell_type": "code",
   "execution_count": 40,
   "metadata": {
    "collapsed": false
   },
   "outputs": [
    {
     "name": "stdout",
     "output_type": "stream",
     "text": [
      "TRINITY_DN540991_c0_g1\tcell organization and biogenesis\tP\n",
      "TRINITY_DN21033_c0_g1\tcell organization and biogenesis\tP\n",
      "TRINITY_DN106042_c0_g1\tother biological processes\tP\n",
      "TRINITY_DN684764_c0_g1\tother biological processes\tP\n",
      "TRINITY_DN67030_c0_g1\tother molecular function\tF\n",
      "TRINITY_DN278317_c0_g1\tcell organization and biogenesis\tP\n",
      "TRINITY_DN552983_c0_g1\tother metabolic processes\tP\n",
      "TRINITY_DN552983_c0_g1\tother metabolic processes\tP\n",
      "TRINITY_DN293394_c0_g3\tcell organization and biogenesis\tP\n",
      "TRINITY_DN298612_c2_g2\tcell organization and biogenesis\tP\n",
      "   20117 nonZostera_full_Blastquery-GOslim.tab\n"
     ]
    }
   ],
   "source": [
    "#Check output\n",
    "!head nonZostera_full_Blastquery-GOslim.tab\n",
    "!wc -l nonZostera_full_Blastquery-GOslim.tab"
   ]
  },
  {
   "cell_type": "markdown",
   "metadata": {},
   "source": [
    "#### 6d. Obtain Biological Process GO Slim terms"
   ]
  },
  {
   "cell_type": "code",
   "execution_count": 41,
   "metadata": {
    "collapsed": false
   },
   "outputs": [
    {
     "name": "stdout",
     "output_type": "stream",
     "text": [
      "TRINITY_DN102011_c0_g1\ttransport\n",
      "TRINITY_DN102014_c0_g1\tother metabolic processes\n",
      "TRINITY_DN102016_c0_g1\tcell organization and biogenesis\n",
      "TRINITY_DN102016_c0_g1\tdevelopmental processes\n",
      "TRINITY_DN102016_c0_g1\ttransport\n",
      "TRINITY_DN10203_c0_g1\tcell cycle and proliferation\n",
      "TRINITY_DN10203_c0_g1\tcell cycle and proliferation\n",
      "TRINITY_DN10203_c0_g1\tcell organization and biogenesis\n",
      "TRINITY_DN10203_c0_g1\tcell organization and biogenesis\n",
      "TRINITY_DN10203_c0_g1\tcell organization and biogenesis\n",
      "    7641 nonZostera_full_Blastquery-GOslim-BP.sorted\n"
     ]
    }
   ],
   "source": [
    "#Get BP entries for each gene ID. Multiple GOslim terms may be matched with one ID.\n",
    "#Confirm GOslim terms were obtained\n",
    "#Count the number of entries\n",
    "!awk -F\"\\t\" '$3 == \"P\" { print $1\"\\t\"$2 }' nonZostera_full_Blastquery-GOslim.tab | sort > nonZostera_full_Blastquery-GOslim-BP.sorted\n",
    "!head nonZostera_full_Blastquery-GOslim-BP.sorted\n",
    "!wc -l nonZostera_full_Blastquery-GOslim-BP.sorted"
   ]
  },
  {
   "cell_type": "code",
   "execution_count": 42,
   "metadata": {
    "collapsed": false
   },
   "outputs": [
    {
     "name": "stdout",
     "output_type": "stream",
     "text": [
      "TRINITY_DN102011_c0_g1\ttransport\n",
      "TRINITY_DN102014_c0_g1\tother metabolic processes\n",
      "TRINITY_DN102016_c0_g1\tcell organization and biogenesis\n",
      "TRINITY_DN102016_c0_g1\tdevelopmental processes\n",
      "TRINITY_DN102016_c0_g1\ttransport\n",
      "TRINITY_DN10203_c0_g1\tcell cycle and proliferation\n",
      "TRINITY_DN10203_c0_g1\tcell organization and biogenesis\n",
      "TRINITY_DN10203_c0_g1\tcell-cell signaling\n",
      "TRINITY_DN10203_c0_g1\tdevelopmental processes\n",
      "TRINITY_DN10203_c0_g1\tother biological processes\n",
      "    4238 nonZostera_full_Blastquery-GOslim-BP.sorted.unique\n"
     ]
    }
   ],
   "source": [
    "#Remove duplicate entries\n",
    "#Count the number of unique entries\n",
    "!uniq nonZostera_full_Blastquery-GOslim-BP.sorted > nonZostera_full_Blastquery-GOslim-BP.sorted.unique\n",
    "!head nonZostera_full_Blastquery-GOslim-BP.sorted.unique\n",
    "!wc -l nonZostera_full_Blastquery-GOslim-BP.sorted.unique"
   ]
  },
  {
   "cell_type": "code",
   "execution_count": 43,
   "metadata": {
    "collapsed": false
   },
   "outputs": [
    {
     "name": "stdout",
     "output_type": "stream",
     "text": [
      "    3994\r\n"
     ]
    }
   ],
   "source": [
    "#Count the number of unique IDs with GOSlim terms\n",
    "!uniq -f1 nonZostera_full_Blastquery-GOslim-BP.sorted.unique | wc -l"
   ]
  },
  {
   "cell_type": "code",
   "execution_count": 44,
   "metadata": {
    "collapsed": false
   },
   "outputs": [
    {
     "name": "stdout",
     "output_type": "stream",
     "text": [
      "TRINITY_DN102011_c0_g1\ttransport\n",
      "TRINITY_DN102014_c0_g1\tother metabolic processes\n",
      "TRINITY_DN102016_c0_g1\tcell organization and biogenesis\n",
      "TRINITY_DN102016_c0_g1\tdevelopmental processes\n",
      "TRINITY_DN102016_c0_g1\ttransport\n",
      "TRINITY_DN10203_c0_g1\tcell cycle and proliferation\n",
      "TRINITY_DN10203_c0_g1\tcell organization and biogenesis\n",
      "TRINITY_DN10203_c0_g1\tcell-cell signaling\n",
      "TRINITY_DN10203_c0_g1\tdevelopmental processes\n",
      "TRINITY_DN10203_c0_g1\ttransport\n",
      "    3692 nonZostera_full_Blastquery-GOslim-BP.sorted.unique.noOther\n"
     ]
    }
   ],
   "source": [
    "#Remove all \"other biological processes\"\n",
    "#Confirm removal\n",
    "#Count the number of entries\n",
    "!grep --invert-match \"other biological processes\" nonZostera_full_Blastquery-GOslim-BP.sorted.unique \\\n",
    "> nonZostera_full_Blastquery-GOslim-BP.sorted.unique.noOther\n",
    "!head nonZostera_full_Blastquery-GOslim-BP.sorted.unique.noOther\n",
    "!wc -l nonZostera_full_Blastquery-GOslim-BP.sorted.unique.noOther"
   ]
  },
  {
   "cell_type": "code",
   "execution_count": 45,
   "metadata": {
    "collapsed": false
   },
   "outputs": [
    {
     "name": "stdout",
     "output_type": "stream",
     "text": [
      "    3415\r\n"
     ]
    }
   ],
   "source": [
    "#Count the number of unique CGI IDs with defined GOSlim terms\n",
    "!uniq -f1 nonZostera_full_blastquery-GOslim-BP.sorted.unique.noOther | wc -l"
   ]
  },
  {
   "cell_type": "markdown",
   "metadata": {},
   "source": [
    "#### 6e. Match GO Slim terms to original annotations"
   ]
  },
  {
   "cell_type": "code",
   "execution_count": 46,
   "metadata": {
    "collapsed": true
   },
   "outputs": [],
   "source": [
    "#Join protein annotation with GO Slim terms (unique, no other)\n",
    "#Use a left join so unpaired lines from GOSlim terms are still printed\n",
    "!join -1 1 -2 1 -t $'\\t' \\\n",
    "nonZostera_full_blastquery-GOslim-BP.sorted.unique.noOther \\\n",
    "../../data/nonZostera-blast-annot-withGeneID-noIsoforms.tab \\\n",
    "| awk -F'\\t' -v OFS='\\t' '{print $1, $2, $6}' \\\n",
    "> nonZostera_full_blastquery-GOslim-BP.sorted.unique.noOther.annot"
   ]
  },
  {
   "cell_type": "code",
   "execution_count": 47,
   "metadata": {
    "collapsed": false,
    "scrolled": true
   },
   "outputs": [
    {
     "name": "stdout",
     "output_type": "stream",
     "text": [
      "TRINITY_DN102011_c0_g1\ttransport\tABC transporter A family member 1 (ABC transporter ABCA.1) (AtABCA1) (ABC one homolog protein 1) (AtAOH1)\n",
      "TRINITY_DN102014_c0_g1\tother metabolic processes\tRiboflavin synthase (RS) (EC 2.5.1.9)\n",
      "TRINITY_DN102016_c0_g1\tcell organization and biogenesis\tMyosin-8 (Myosin XI B) (AtXIB)\n",
      "TRINITY_DN102016_c0_g1\tdevelopmental processes\tMyosin-8 (Myosin XI B) (AtXIB)\n",
      "TRINITY_DN102016_c0_g1\ttransport\tMyosin-8 (Myosin XI B) (AtXIB)\n",
      "TRINITY_DN10203_c0_g1\tcell cycle and proliferation\tDynein heavy chain, cytoplasmic (Dynein heavy chain, cytosolic) (DYHC)\n",
      "TRINITY_DN10203_c0_g1\tcell organization and biogenesis\tDynein heavy chain, cytoplasmic (Dynein heavy chain, cytosolic) (DYHC)\n",
      "TRINITY_DN10203_c0_g1\tcell-cell signaling\tDynein heavy chain, cytoplasmic (Dynein heavy chain, cytosolic) (DYHC)\n",
      "TRINITY_DN10203_c0_g1\tdevelopmental processes\tDynein heavy chain, cytoplasmic (Dynein heavy chain, cytosolic) (DYHC)\n",
      "TRINITY_DN10203_c0_g1\ttransport\tDynein heavy chain, cytoplasmic (Dynein heavy chain, cytosolic) (DYHC)\n",
      "    3692 nonZostera_full_blastquery-GOslim-BP.sorted.unique.noOther.annot\n"
     ]
    }
   ],
   "source": [
    "#Check output\n",
    "#Count lines (same as original file)\n",
    "!head nonZostera_full_blastquery-GOslim-BP.sorted.unique.noOther.annot\n",
    "!wc -l nonZostera_full_blastquery-GOslim-BP.sorted.unique.noOther.annot"
   ]
  },
  {
   "cell_type": "code",
   "execution_count": null,
   "metadata": {
    "collapsed": true
   },
   "outputs": [],
   "source": []
  }
 ],
 "metadata": {
  "kernelspec": {
   "display_name": "Python [default]",
   "language": "python",
   "name": "python3"
  },
  "language_info": {
   "codemirror_mode": {
    "name": "ipython",
    "version": 3
   },
   "file_extension": ".py",
   "mimetype": "text/x-python",
   "name": "python",
   "nbconvert_exporter": "python",
   "pygments_lexer": "ipython3",
   "version": "3.5.2"
  }
 },
 "nbformat": 4,
 "nbformat_minor": 2
}
