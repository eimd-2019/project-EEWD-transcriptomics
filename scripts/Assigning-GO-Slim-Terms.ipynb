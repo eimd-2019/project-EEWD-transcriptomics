{
 "cells": [
  {
   "cell_type": "markdown",
   "metadata": {},
   "source": [
    "# Assigning GO Slim Terms"
   ]
  },
  {
   "cell_type": "markdown",
   "metadata": {},
   "source": [
    "In this notebook, I'll assign GO Slim terms to differentially expressed genes for *Zostera marina* and *Labyrinthula zosterae*. I will only do this for files with GO-MWU Biological Process output. This will help with downstream interpretation of biological processes impacted by infection."
   ]
  },
  {
   "cell_type": "markdown",
   "metadata": {},
   "source": [
    "## 0. Set working directory"
   ]
  },
  {
   "cell_type": "code",
   "execution_count": 1,
   "metadata": {},
   "outputs": [
    {
     "data": {
      "text/plain": [
       "'/Users/yaaminivenkataraman/Documents/project-EWD-transcriptomics/scripts'"
      ]
     },
     "execution_count": 1,
     "metadata": {},
     "output_type": "execute_result"
    }
   ],
   "source": [
    "pwd"
   ]
  },
  {
   "cell_type": "code",
   "execution_count": 2,
   "metadata": {},
   "outputs": [
    {
     "name": "stdout",
     "output_type": "stream",
     "text": [
      "/Users/yaaminivenkataraman/Documents/project-EWD-transcriptomics/analyses\n"
     ]
    }
   ],
   "source": [
    "cd ../analyses/"
   ]
  },
  {
   "cell_type": "code",
   "execution_count": 3,
   "metadata": {},
   "outputs": [],
   "source": [
    "#!mkdir Gene-Enrichment"
   ]
  },
  {
   "cell_type": "code",
   "execution_count": 4,
   "metadata": {},
   "outputs": [
    {
     "name": "stdout",
     "output_type": "stream",
     "text": [
      "/Users/yaaminivenkataraman/Documents/project-EWD-transcriptomics/analyses/Gene-Enrichment\n"
     ]
    }
   ],
   "source": [
    "cd Gene-Enrichment/"
   ]
  },
  {
   "cell_type": "markdown",
   "metadata": {},
   "source": [
    "## 1. Format differentially expressed gene lists"
   ]
  },
  {
   "cell_type": "markdown",
   "metadata": {},
   "source": [
    "### *Z. marina*"
   ]
  },
  {
   "cell_type": "code",
   "execution_count": 21,
   "metadata": {},
   "outputs": [
    {
     "name": "stdout",
     "output_type": "stream",
     "text": [
      "\tGeneID\tlogFC\tlogCPM\tF\tPValue\tFDR\tAccession\tIsoform\tE-value\tProteinN\tGO_BP\tGO_CC\tGO_MF\tGO\tStatus\tOrganism\tS_10B\tS_9A\tS_13A\tS_42A\tS_46B\tS_47B\tS_48B\tS_2A\tS_2B\tS_7B\tS_8B\tS_33A\tS_36B\tS_38A\tS_40A\n",
      "1\tTRINITY_DN102431_c0_g1\t7.87968942125049\t1.5948412518851\t9.62074706954095\t0.00646939513530696\t0.039492658666223\tQ7ZX51\tTRINITY_DN102431_c0_g1_i1\t1.4e-40\tTyrosine--tRNA ligase, cytoplasmic (EC 6.1.1.1) (Tyrosyl-tRNA synthetase) (TyrRS)\ttyrosyl-tRNA aminoacylation [GO:0006437]\tcytoplasm [GO:0005737]\tATP binding [GO:0005524]; tRNA binding [GO:0000049]; tyrosine-tRNA ligase activity [GO:0004831]\tGO:0000049; GO:0004831; GO:0005524; GO:0005737; GO:0006437\treviewed\tXenopus laevis (African clawed frog)\t0\t0\t2\t0\t2\t4\t0\t0\t0\t0\t0\t0\t0\t0\t0\n",
      "     541 ../EdgeR/DE.EXP.CON.FDR.Z.Annot.txt\n"
     ]
    }
   ],
   "source": [
    "#Check DEG file\n",
    "!head -n2 ../EdgeR/DE.EXP.CON.FDR.Z.Annot.txt\n",
    "!wc -l ../EdgeR/DE.EXP.CON.FDR.Z.Annot.txt"
   ]
  },
  {
   "cell_type": "code",
   "execution_count": 43,
   "metadata": {
    "scrolled": true
   },
   "outputs": [],
   "source": [
    "#Remove header\n",
    "# Sort\n",
    "#Only keep gene ID and GOterms\n",
    "#Save as new file\n",
    "!tail -n +2 ../EdgeR/DE.EXP.CON.FDR.Z.Annot.txt \\\n",
    "| sort \\\n",
    "| awk -F'\\t' -v OFS='\\t' '{print $8, $2, $15}' \\\n",
    "> Zostera_blast-annot.tab"
   ]
  },
  {
   "cell_type": "code",
   "execution_count": 45,
   "metadata": {
    "scrolled": false
   },
   "outputs": [
    {
     "name": "stdout",
     "output_type": "stream",
     "text": [
      "Q7ZX51\tTRINITY_DN102431_c0_g1\tGO:0000049; GO:0004831; GO:0005524; GO:0005737; GO:0006437\n",
      "O49561\tTRINITY_DN172833_c0_g1\tGO:0009685; GO:0009686; GO:0046872; GO:0051213; GO:0052635\n",
      "Q47UW0\tTRINITY_DN276081_c0_g2\tGO:0003677; GO:0003899; GO:0006351\n",
      "Q5XHZ0\tTRINITY_DN276264_c0_g1\tGO:0003723; GO:0005524; GO:0005654; GO:0005739; GO:0005743; GO:0005758; GO:0005759; GO:0006457; GO:0009386; GO:0019901; GO:0051082; GO:1901856; GO:1903751\n",
      "P0CH36\tTRINITY_DN276264_c0_g3\tGO:0008106; GO:0008270\n",
      "P09444\tTRINITY_DN276293_c0_g1\t\n",
      "Q9LJ97\tTRINITY_DN276293_c0_g2\tGO:0005634; GO:0005730; GO:0005829; GO:0006873; GO:0009845; GO:0010226\n",
      "P00125\tTRINITY_DN276409_c0_g1\tGO:0005739; GO:0005743; GO:0005750; GO:0006122; GO:0016021; GO:0020037; GO:0042776; GO:0045153; GO:0046872\n",
      "Q3IJK2\tTRINITY_DN276418_c0_g1\tGO:0003735; GO:0006412; GO:0015935; GO:0019843\n",
      "Q9M8M3\tTRINITY_DN276445_c0_g1\tGO:0005739\n",
      "     540 Zostera_blast-annot.tab\n"
     ]
    }
   ],
   "source": [
    "#Check output\n",
    "#Count lines (original - 1)\n",
    "!head Zostera_blast-annot.tab\n",
    "!wc -l Zostera_blast-annot.tab"
   ]
  },
  {
   "cell_type": "markdown",
   "metadata": {},
   "source": [
    "### *L. zosterae*"
   ]
  },
  {
   "cell_type": "code",
   "execution_count": 52,
   "metadata": {},
   "outputs": [
    {
     "name": "stdout",
     "output_type": "stream",
     "text": [
      "\tGeneID\tlogFC\tlogCPM\tF\tPValue\tFDR\tAccession\tIsoform\tE-value\tProteinN\tGO_BP\tGO_CC\tGO_MF\tGO\tStatus\tOrganism\tS_10B\tS_9A\tS_13A\tS_42A\tS_46B\tS_47B\tS_48B\tS_2A\tS_2B\tS_7B\tS_8B\tS_33A\tS_36B\tS_38A\tS_40A\n",
      "1\tTRINITY_DN173970_c0_g1\t19.7709273\t14.04275312\t103.1232144\t7.15E-12\t7.09E-10\tQ54IP4\tTRINITY_DN173970_c0_g1_i1\t1.90E-06\tDual specificity protein kinase shkB (EC 2.7.11.1) (SH2 domain-containing protein 2) (SH2 domain-containing protein B)\t\tmembrane [GO:0016020]\tATP binding [GO:0005524]; protein serine/threonine kinase activity [GO:0004674]; protein tyrosine kinase activity [GO:0004713]\tGO:0004674; GO:0004713; GO:0005524; GO:0016020\treviewed\tDictyostelium discoideum (Slime mold)\t1149\t2612\t930\t742\t1004\t757\t488\t0\t0\t0\t2\t1\t0\t2\t1\n",
      "     100 ../EdgeR/DE.EXP.CON.FDR.nZ.Annot.txt\n"
     ]
    }
   ],
   "source": [
    "#Check DEG file\n",
    "!head -n2 ../EdgeR/DE.EXP.CON.FDR.nZ.Annot.txt\n",
    "!wc -l ../EdgeR/DE.EXP.CON.FDR.nZ.Annot.txt"
   ]
  },
  {
   "cell_type": "code",
   "execution_count": 53,
   "metadata": {
    "scrolled": true
   },
   "outputs": [],
   "source": [
    "#Remove header\n",
    "# Sort\n",
    "#Only keep gene ID and GOterms\n",
    "#Save as new file\n",
    "!tail -n +2 ../EdgeR/DE.EXP.CON.FDR.nZ.Annot.txt \\\n",
    "| sort \\\n",
    "| awk -F'\\t' -v OFS='\\t' '{print $8, $2, $15}' \\\n",
    "> nonZostera_blast-annot.tab"
   ]
  },
  {
   "cell_type": "code",
   "execution_count": 55,
   "metadata": {
    "scrolled": true
   },
   "outputs": [
    {
     "name": "stdout",
     "output_type": "stream",
     "text": [
      "Q54IP4\tTRINITY_DN173970_c0_g1\tGO:0004674; GO:0004713; GO:0005524; GO:0016020\n",
      "Q8Y457\tTRINITY_DN251191_c0_g2\tGO:0003723; GO:0009982; GO:0031119; GO:0106029\n",
      "Q0V6M5\tTRINITY_DN66609_c0_g1\tGO:0004310; GO:0006696; GO:0016021; GO:0016117; GO:0016767; GO:0016872; GO:0051996\n",
      "Q8IXJ6\tTRINITY_DN255273_c0_g1\tGO:0000122; GO:0000183; GO:0000781; GO:0003682; GO:0004407; GO:0005634; GO:0005677; GO:0005694; GO:0005720; GO:0005730; GO:0005737; GO:0005739; GO:0005813; GO:0005814; GO:0005819; GO:0005829; GO:0005874; GO:0005886; GO:0006342; GO:0006348; GO:0006471; GO:0006476; GO:0006914; GO:0007096; GO:0008134; GO:0008270; GO:0008285; GO:0010507; GO:0010801; GO:0014065; GO:0016458; GO:0016575; GO:0017136; GO:0021762; GO:0022011; GO:0030426; GO:0030496; GO:0031641; GO:0032436; GO:0033010; GO:0033270; GO:0033558; GO:0034599; GO:0034979; GO:0034983; GO:0035035; GO:0035729; GO:0042177; GO:0042325; GO:0042826; GO:0042903; GO:0043130; GO:0043161; GO:0043204; GO:0043209; GO:0043219; GO:0043220; GO:0043388; GO:0043491; GO:0044224; GO:0044242; GO:0045087; GO:0045599; GO:0045836; GO:0045843; GO:0045892; GO:0045944; GO:0046970; GO:0048012; GO:0048471; GO:0051301; GO:0051321; GO:0051726; GO:0051775; GO:0051781; GO:0051987; GO:0061428; GO:0061433; GO:0070403; GO:0070446; GO:0070932; GO:0070933; GO:0071219; GO:0071456; GO:0071872; GO:0072686; GO:0072687; GO:0090042; GO:0097386; GO:1900119; GO:1900195; GO:1900226; GO:1900425; GO:2000378; GO:2000777\n",
      "Q5BJJ7\tTRINITY_DN255903_c0_g1\tGO:0000079; GO:0000132; GO:0000226; GO:0005634; GO:0005813; GO:0005814; GO:0006281; GO:0006974; GO:0007052; GO:0015631; GO:0019207; GO:0034453; GO:0090307; GO:0097431\n",
      "Q29350\tTRINITY_DN256449_c0_g1\tGO:0000398; GO:0005681; GO:0016607; GO:0030628; GO:0046872; GO:0089701\n",
      "Q6AYG5\tTRINITY_DN259150_c0_g1\tGO:0004300; GO:0005829; GO:0006635; GO:0016831\n",
      "P35728\tTRINITY_DN271642_c0_g1\tGO:0005634; GO:0005829; GO:0005847; GO:0006378; GO:0008270; GO:0016567; GO:0036002; GO:0061630; GO:0098789\n",
      "O42881\tTRINITY_DN271666_c1_g1\tGO:0002084; GO:0005634; GO:0005737; GO:0005829; GO:0006631; GO:0008474; GO:0052689\n",
      "Q6P7K0\tTRINITY_DN274712_c0_g1\tGO:0005829; GO:0016787\n",
      "     100 nonZostera_blast-annot.tab\n"
     ]
    }
   ],
   "source": [
    "#Check output\n",
    "!head nonZostera_blast-annot.tab\n",
    "!wc -l nonZostera_blast-annot.tab"
   ]
  },
  {
   "cell_type": "markdown",
   "metadata": {},
   "source": [
    "## 2. Unfold GOterms"
   ]
  },
  {
   "cell_type": "markdown",
   "metadata": {},
   "source": [
    "### *Z. marina*"
   ]
  },
  {
   "cell_type": "code",
   "execution_count": 46,
   "metadata": {},
   "outputs": [],
   "source": [
    "%%bash \n",
    "\n",
    "# This script was originally written to address a specific problem that Rhonda was having\n",
    "\n",
    "# input_file is the initial, \"problem\" file\n",
    "# file is an intermediate file that most of the program works upon\n",
    "# output_file is the final file produced by the script\n",
    "input_file=\"Zostera_blast-annot.tab\"\n",
    "file=\"Zostera_intermediate.file\"\n",
    "output_file=\"Zostera_blast-GO-unfolded.tab\"\n",
    "\n",
    "# sed command substitutes the \"; \" sequence to a tab and writes the new format to a new file.\n",
    "# This character sequence is how the GO terms are delimited in their field.\n",
    "sed $'s/; /\\t/g' \"$input_file\" > \"$file\"\n",
    "\n",
    "# Identify first field containing a GO term.\n",
    "# Search file with grep for \"GO:\" and pipe to awk.\n",
    "# Awk sets tab as field delimiter (-F'\\t'), runs a for loop that looks for \"GO:\" (~/GO:/), and then prints the field number).\n",
    "# Awk results are piped to sort, which sorts unique by number (-ug).\n",
    "# Sort results are piped to head to retrieve the lowest value (i.e. the top of the list; \"-n1\").\n",
    "begin_goterms=$(grep \"GO:\" \"$file\" | awk -F'\\t' '{for (i=1;i<=NF;i++) if($i ~/GO:/) print i}' | sort -ug | head -n1)\n",
    "\n",
    "# While loop to process each line of the input file.\n",
    "while read -r line\n",
    "\tdo\n",
    "\t\n",
    "\t# Send contents of the current line to awk.\n",
    "\t# Set the field separator as a tab (-F'\\t') and print the number of fields in that line.\n",
    "\t# Save the results of the echo/awk pipe (i.e. number of fields) to the variable \"max_field\".\n",
    "\tmax_field=$(echo \"$line\" | awk -F'\\t' '{print NF}')\n",
    "\n",
    "\t# Send contents of current line to cut.\n",
    "\t# Cut fields (i.e. retain those fields) 1-12.\n",
    "\t# Save the results of the echo/cut pipe (i.e. fields 1-12) to the variable \"fixed_fields\"\n",
    "\tfixed_fields=$(echo \"$line\" | cut -f1-2)\n",
    "\n",
    "\t# Since not all the lines contain the same number of fields (e.g. may not have GO terms),\n",
    "\t# evaluate the number of fields in each line to determine how to handle current line.\n",
    "\n",
    "\t# If the value in max_field is less than the field number where the GO terms begin,\n",
    "\t# then just print the current line (%s) followed by a newline (\\n).\n",
    "\tif (( \"$max_field\" < \"$begin_goterms\" ))\n",
    "\t\tthen printf \"%s\\n\" \"$line\"\n",
    "\t\t\telse\n",
    "\n",
    "\t\t\t# Send contents of current line (which contains GO terms) to cut.\n",
    "\t\t\t# Cut fields (i.e. retain those fields) 13 to whatever the last field is in the curent line.\n",
    "\t\t\t# Save the results of the echo/cut pipe (i.e. all the GO terms fields) to the variable \"goterms\".\n",
    "\t\t\tgoterms=$(echo \"$line\" | cut -f\"$begin_goterms\"-\"$max_field\")\n",
    "\t\t\t\n",
    "\t\t\t# Assign values in the variable \"goterms\" to a new indexed array (called \"array\"), \n",
    "\t\t\t# with tab delimiter (IFS=$'\\t')\n",
    "\t\t\tIFS=$'\\t' read -r -a array <<<\"$goterms\"\n",
    "\t\t\t\n",
    "\t\t\t# Iterate through each element of the array.\n",
    "\t\t\t# Print the first 12 fields (i.e. the fields stored in \"fixed_fields\") followed by a tab (%s\\t).\n",
    "\t\t\t# Print the current element in the array (i.e. the current GO term) followed by a new line (%s\\n).\n",
    "\t\t\tfor element in \"${!array[@]}\"\t\n",
    "\t\t\t\tdo printf \"%s\\t%s\\n\" \"$fixed_fields\" \"${array[$element]}\"\n",
    "\t\t\tdone\n",
    "\tfi\n",
    "\n",
    "# Send the input file into the while loop and send the output to a file named \"rhonda_fixed.txt\".\n",
    "done < \"$file\" > \"$output_file\""
   ]
  },
  {
   "cell_type": "code",
   "execution_count": 48,
   "metadata": {
    "scrolled": true
   },
   "outputs": [
    {
     "name": "stdout",
     "output_type": "stream",
     "text": [
      "Q7ZX51\tTRINITY_DN102431_c0_g1\tGO:0000049\r\n",
      "Q7ZX51\tTRINITY_DN102431_c0_g1\tGO:0004831\r\n",
      "Q7ZX51\tTRINITY_DN102431_c0_g1\tGO:0005524\r\n",
      "Q7ZX51\tTRINITY_DN102431_c0_g1\tGO:0005737\r\n",
      "Q7ZX51\tTRINITY_DN102431_c0_g1\tGO:0006437\r\n",
      "O49561\tTRINITY_DN172833_c0_g1\tGO:0009685\r\n",
      "O49561\tTRINITY_DN172833_c0_g1\tGO:0009686\r\n",
      "O49561\tTRINITY_DN172833_c0_g1\tGO:0046872\r\n",
      "O49561\tTRINITY_DN172833_c0_g1\tGO:0051213\r\n",
      "O49561\tTRINITY_DN172833_c0_g1\tGO:0052635\r\n"
     ]
    }
   ],
   "source": [
    "#It was unfolded correctly\n",
    "!head Zostera_blast-GO-unfolded.tab"
   ]
  },
  {
   "cell_type": "code",
   "execution_count": 58,
   "metadata": {
    "scrolled": true
   },
   "outputs": [],
   "source": [
    "!awk '{print $3\"\\t\"$2}' Zostera_blast-GO-unfolded.tab | gsort -V > Zostera_blast-GO-unfolded.sorted"
   ]
  },
  {
   "cell_type": "code",
   "execution_count": 59,
   "metadata": {},
   "outputs": [
    {
     "name": "stdout",
     "output_type": "stream",
     "text": [
      "GO:0000027\tTRINITY_DN293394_c0_g1\r\n",
      "GO:0000027\tTRINITY_DN298832_c1_g1\r\n",
      "GO:0000027\tTRINITY_DN298848_c3_g2\r\n",
      "GO:0000027\tTRINITY_DN314236_c0_g1\r\n",
      "GO:0000028\tTRINITY_DN292998_c5_g6\r\n",
      "GO:0000028\tTRINITY_DN316936_c5_g1\r\n",
      "GO:0000035\tTRINITY_DN311987_c0_g1\r\n",
      "GO:0000036\tTRINITY_DN311987_c0_g1\r\n",
      "GO:0000038\tTRINITY_DN314641_c0_g1\r\n",
      "GO:0000045\tTRINITY_DN298449_c4_g2\r\n"
     ]
    }
   ],
   "source": [
    "#Extra space was removed and columns reorganized\n",
    "!head Zostera_blast-GO-unfolded.sorted"
   ]
  },
  {
   "cell_type": "markdown",
   "metadata": {},
   "source": [
    "### *L. zosterae*"
   ]
  },
  {
   "cell_type": "code",
   "execution_count": 56,
   "metadata": {},
   "outputs": [],
   "source": [
    "%%bash \n",
    "\n",
    "# This script was originally written to address a specific problem that Rhonda was having\n",
    "\n",
    "# input_file is the initial, \"problem\" file\n",
    "# file is an intermediate file that most of the program works upon\n",
    "# output_file is the final file produced by the script\n",
    "input_file=\"nonZostera_blast-annot.tab\"\n",
    "file=\"nonZostera_intermediate.file\"\n",
    "output_file=\"nonZostera_blast-GO-unfolded.tab\"\n",
    "\n",
    "# sed command substitutes the \"; \" sequence to a tab and writes the new format to a new file.\n",
    "# This character sequence is how the GO terms are delimited in their field.\n",
    "sed $'s/; /\\t/g' \"$input_file\" > \"$file\"\n",
    "\n",
    "# Identify first field containing a GO term.\n",
    "# Search file with grep for \"GO:\" and pipe to awk.\n",
    "# Awk sets tab as field delimiter (-F'\\t'), runs a for loop that looks for \"GO:\" (~/GO:/), and then prints the field number).\n",
    "# Awk results are piped to sort, which sorts unique by number (-ug).\n",
    "# Sort results are piped to head to retrieve the lowest value (i.e. the top of the list; \"-n1\").\n",
    "begin_goterms=$(grep \"GO:\" \"$file\" | awk -F'\\t' '{for (i=1;i<=NF;i++) if($i ~/GO:/) print i}' | sort -ug | head -n1)\n",
    "\n",
    "# While loop to process each line of the input file.\n",
    "while read -r line\n",
    "\tdo\n",
    "\t\n",
    "\t# Send contents of the current line to awk.\n",
    "\t# Set the field separator as a tab (-F'\\t') and print the number of fields in that line.\n",
    "\t# Save the results of the echo/awk pipe (i.e. number of fields) to the variable \"max_field\".\n",
    "\tmax_field=$(echo \"$line\" | awk -F'\\t' '{print NF}')\n",
    "\n",
    "\t# Send contents of current line to cut.\n",
    "\t# Cut fields (i.e. retain those fields) 1-12.\n",
    "\t# Save the results of the echo/cut pipe (i.e. fields 1-12) to the variable \"fixed_fields\"\n",
    "\tfixed_fields=$(echo \"$line\" | cut -f1-2)\n",
    "\n",
    "\t# Since not all the lines contain the same number of fields (e.g. may not have GO terms),\n",
    "\t# evaluate the number of fields in each line to determine how to handle current line.\n",
    "\n",
    "\t# If the value in max_field is less than the field number where the GO terms begin,\n",
    "\t# then just print the current line (%s) followed by a newline (\\n).\n",
    "\tif (( \"$max_field\" < \"$begin_goterms\" ))\n",
    "\t\tthen printf \"%s\\n\" \"$line\"\n",
    "\t\t\telse\n",
    "\n",
    "\t\t\t# Send contents of current line (which contains GO terms) to cut.\n",
    "\t\t\t# Cut fields (i.e. retain those fields) 13 to whatever the last field is in the curent line.\n",
    "\t\t\t# Save the results of the echo/cut pipe (i.e. all the GO terms fields) to the variable \"goterms\".\n",
    "\t\t\tgoterms=$(echo \"$line\" | cut -f\"$begin_goterms\"-\"$max_field\")\n",
    "\t\t\t\n",
    "\t\t\t# Assign values in the variable \"goterms\" to a new indexed array (called \"array\"), \n",
    "\t\t\t# with tab delimiter (IFS=$'\\t')\n",
    "\t\t\tIFS=$'\\t' read -r -a array <<<\"$goterms\"\n",
    "\t\t\t\n",
    "\t\t\t# Iterate through each element of the array.\n",
    "\t\t\t# Print the first 12 fields (i.e. the fields stored in \"fixed_fields\") followed by a tab (%s\\t).\n",
    "\t\t\t# Print the current element in the array (i.e. the current GO term) followed by a new line (%s\\n).\n",
    "\t\t\tfor element in \"${!array[@]}\"\t\n",
    "\t\t\t\tdo printf \"%s\\t%s\\n\" \"$fixed_fields\" \"${array[$element]}\"\n",
    "\t\t\tdone\n",
    "\tfi\n",
    "\n",
    "# Send the input file into the while loop and send the output to a file named \"rhonda_fixed.txt\".\n",
    "done < \"$file\" > \"$output_file\""
   ]
  },
  {
   "cell_type": "code",
   "execution_count": 57,
   "metadata": {
    "scrolled": false
   },
   "outputs": [
    {
     "name": "stdout",
     "output_type": "stream",
     "text": [
      "Q54IP4\tTRINITY_DN173970_c0_g1\tGO:0004674\r\n",
      "Q54IP4\tTRINITY_DN173970_c0_g1\tGO:0004713\r\n",
      "Q54IP4\tTRINITY_DN173970_c0_g1\tGO:0005524\r\n",
      "Q54IP4\tTRINITY_DN173970_c0_g1\tGO:0016020\r\n",
      "Q8Y457\tTRINITY_DN251191_c0_g2\tGO:0003723\r\n",
      "Q8Y457\tTRINITY_DN251191_c0_g2\tGO:0009982\r\n",
      "Q8Y457\tTRINITY_DN251191_c0_g2\tGO:0031119\r\n",
      "Q8Y457\tTRINITY_DN251191_c0_g2\tGO:0106029\r\n",
      "Q0V6M5\tTRINITY_DN66609_c0_g1\tGO:0004310\r\n",
      "Q0V6M5\tTRINITY_DN66609_c0_g1\tGO:0006696\r\n"
     ]
    }
   ],
   "source": [
    "#It was unfolded correctly\n",
    "!head nonZostera_blast-GO-unfolded.tab"
   ]
  },
  {
   "cell_type": "code",
   "execution_count": 60,
   "metadata": {
    "scrolled": true
   },
   "outputs": [],
   "source": [
    "!awk '{print $3\"\\t\"$2}' nonZostera_blast-GO-unfolded.tab | gsort -V > nonZostera_blast-GO-unfolded.sorted"
   ]
  },
  {
   "cell_type": "code",
   "execution_count": 61,
   "metadata": {},
   "outputs": [
    {
     "name": "stdout",
     "output_type": "stream",
     "text": [
      "GO:0000079\tTRINITY_DN255903_c0_g1\r\n",
      "GO:0000079\tTRINITY_DN299755_c1_g3\r\n",
      "GO:0000122\tTRINITY_DN255273_c0_g1\r\n",
      "GO:0000122\tTRINITY_DN311716_c0_g2\r\n",
      "GO:0000132\tTRINITY_DN255903_c0_g1\r\n",
      "GO:0000139\tTRINITY_DN294657_c0_g1\r\n",
      "GO:0000183\tTRINITY_DN255273_c0_g1\r\n",
      "GO:0000188\tTRINITY_DN299755_c1_g3\r\n",
      "GO:0000212\tTRINITY_DN311731_c0_g1\r\n",
      "GO:0000226\tTRINITY_DN255903_c0_g1\r\n"
     ]
    }
   ],
   "source": [
    "#Extra space was removed and columns reorganized\n",
    "!head nonZostera_blast-GO-unfolded.sorted"
   ]
  },
  {
   "cell_type": "markdown",
   "metadata": {},
   "source": [
    "## 3. Match GOterms to GO Slim terms"
   ]
  },
  {
   "cell_type": "code",
   "execution_count": 135,
   "metadata": {},
   "outputs": [
    {
     "name": "stdout",
     "output_type": "stream",
     "text": [
      "  % Total    % Received % Xferd  Average Speed   Time    Time     Time  Current\n",
      "                                 Dload  Upload   Total   Spent    Left  Speed\n",
      "100 2314k  100 2314k    0     0  1115k      0  0:00:02  0:00:02 --:--:-- 1115k\n"
     ]
    }
   ],
   "source": [
    "#Download list of GO Slim and matching GOterms\n",
    "!curl -O http://owl.fish.washington.edu/halfshell/bu-alanine-wd/17-07-20/GO-GOslim.sorted"
   ]
  },
  {
   "cell_type": "code",
   "execution_count": 35,
   "metadata": {},
   "outputs": [
    {
     "name": "stdout",
     "output_type": "stream",
     "text": [
      "GO:0000001\tmitochondrion inheritance\tcell organization and biogenesis\tP\r\n",
      "GO:0000002\tmitochondrial genome maintenance\tcell organization and biogenesis\tP\r\n",
      "GO:0000003\treproduction\tother biological processes\tP\r\n",
      "GO:0000006\thigh affinity zinc uptake transmembrane transporter activity\ttransporter activity\tF\r\n",
      "GO:0000007\tlow-affinity zinc ion transmembrane transporter activity\ttransporter activity\tF\r\n",
      "GO:0000009\t\"alpha-1,6-mannosyltransferase activity\"\tother molecular function\tF\r\n",
      "GO:0000010\ttrans-hexaprenyltranstransferase activity\tother molecular function\tF\r\n",
      "GO:0000011\tvacuole inheritance\tcell organization and biogenesis\tP\r\n",
      "GO:0000012\tsingle strand break repair\tDNA metabolism\tP\r\n",
      "GO:0000012\tsingle strand break repair\tstress response\tP\r\n"
     ]
    }
   ],
   "source": [
    "!head GO-GOslim.sorted"
   ]
  },
  {
   "cell_type": "markdown",
   "metadata": {},
   "source": [
    "### *Z. marina*"
   ]
  },
  {
   "cell_type": "code",
   "execution_count": 65,
   "metadata": {},
   "outputs": [],
   "source": [
    "#Join files to get GOslim for each query\n",
    "#Remove duplicate GOslim and queries removed\n",
    "#Sort files\n",
    "#Only print gene ID, GO Slim, and original GOterm\n",
    "!join -1 1 -2 1 -t $'\\t' \\\n",
    "Zostera_blast-GO-unfolded.sorted \\\n",
    "GO-GOslim.sorted \\\n",
    "| uniq | awk -F'\\t' -v OFS='\\t' '{print $2, $4, $5}' \\\n",
    "> Zostera_Blastquery-GOslim.tab"
   ]
  },
  {
   "cell_type": "code",
   "execution_count": 66,
   "metadata": {
    "scrolled": false
   },
   "outputs": [
    {
     "name": "stdout",
     "output_type": "stream",
     "text": [
      "TRINITY_DN293394_c0_g1\tcell organization and biogenesis\tP\n",
      "TRINITY_DN298832_c1_g1\tcell organization and biogenesis\tP\n",
      "TRINITY_DN298848_c3_g2\tcell organization and biogenesis\tP\n",
      "TRINITY_DN314236_c0_g1\tcell organization and biogenesis\tP\n",
      "TRINITY_DN292998_c5_g6\tcell organization and biogenesis\tP\n",
      "TRINITY_DN316936_c5_g1\tcell organization and biogenesis\tP\n",
      "TRINITY_DN311987_c0_g1\tother molecular function\tF\n",
      "TRINITY_DN311987_c0_g1\ttransporter activity\tF\n",
      "TRINITY_DN314641_c0_g1\tother metabolic processes\tP\n",
      "TRINITY_DN298449_c4_g2\tcell organization and biogenesis\tP\n",
      "    4437 Zostera_Blastquery-GOslim.tab\n"
     ]
    }
   ],
   "source": [
    "#Check output\n",
    "!head Zostera_Blastquery-GOslim.tab\n",
    "!wc -l Zostera_Blastquery-GOslim.tab"
   ]
  },
  {
   "cell_type": "code",
   "execution_count": 67,
   "metadata": {},
   "outputs": [
    {
     "name": "stdout",
     "output_type": "stream",
     "text": [
      "    1549\r\n"
     ]
    }
   ],
   "source": [
    "#Count the number of unique IDs with GOSlim terms\n",
    "!uniq -f1 Zostera_Blastquery-GOslim.tab | wc -l"
   ]
  },
  {
   "cell_type": "markdown",
   "metadata": {},
   "source": [
    "### *L. zostera*"
   ]
  },
  {
   "cell_type": "code",
   "execution_count": 68,
   "metadata": {},
   "outputs": [],
   "source": [
    "#Join files to get GOslim for each query\n",
    "#Remove duplicate GOslim and queries removed\n",
    "#Sort files\n",
    "#Only print gene ID, GO Slim, and original GOterm\n",
    "!join -1 1 -2 1 -t $'\\t' \\\n",
    "nonZostera_blast-GO-unfolded.sorted \\\n",
    "GO-GOslim.sorted \\\n",
    "| uniq | awk -F'\\t' -v OFS='\\t' '{print $2, $4, $5}' \\\n",
    "> nonZostera_Blastquery-GOslim.tab"
   ]
  },
  {
   "cell_type": "code",
   "execution_count": 69,
   "metadata": {
    "scrolled": true
   },
   "outputs": [
    {
     "name": "stdout",
     "output_type": "stream",
     "text": [
      "TRINITY_DN255903_c0_g1\tcell cycle and proliferation\tP\n",
      "TRINITY_DN255903_c0_g1\tother metabolic processes\tP\n",
      "TRINITY_DN299755_c1_g3\tcell cycle and proliferation\tP\n",
      "TRINITY_DN299755_c1_g3\tother metabolic processes\tP\n",
      "TRINITY_DN255273_c0_g1\tRNA metabolism\tP\n",
      "TRINITY_DN311716_c0_g2\tRNA metabolism\tP\n",
      "TRINITY_DN255903_c0_g1\tcell cycle and proliferation\tP\n",
      "TRINITY_DN255903_c0_g1\tcell organization and biogenesis\tP\n",
      "TRINITY_DN294657_c0_g1\tER/Golgi\tC\n",
      "TRINITY_DN294657_c0_g1\tother membranes\tC\n",
      "     869 nonZostera_Blastquery-GOslim.tab\n"
     ]
    }
   ],
   "source": [
    "#Check output\n",
    "!head nonZostera_Blastquery-GOslim.tab\n",
    "!wc -l nonZostera_Blastquery-GOslim.tab"
   ]
  },
  {
   "cell_type": "code",
   "execution_count": 71,
   "metadata": {},
   "outputs": [
    {
     "name": "stdout",
     "output_type": "stream",
     "text": [
      "     386\r\n"
     ]
    }
   ],
   "source": [
    "#Count the number of unique IDs with GOSlim terms\n",
    "!uniq -f1 nonZostera_Blastquery-GOslim.tab | wc -l"
   ]
  },
  {
   "cell_type": "markdown",
   "metadata": {},
   "source": [
    "## 4. Obtain Biological Process GOterms"
   ]
  },
  {
   "cell_type": "markdown",
   "metadata": {},
   "source": [
    "### *Z. marina*"
   ]
  },
  {
   "cell_type": "code",
   "execution_count": 151,
   "metadata": {
    "scrolled": true
   },
   "outputs": [
    {
     "name": "stdout",
     "output_type": "stream",
     "text": [
      "TRINITY_DN293394_c0_g1\tcell organization and biogenesis\tribosomal large subunit assembly\n",
      "TRINITY_DN298832_c1_g1\tcell organization and biogenesis\tribosomal large subunit assembly\n",
      "TRINITY_DN298848_c3_g2\tcell organization and biogenesis\tribosomal large subunit assembly\n",
      "TRINITY_DN314236_c0_g1\tcell organization and biogenesis\tribosomal large subunit assembly\n",
      "TRINITY_DN292998_c5_g6\tcell organization and biogenesis\tribosomal small subunit assembly\n",
      "TRINITY_DN316936_c5_g1\tcell organization and biogenesis\tribosomal small subunit assembly\n",
      "TRINITY_DN298449_c4_g2\tcell organization and biogenesis\tautophagic vacuole formation\n",
      "TRINITY_DN298449_c4_g2\tother metabolic processes\tautophagic vacuole formation\n",
      "TRINITY_DN298449_c4_g2\tstress response\tautophagic vacuole formation\n",
      "TRINITY_DN312745_c1_g1\tcell cycle and proliferation\tcell cycle checkpoint\n",
      "     601 Zostera_blastquery-GOslim-BP.sorted.unique.noOther\n"
     ]
    }
   ],
   "source": [
    "#Remove all \"other biological processes\"\n",
    "#Confirm removal\n",
    "#Count the number of entries\n",
    "!grep --invert-match \"other biological processes\" Zostera_blastquery-GOslim.tab \\\n",
    "> Zostera_blastquery-GOslim-BP.sorted.unique.noOther\n",
    "!head Zostera_blastquery-GOslim-BP.sorted.unique.noOther\n",
    "!wc -l Zostera_blastquery-GOslim-BP.sorted.unique.noOther"
   ]
  },
  {
   "cell_type": "code",
   "execution_count": 152,
   "metadata": {
    "scrolled": true
   },
   "outputs": [
    {
     "name": "stdout",
     "output_type": "stream",
     "text": [
      "     208\r\n"
     ]
    }
   ],
   "source": [
    "#Count the number of unique CGI IDs with defined GOSlim terms\n",
    "!uniq -f1 Zostera_blastquery-GOslim-BP.sorted.unique.noOther | wc -l"
   ]
  },
  {
   "cell_type": "markdown",
   "metadata": {},
   "source": [
    "### *L. zosterae*"
   ]
  },
  {
   "cell_type": "code",
   "execution_count": 156,
   "metadata": {
    "scrolled": true
   },
   "outputs": [
    {
     "name": "stdout",
     "output_type": "stream",
     "text": [
      "TRINITY_DN233011_c0_g1\tcell cycle and proliferation\tcytokinesis after mitosis\n",
      "TRINITY_DN277328_c0_g1\tcell cycle and proliferation\tcytokinesis after mitosis\n",
      "TRINITY_DN299789_c0_g2\tcell cycle and proliferation\tcytokinesis after mitosis\n",
      "TRINITY_DN295214_c0_g1\tstress response\tresponse to reactive oxygen species\n",
      "TRINITY_DN295214_c0_g2\tstress response\tresponse to reactive oxygen species\n",
      "TRINITY_DN312005_c1_g1\tstress response\tresponse to reactive oxygen species\n",
      "TRINITY_DN255903_c0_g1\tprotein metabolism\tregulation of protein amino acid phosphorylation\n",
      "TRINITY_DN299755_c1_g3\tprotein metabolism\tregulation of protein amino acid phosphorylation\n",
      "TRINITY_DN256449_c0_g1\tother metabolic processes\t\"nucleobase, nucleoside, nucleotide and nucleic acid metabolic process\"\n",
      "TRINITY_DN296708_c0_g1\tother metabolic processes\t\"nucleobase, nucleoside, nucleotide and nucleic acid metabolic process\"\n",
      "      92 nonZostera_blastquery-GOslim-BP.sorted.unique.noOther\n"
     ]
    }
   ],
   "source": [
    "#Remove all \"other biological processes\"\n",
    "#Confirm removal\n",
    "#Count the number of entries\n",
    "!grep --invert-match \"other biological processes\" nonZostera_blastquery-GOslim.tab \\\n",
    "> nonZostera_blastquery-GOslim-BP.sorted.unique.noOther\n",
    "!head nonZostera_blastquery-GOslim-BP.sorted.unique.noOther\n",
    "!wc -l nonZostera_blastquery-GOslim-BP.sorted.unique.noOther"
   ]
  },
  {
   "cell_type": "code",
   "execution_count": 157,
   "metadata": {
    "scrolled": false
   },
   "outputs": [
    {
     "name": "stdout",
     "output_type": "stream",
     "text": [
      "      43\r\n"
     ]
    }
   ],
   "source": [
    "#Count the number of unique CGI IDs with defined GOSlim terms\n",
    "!uniq -f1 nonZostera_blastquery-GOslim-BP.sorted.unique.noOther | wc -l"
   ]
  },
  {
   "cell_type": "markdown",
   "metadata": {},
   "source": [
    "## 5. Match GO Slim terms to original annotations"
   ]
  },
  {
   "cell_type": "markdown",
   "metadata": {},
   "source": [
    "### *Z. marina*"
   ]
  },
  {
   "cell_type": "code",
   "execution_count": 19,
   "metadata": {
    "scrolled": true
   },
   "outputs": [
    {
     "name": "stdout",
     "output_type": "stream",
     "text": [
      "TRINITY_DN100001_c0_g1\tQ54EW8\tTRINITY_DN100001_c0_g1_i1\t1.2e-19\tDihydrolipoyl dehydrogenase, mitochondrial (EC 1.8.1.4) (Dihydrolipoamide dehydrogenase) (Glycine cleavage system L protein)\tcell redox homeostasis [GO:0045454]; glycine catabolic process [GO:0006546]; isoleucine catabolic process [GO:0006550]; leucine catabolic process [GO:0006552]; L-serine biosynthetic process [GO:0006564]; valine catabolic process [GO:0006574]\textracellular matrix [GO:0031012]; mitochondrial matrix [GO:0005759]; mitochondrial pyruvate dehydrogenase complex [GO:0005967]; phagocytic vesicle [GO:0045335]\tdihydrolipoyl dehydrogenase activity [GO:0004148]; electron transfer activity [GO:0009055]; flavin adenine dinucleotide binding [GO:0050660]\tGO:0004148; GO:0005759; GO:0005967; GO:0006546; GO:0006550; GO:0006552; GO:0006564; GO:0006574; GO:0009055; GO:0031012; GO:0045335; GO:0045454; GO:0050660\treviewed\tDictyostelium discoideum (Slime mold)\r\n",
      "TRINITY_DN100015_c0_g1\tP16894\tTRINITY_DN100015_c0_g1_i1\t1.2e-21\tGuanine nucleotide-binding protein alpha-1 subunit (G alpha-1)\tadenylate cyclase-modulating G protein-coupled receptor signaling pathway [GO:0007188]; cell differentiation [GO:0030154]; chemotaxis to cAMP [GO:0043327]; G protein-coupled receptor signaling pathway [GO:0007186]; negative regulation of phospholipase C activity [GO:1900275]; signal transduction [GO:0007165]\theterotrimeric G-protein complex [GO:0005834]\tG-protein beta/gamma-subunit complex binding [GO:0031683]; G protein-coupled receptor binding [GO:0001664]; GTPase activity [GO:0003924]; GTP binding [GO:0005525]; metal ion binding [GO:0046872]\tGO:0001664; GO:0003924; GO:0005525; GO:0005834; GO:0007165; GO:0007186; GO:0007188; GO:0030154; GO:0031683; GO:0043327; GO:0046872; GO:1900275\treviewed\tDictyostelium discoideum (Slime mold)\r\n"
     ]
    }
   ],
   "source": [
    "#Check format of gene list with protein annotations\n",
    "#Columns: seq ID, Uniprot, seq ID ith isoform information, e-value, annotation, GOerms, reviewed, organism\n",
    "!head -n2 ../../../data/Zostera-blast-annot-withGeneID-noIsoforms.tab"
   ]
  },
  {
   "cell_type": "code",
   "execution_count": 35,
   "metadata": {},
   "outputs": [],
   "source": [
    "#Join protein annotation with GO Slim terms (unique, no other)\n",
    "#Use a left join so unpaired lines from GOSlim terms are still printed\n",
    "!join -1 1 -2 1 -t $'\\t' \\\n",
    "Zostera_blastquery-GOslim-BP.sorted.unique.noOther \\\n",
    "../../../data/Zostera-blast-annot-withGeneID-noIsoforms.tab \\\n",
    "| awk -F'\\t' -v OFS='\\t' '{print $1, $4, $2, $3, $7, $11}' \\\n",
    "> Zostera_blastquery-GOslim-BP.sorted.unique.noOther.annot"
   ]
  },
  {
   "cell_type": "code",
   "execution_count": 36,
   "metadata": {
    "scrolled": true
   },
   "outputs": [
    {
     "name": "stdout",
     "output_type": "stream",
     "text": [
      "TRINITY_DN293394_c0_g1\tP47991\tcell organization and biogenesis\tribosomal large subunit assembly\t60S ribosomal protein L6\tGO:0000027; GO:0002181; GO:0003723; GO:0003735; GO:0005791; GO:0008340; GO:0022625\n",
      "TRINITY_DN298832_c1_g1\tA4FV84\tcell organization and biogenesis\tribosomal large subunit assembly\tmRNA turnover protein 4 homolog (Ribosome assembly factor MRTO4)\tGO:0000027; GO:0000956; GO:0005730; GO:0005737; GO:0006364; GO:0030687; GO:0042273\n",
      "TRINITY_DN298848_c3_g2\tO04204\tcell organization and biogenesis\tribosomal large subunit assembly\t60S acidic ribosomal protein P0-1\tGO:0000027; GO:0002181; GO:0003735; GO:0022625; GO:0022626; GO:0070180\n",
      "TRINITY_DN314236_c0_g1\tQ12019\tcell organization and biogenesis\tribosomal large subunit assembly\tMidasin (Dynein-related AAA-ATPase REA1) (MIDAS-containing protein) (Ribosome export/assembly protein 1)\tGO:0000027; GO:0005524; GO:0005634; GO:0005654; GO:0005730; GO:0005739; GO:0006364; GO:0016887; GO:0110136; GO:2000200\n",
      "TRINITY_DN316936_c5_g1\tQ9Y3A4\tcell organization and biogenesis\tribosomal small subunit assembly\tRibosomal RNA-processing protein 7 homolog A (Gastric cancer antigen Zg14)\tGO:0000028; GO:0001825; GO:0003723; GO:0005654; GO:0005737; GO:0006364; GO:0032545; GO:0034456\n",
      "TRINITY_DN46127_c0_g1\tA2VDN6\tRNA metabolism\t\"RNA splicing, via transesterification reactions\"\tSplicing factor 3A subunit 1\tGO:0000398; GO:0003723; GO:0005634; GO:0005684; GO:0005686; GO:0016607; GO:0071004; GO:0071005; GO:0071013; GO:1903241\n",
      "       6 Zostera_blastquery-GOslim-BP.sorted.unique.noOther.annot\n"
     ]
    }
   ],
   "source": [
    "#Check output\n",
    "#Count lines\n",
    "!head Zostera_blastquery-GOslim-BP.sorted.unique.noOther.annot\n",
    "!wc -l Zostera_blastquery-GOslim-BP.sorted.unique.noOther.annot"
   ]
  },
  {
   "cell_type": "markdown",
   "metadata": {},
   "source": [
    "### *L. zosterae*"
   ]
  },
  {
   "cell_type": "code",
   "execution_count": 47,
   "metadata": {},
   "outputs": [
    {
     "name": "stdout",
     "output_type": "stream",
     "text": [
      "seq\tProteinN\r\n",
      "TRINITY_DN312737_c2_g2\tJouberin (Abelson helper integration site 1 protein) (AHI-1)\r\n",
      "TRINITY_DN271666_c1_g1\tAcyl-protein thioesterase 1 (EC 3.1.2.-)\r\n",
      "TRINITY_DN271666_c1_g1\tAcyl-protein thioesterase 1 (EC 3.1.2.-)\r\n",
      "TRINITY_DN296708_c0_g1\tDPH4 homolog (DnaJ homolog subfamily C member 24)\r\n"
     ]
    }
   ],
   "source": [
    "#Check format of gene list with protein annotations\n",
    "!head -n5 2019-07-15-nonZostera-DEG-ProteinN.tab"
   ]
  },
  {
   "cell_type": "code",
   "execution_count": 48,
   "metadata": {},
   "outputs": [],
   "source": [
    "#Remove header line\n",
    "# Sort file and only keep unique entries\n",
    "#Save output\n",
    "!tail -n +2 2019-07-15-nonZostera-DEG-ProteinN.tab \\\n",
    "| sort | uniq \\\n",
    "> 2019-07-15-nonZostera-DEG-ProteinN.noHead.tab"
   ]
  },
  {
   "cell_type": "code",
   "execution_count": 49,
   "metadata": {},
   "outputs": [
    {
     "name": "stdout",
     "output_type": "stream",
     "text": [
      "TRINITY_DN233011_c0_g1\tProbable serine/threonine-protein kinase pats1 (EC 2.7.11.1) (Protein associated with the transduction of signal 1)\r\n",
      "TRINITY_DN255273_c0_g1\tNAD-dependent protein deacetylase sirtuin-2 (EC 3.5.1.-) (Regulatory protein SIR2 homolog 2) (SIR2-like protein 2)\r\n",
      "TRINITY_DN255903_c0_g1\tProtein BCCIP homolog\r\n",
      "TRINITY_DN256449_c0_g1\tSplicing factor U2AF 35 kDa subunit (U2 auxiliary factor 35 kDa subunit) (U2 snRNP auxiliary factor small subunit) (Fragment)\r\n",
      "TRINITY_DN271666_c1_g1\tAcyl-protein thioesterase 1 (EC 3.1.2.-)\r\n"
     ]
    }
   ],
   "source": [
    "#Check header was removed\n",
    "!head -n5 2019-07-15-nonZostera-DEG-ProteinN.noHead.tab"
   ]
  },
  {
   "cell_type": "code",
   "execution_count": 50,
   "metadata": {},
   "outputs": [],
   "source": [
    "#Join protein annotation with GO Slim terms (unique, no other)\n",
    "#Use a left join so unpaired lines from GOSlim terms are still printed\n",
    "!join -1 1 -2 1 -t $'\\t' -a1 \\\n",
    "nonZostera_blastquery-GOslim-BP.sorted.unique.noOther \\\n",
    "2019-07-15-nonZostera-DEG-ProteinN.noHead.tab \\\n",
    "> nonZostera_blastquery-GOslim-BP.sorted.unique.noOther.ProteinN"
   ]
  },
  {
   "cell_type": "code",
   "execution_count": 51,
   "metadata": {
    "scrolled": false
   },
   "outputs": [
    {
     "name": "stdout",
     "output_type": "stream",
     "text": [
      "TRINITY_DN233011_c0_g1\tcell cycle and proliferation\tcytokinesis after mitosis\tProbable serine/threonine-protein kinase pats1 (EC 2.7.11.1) (Protein associated with the transduction of signal 1)\n",
      "TRINITY_DN277328_c0_g1\tcell cycle and proliferation\tcytokinesis after mitosis\tProbable serine/threonine-protein kinase pats1 (EC 2.7.11.1) (Protein associated with the transduction of signal 1)\n",
      "TRINITY_DN299789_c0_g2\tcell cycle and proliferation\tcytokinesis after mitosis\tProbable serine/threonine-protein kinase pats1 (EC 2.7.11.1) (Protein associated with the transduction of signal 1)\n",
      "TRINITY_DN295214_c0_g1\tstress response\tresponse to reactive oxygen species\n",
      "TRINITY_DN295214_c0_g2\tstress response\tresponse to reactive oxygen species\n",
      "TRINITY_DN312005_c1_g1\tstress response\tresponse to reactive oxygen species\tCytochrome c peroxidase, mitochondrial (CCP) (EC 1.11.1.5)\n",
      "TRINITY_DN255903_c0_g1\tprotein metabolism\tregulation of protein amino acid phosphorylation\n",
      "TRINITY_DN299755_c1_g3\tprotein metabolism\tregulation of protein amino acid phosphorylation\n",
      "TRINITY_DN256449_c0_g1\tother metabolic processes\t\"nucleobase, nucleoside, nucleotide and nucleic acid metabolic process\"\n",
      "TRINITY_DN296708_c0_g1\tother metabolic processes\t\"nucleobase, nucleoside, nucleotide and nucleic acid metabolic process\"\n",
      "      92 nonZostera_blastquery-GOslim-BP.sorted.unique.noOther.ProteinN\n"
     ]
    }
   ],
   "source": [
    "!head nonZostera_blastquery-GOslim-BP.sorted.unique.noOther.ProteinN\n",
    "!wc -l nonZostera_blastquery-GOslim-BP.sorted.unique.noOther.ProteinN"
   ]
  }
 ],
 "metadata": {
  "kernelspec": {
   "display_name": "Python 3",
   "language": "python",
   "name": "python3"
  },
  "language_info": {
   "codemirror_mode": {
    "name": "ipython",
    "version": 3
   },
   "file_extension": ".py",
   "mimetype": "text/x-python",
   "name": "python",
   "nbconvert_exporter": "python",
   "pygments_lexer": "ipython3",
   "version": "3.7.4"
  }
 },
 "nbformat": 4,
 "nbformat_minor": 2
}
