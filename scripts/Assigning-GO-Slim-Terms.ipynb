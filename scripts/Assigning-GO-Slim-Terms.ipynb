{
 "cells": [
  {
   "cell_type": "markdown",
   "metadata": {},
   "source": [
    "# Assigning GO Slim Terms"
   ]
  },
  {
   "cell_type": "markdown",
   "metadata": {},
   "source": [
    "In this notebook, I'll assign GO Slim terms to differentially expressed genes for *Zostera marina* and *Labyrinthula zosterae*. This will help with downstream interpretation of biological processes impacted by infection."
   ]
  },
  {
   "cell_type": "markdown",
   "metadata": {},
   "source": [
    "## 0. Set working directory"
   ]
  },
  {
   "cell_type": "code",
   "execution_count": 1,
   "metadata": {},
   "outputs": [
    {
     "data": {
      "text/plain": [
       "'/Users/yaaminivenkataraman/Documents/project-EWD-transcriptomics/scripts'"
      ]
     },
     "execution_count": 1,
     "metadata": {},
     "output_type": "execute_result"
    }
   ],
   "source": [
    "pwd"
   ]
  },
  {
   "cell_type": "code",
   "execution_count": 2,
   "metadata": {},
   "outputs": [
    {
     "name": "stdout",
     "output_type": "stream",
     "text": [
      "/Users/yaaminivenkataraman/Documents/project-EWD-transcriptomics/analyses/GO-MWU/DE-GO-MWU\n"
     ]
    }
   ],
   "source": [
    "cd ../analyses/GO-MWU/DE-GO-MWU/"
   ]
  },
  {
   "cell_type": "markdown",
   "metadata": {},
   "source": [
    "## 1. Format differentially expressed gene lists"
   ]
  },
  {
   "cell_type": "markdown",
   "metadata": {},
   "source": [
    "### *Z. marina*"
   ]
  },
  {
   "cell_type": "code",
   "execution_count": 58,
   "metadata": {
    "scrolled": true
   },
   "outputs": [
    {
     "name": "stdout",
     "output_type": "stream",
     "text": [
      "seq\tterm\n",
      "TRINITY_DN296376_c0_g1\tGO:0016407\n",
      "TRINITY_DN314167_c0_g1\tGO:0003993\n",
      "TRINITY_DN298173_c0_g1\tGO:0022804\n",
      "TRINITY_DN299750_c3_g1\tGO:0022804\n",
      "TRINITY_DN312095_c1_g3\tGO:0022804\n",
      "TRINITY_DN231504_c0_g1\tGO:0016411;GO:0008374\n",
      "TRINITY_DN256326_c0_g1\tGO:0016411;GO:0008374\n",
      "TRINITY_DN292999_c3_g1\tGO:0016411;GO:0008374\n",
      "TRINITY_DN223830_c0_g1\tGO:0033218\n",
      "     470 2019-07-15-Zostera-DEG-GOterms.tab\n"
     ]
    }
   ],
   "source": [
    "#Check current file formats\n",
    "!head 2019-07-15-Zostera-DEG-GOterms.tab\n",
    "!wc -l 2019-07-15-Zostera-DEG-GOterms.tab"
   ]
  },
  {
   "cell_type": "code",
   "execution_count": 76,
   "metadata": {},
   "outputs": [],
   "source": [
    "#Remove header line\n",
    "# Sort file and save as new file\n",
    "!tail -n +2 2019-07-15-Zostera-DEG-GOterms.tab \\\n",
    "| sort > 2019-07-15-Zostera-DEG-GOterms-noHead.tab"
   ]
  },
  {
   "cell_type": "code",
   "execution_count": 3,
   "metadata": {},
   "outputs": [
    {
     "name": "stdout",
     "output_type": "stream",
     "text": [
      "TRINITY_DN102431_c0_g1\tGO:0000049\r\n",
      "TRINITY_DN104822_c0_g1\tGO:0003677\r\n",
      "TRINITY_DN111591_c0_g1\tGO:0016829\r\n",
      "TRINITY_DN111591_c0_g1\tGO:0016836;GO:0016835\r\n",
      "TRINITY_DN151705_c0_g1\tGO:0003756;GO:0016864\r\n",
      "TRINITY_DN151705_c0_g1\tGO:0016853\r\n",
      "TRINITY_DN151705_c0_g1\tGO:0016860\r\n",
      "TRINITY_DN172940_c0_g1\tGO:0008168\r\n",
      "TRINITY_DN172940_c0_g1\tGO:0016741\r\n",
      "TRINITY_DN175296_c0_g1\tGO:0016491\r\n"
     ]
    }
   ],
   "source": [
    "!head 2019-07-15-Zostera-DEG-GOterms-noHead.tab"
   ]
  },
  {
   "cell_type": "code",
   "execution_count": 43,
   "metadata": {},
   "outputs": [],
   "source": [
    "#Add space after each ; delimiter and save as a few file\n",
    "!sed 's/;/; /g' 2019-07-15-Zostera-DEG-GOterms-noHead.tab > Zostera_blast-annot.tab"
   ]
  },
  {
   "cell_type": "code",
   "execution_count": 56,
   "metadata": {
    "scrolled": false
   },
   "outputs": [
    {
     "name": "stdout",
     "output_type": "stream",
     "text": [
      "TRINITY_DN102431_c0_g1\tGO:0000049\n",
      "TRINITY_DN104822_c0_g1\tGO:0003677\n",
      "TRINITY_DN111591_c0_g1\tGO:0016829\n",
      "TRINITY_DN111591_c0_g1\tGO:0016836; GO:0016835\n",
      "TRINITY_DN151705_c0_g1\tGO:0003756; GO:0016864\n",
      "TRINITY_DN151705_c0_g1\tGO:0016853\n",
      "TRINITY_DN151705_c0_g1\tGO:0016860\n",
      "TRINITY_DN172940_c0_g1\tGO:0008168\n",
      "TRINITY_DN172940_c0_g1\tGO:0016741\n",
      "TRINITY_DN175296_c0_g1\tGO:0016491\n",
      "TRINITY_DN175296_c0_g1\tGO:0016616; GO:0016614\n",
      "TRINITY_DN2119_c1_g1\tGO:0005507\n",
      "TRINITY_DN2119_c1_g1\tGO:0046872; GO:0043169\n",
      "TRINITY_DN2119_c1_g1\tGO:0046914\n",
      "TRINITY_DN223640_c0_g1\tGO:0004518\n",
      "TRINITY_DN223640_c0_g1\tGO:0016788\n",
      "TRINITY_DN223640_c0_g1\tGO:0140098\n",
      "TRINITY_DN223830_c0_g1\tGO:0033218\n",
      "TRINITY_DN226183_c0_g1\tGO:0004372; GO:0016742\n",
      "TRINITY_DN226183_c0_g1\tGO:0016741\n",
      "     469    1300   20272 Zostera_blast-annot.tab\n"
     ]
    }
   ],
   "source": [
    "#Check output\n",
    "!head -20 Zostera_blast-annot.tab\n",
    "!wc Zostera_blast-annot.tab"
   ]
  },
  {
   "cell_type": "markdown",
   "metadata": {},
   "source": [
    "### *L. zosterae*"
   ]
  },
  {
   "cell_type": "code",
   "execution_count": 59,
   "metadata": {},
   "outputs": [
    {
     "name": "stdout",
     "output_type": "stream",
     "text": [
      "seq\tterm\n",
      "TRINITY_DN274805_c0_g2\tGO:0003779;GO:0008092\n",
      "TRINITY_DN276416_c0_g1\tGO:0005524;GO:0008144;GO:0032559;GO:0035639;GO:0030554\n",
      "TRINITY_DN449830_c0_g1\tGO:0005524;GO:0008144;GO:0032559;GO:0035639;GO:0030554\n",
      "TRINITY_DN312726_c1_g4\tGO:0008509\n",
      "TRINITY_DN316900_c0_g1\tGO:0004190;GO:0070001\n",
      "TRINITY_DN251134_c1_g1\tGO:0015085\n",
      "TRINITY_DN259150_c0_g1\tGO:0016836;GO:0016835\n",
      "TRINITY_DN292324_c0_g1\tGO:0004806;GO:0052689\n",
      "TRINITY_DN277209_c0_g1\tGO:0004180\n",
      "      81     162    3542 2019-07-15-nonZostera-DEG-GOterms.tab\n"
     ]
    }
   ],
   "source": [
    "#Check current file formats\n",
    "!head 2019-07-15-nonZostera-DEG-GOterms.tab\n",
    "!wc 2019-07-15-nonZostera-DEG-GOterms.tab"
   ]
  },
  {
   "cell_type": "code",
   "execution_count": 72,
   "metadata": {},
   "outputs": [],
   "source": [
    "#Remove header line and save as new file\n",
    "!tail -n +2 2019-07-15-nonZostera-DEG-GOterms.tab > 2019-07-15-nonZostera-DEG-GOterms-noHead.tab"
   ]
  },
  {
   "cell_type": "code",
   "execution_count": 34,
   "metadata": {},
   "outputs": [
    {
     "name": "stdout",
     "output_type": "stream",
     "text": [
      "TRINITY_DN274805_c0_g2\tGO:0003779;GO:0008092\r\n",
      "TRINITY_DN276416_c0_g1\tGO:0005524;GO:0008144;GO:0032559;GO:0035639;GO:0030554\r\n",
      "TRINITY_DN449830_c0_g1\tGO:0005524;GO:0008144;GO:0032559;GO:0035639;GO:0030554\r\n",
      "TRINITY_DN312726_c1_g4\tGO:0008509\r\n",
      "TRINITY_DN316900_c0_g1\tGO:0004190;GO:0070001\r\n",
      "TRINITY_DN251134_c1_g1\tGO:0015085\r\n",
      "TRINITY_DN259150_c0_g1\tGO:0016836;GO:0016835\r\n",
      "TRINITY_DN292324_c0_g1\tGO:0004806;GO:0052689\r\n",
      "TRINITY_DN277209_c0_g1\tGO:0004180\r\n",
      "TRINITY_DN22073_c0_g1\tGO:0005261\r\n"
     ]
    }
   ],
   "source": [
    "!head 2019-07-15-nonZostera-DEG-GOterms-noHead.tab"
   ]
  },
  {
   "cell_type": "code",
   "execution_count": 35,
   "metadata": {},
   "outputs": [],
   "source": [
    "#Add space after each ; delimiter and save as a few file\n",
    "!sed 's/;/; /g' 2019-07-15-nonZostera-DEG-GOterms-noHead.tab > nonZostera_blast-annot.tab"
   ]
  },
  {
   "cell_type": "code",
   "execution_count": 57,
   "metadata": {
    "scrolled": true
   },
   "outputs": [
    {
     "name": "stdout",
     "output_type": "stream",
     "text": [
      "TRINITY_DN274805_c0_g2\tGO:0003779; GO:0008092\n",
      "TRINITY_DN276416_c0_g1\tGO:0005524; GO:0008144; GO:0032559; GO:0035639; GO:0030554\n",
      "TRINITY_DN449830_c0_g1\tGO:0005524; GO:0008144; GO:0032559; GO:0035639; GO:0030554\n",
      "TRINITY_DN312726_c1_g4\tGO:0008509\n",
      "TRINITY_DN316900_c0_g1\tGO:0004190; GO:0070001\n",
      "TRINITY_DN251134_c1_g1\tGO:0015085\n",
      "TRINITY_DN259150_c0_g1\tGO:0016836; GO:0016835\n",
      "TRINITY_DN292324_c0_g1\tGO:0004806; GO:0052689\n",
      "TRINITY_DN277209_c0_g1\tGO:0004180\n",
      "TRINITY_DN22073_c0_g1\tGO:0005261\n",
      "TRINITY_DN251134_c1_g1\tGO:0005261\n",
      "TRINITY_DN22073_c0_g1\tGO:0005216; GO:0022838; GO:0015267; GO:0022803\n",
      "TRINITY_DN251134_c1_g1\tGO:0005216; GO:0022838; GO:0015267; GO:0022803\n",
      "TRINITY_DN314831_c1_g5\tGO:0008234\n",
      "TRINITY_DN314232_c4_g4\tGO:0003677\n",
      "TRINITY_DN316900_c0_g1\tGO:0004175\n",
      "TRINITY_DN277209_c0_g1\tGO:0008238\n",
      "TRINITY_DN293894_c0_g2\tGO:0008238\n",
      "TRINITY_DN312093_c0_g3\tGO:0003924\n",
      "TRINITY_DN293386_c0_g1\tGO:0017111; GO:0016462; GO:0016818; GO:0016817\n",
      "      80     235    3608 nonZostera_blast-annot.tab\n"
     ]
    }
   ],
   "source": [
    "#Check output\n",
    "!head -20 nonZostera_blast-annot.tab\n",
    "!wc nonZostera_blast-annot.tab"
   ]
  },
  {
   "cell_type": "markdown",
   "metadata": {},
   "source": [
    "## 2. Unfold GOterms"
   ]
  },
  {
   "cell_type": "markdown",
   "metadata": {},
   "source": [
    "### *Z. marina*"
   ]
  },
  {
   "cell_type": "code",
   "execution_count": 45,
   "metadata": {},
   "outputs": [],
   "source": [
    "%%bash \n",
    "\n",
    "# This script was originally written to address a specific problem that Rhonda was having\n",
    "\n",
    "# input_file is the initial, \"problem\" file\n",
    "# file is an intermediate file that most of the program works upon\n",
    "# output_file is the final file produced by the script\n",
    "input_file=\"Zostera_blast-annot.tab\"\n",
    "file=\"Zostera_intermediate.file\"\n",
    "output_file=\"Zostera_blast-GO-unfolded.tab\"\n",
    "\n",
    "# sed command substitutes the \"; \" sequence to a tab and writes the new format to a new file.\n",
    "# This character sequence is how the GO terms are delimited in their field.\n",
    "sed $'s/; /\\t/g' \"$input_file\" > \"$file\"\n",
    "\n",
    "# Identify first field containing a GO term.\n",
    "# Search file with grep for \"GO:\" and pipe to awk.\n",
    "# Awk sets tab as field delimiter (-F'\\t'), runs a for loop that looks for \"GO:\" (~/GO:/), and then prints the field number).\n",
    "# Awk results are piped to sort, which sorts unique by number (-ug).\n",
    "# Sort results are piped to head to retrieve the lowest value (i.e. the top of the list; \"-n1\").\n",
    "begin_goterms=$(grep \"GO:\" \"$file\" | awk -F'\\t' '{for (i=1;i<=NF;i++) if($i ~/GO:/) print i}' | sort -ug | head -n1)\n",
    "\n",
    "# While loop to process each line of the input file.\n",
    "while read -r line\n",
    "\tdo\n",
    "\t\n",
    "\t# Send contents of the current line to awk.\n",
    "\t# Set the field separator as a tab (-F'\\t') and print the number of fields in that line.\n",
    "\t# Save the results of the echo/awk pipe (i.e. number of fields) to the variable \"max_field\".\n",
    "\tmax_field=$(echo \"$line\" | awk -F'\\t' '{print NF}')\n",
    "\n",
    "\t# Send contents of current line to cut.\n",
    "\t# Cut fields (i.e. retain those fields) 1-12.\n",
    "\t# Save the results of the echo/cut pipe (i.e. fields 1-12) to the variable \"fixed_fields\"\n",
    "\tfixed_fields=$(echo \"$line\" | cut -f1-2)\n",
    "\n",
    "\t# Since not all the lines contain the same number of fields (e.g. may not have GO terms),\n",
    "\t# evaluate the number of fields in each line to determine how to handle current line.\n",
    "\n",
    "\t# If the value in max_field is less than the field number where the GO terms begin,\n",
    "\t# then just print the current line (%s) followed by a newline (\\n).\n",
    "\tif (( \"$max_field\" < \"$begin_goterms\" ))\n",
    "\t\tthen printf \"%s\\n\" \"$line\"\n",
    "\t\t\telse\n",
    "\n",
    "\t\t\t# Send contents of current line (which contains GO terms) to cut.\n",
    "\t\t\t# Cut fields (i.e. retain those fields) 13 to whatever the last field is in the curent line.\n",
    "\t\t\t# Save the results of the echo/cut pipe (i.e. all the GO terms fields) to the variable \"goterms\".\n",
    "\t\t\tgoterms=$(echo \"$line\" | cut -f\"$begin_goterms\"-\"$max_field\")\n",
    "\t\t\t\n",
    "\t\t\t# Assign values in the variable \"goterms\" to a new indexed array (called \"array\"), \n",
    "\t\t\t# with tab delimiter (IFS=$'\\t')\n",
    "\t\t\tIFS=$'\\t' read -r -a array <<<\"$goterms\"\n",
    "\t\t\t\n",
    "\t\t\t# Iterate through each element of the array.\n",
    "\t\t\t# Print the first 12 fields (i.e. the fields stored in \"fixed_fields\") followed by a tab (%s\\t).\n",
    "\t\t\t# Print the current element in the array (i.e. the current GO term) followed by a new line (%s\\n).\n",
    "\t\t\tfor element in \"${!array[@]}\"\t\n",
    "\t\t\t\tdo printf \"%s\\t%s\\n\" \"$fixed_fields\" \"${array[$element]}\"\n",
    "\t\t\tdone\n",
    "\tfi\n",
    "\n",
    "# Send the input file into the while loop and send the output to a file named \"rhonda_fixed.txt\".\n",
    "done < \"$file\" > \"$output_file\""
   ]
  },
  {
   "cell_type": "code",
   "execution_count": 46,
   "metadata": {
    "scrolled": false
   },
   "outputs": [
    {
     "name": "stdout",
     "output_type": "stream",
     "text": [
      "TRINITY_DN102431_c0_g1\tGO:0000049\tGO:0000049\r\n",
      "TRINITY_DN104822_c0_g1\tGO:0003677\tGO:0003677\r\n",
      "TRINITY_DN111591_c0_g1\tGO:0016829\tGO:0016829\r\n",
      "TRINITY_DN111591_c0_g1\tGO:0016836\tGO:0016836\r\n",
      "TRINITY_DN111591_c0_g1\tGO:0016836\tGO:0016835\r\n",
      "TRINITY_DN151705_c0_g1\tGO:0003756\tGO:0003756\r\n",
      "TRINITY_DN151705_c0_g1\tGO:0003756\tGO:0016864\r\n",
      "TRINITY_DN151705_c0_g1\tGO:0016853\tGO:0016853\r\n",
      "TRINITY_DN151705_c0_g1\tGO:0016860\tGO:0016860\r\n",
      "TRINITY_DN172940_c0_g1\tGO:0008168\tGO:0008168\r\n",
      "TRINITY_DN172940_c0_g1\tGO:0016741\tGO:0016741\r\n",
      "TRINITY_DN175296_c0_g1\tGO:0016491\tGO:0016491\r\n",
      "TRINITY_DN175296_c0_g1\tGO:0016616\tGO:0016616\r\n",
      "TRINITY_DN175296_c0_g1\tGO:0016616\tGO:0016614\r\n",
      "TRINITY_DN2119_c1_g1\tGO:0005507\tGO:0005507\r\n",
      "TRINITY_DN2119_c1_g1\tGO:0046872\tGO:0046872\r\n",
      "TRINITY_DN2119_c1_g1\tGO:0046872\tGO:0043169\r\n",
      "TRINITY_DN2119_c1_g1\tGO:0046914\tGO:0046914\r\n",
      "TRINITY_DN223640_c0_g1\tGO:0004518\tGO:0004518\r\n",
      "TRINITY_DN223640_c0_g1\tGO:0016788\tGO:0016788\r\n"
     ]
    }
   ],
   "source": [
    "#It was unfolded correctly but the second column is not correct\n",
    "!head -20 Zostera_blast-GO-unfolded.tab"
   ]
  },
  {
   "cell_type": "code",
   "execution_count": 68,
   "metadata": {},
   "outputs": [],
   "source": [
    "#Only retain the third and first columns\n",
    "#Sort\n",
    "#Save as a new file\n",
    "!awk '{print $3\"\\t\"$1}' Zostera_blast-GO-unfolded.tab \\\n",
    "| sort \\\n",
    "> Zostera_blast-GO-unfolded-sorted.tab"
   ]
  },
  {
   "cell_type": "code",
   "execution_count": 69,
   "metadata": {
    "scrolled": false
   },
   "outputs": [
    {
     "name": "stdout",
     "output_type": "stream",
     "text": [
      "GO:0000049\tTRINITY_DN102431_c0_g1\n",
      "GO:0000049\tTRINITY_DN238280_c0_g1\n",
      "GO:0000049\tTRINITY_DN271649_c0_g1\n",
      "GO:0000049\tTRINITY_DN276607_c0_g1\n",
      "GO:0000049\tTRINITY_DN277000_c0_g1\n",
      "GO:0000049\tTRINITY_DN316649_c0_g1\n",
      "GO:0000104\tTRINITY_DN298605_c1_g1\n",
      "GO:0000149\tTRINITY_DN271641_c0_g3\n",
      "GO:0000287\tTRINITY_DN255876_c0_g1\n",
      "GO:0000287\tTRINITY_DN255960_c0_g1\n",
      "     831    1662   28225 Zostera_blast-GO-unfolded-sorted.tab\n"
     ]
    }
   ],
   "source": [
    "#Confirm output\n",
    "!head Zostera_blast-GO-unfolded-sorted.tab\n",
    "!wc Zostera_blast-GO-unfolded-sorted.tab"
   ]
  },
  {
   "cell_type": "markdown",
   "metadata": {},
   "source": [
    "### *L. zosterae*"
   ]
  },
  {
   "cell_type": "code",
   "execution_count": 49,
   "metadata": {},
   "outputs": [],
   "source": [
    "%%bash \n",
    "\n",
    "# This script was originally written to address a specific problem that Rhonda was having\n",
    "\n",
    "# input_file is the initial, \"problem\" file\n",
    "# file is an intermediate file that most of the program works upon\n",
    "# output_file is the final file produced by the script\n",
    "input_file=\"nonZostera_blast-annot.tab\"\n",
    "file=\"nonZostera_intermediate.file\"\n",
    "output_file=\"nonZostera_blast-GO-unfolded.tab\"\n",
    "\n",
    "# sed command substitutes the \"; \" sequence to a tab and writes the new format to a new file.\n",
    "# This character sequence is how the GO terms are delimited in their field.\n",
    "sed $'s/; /\\t/g' \"$input_file\" > \"$file\"\n",
    "\n",
    "# Identify first field containing a GO term.\n",
    "# Search file with grep for \"GO:\" and pipe to awk.\n",
    "# Awk sets tab as field delimiter (-F'\\t'), runs a for loop that looks for \"GO:\" (~/GO:/), and then prints the field number).\n",
    "# Awk results are piped to sort, which sorts unique by number (-ug).\n",
    "# Sort results are piped to head to retrieve the lowest value (i.e. the top of the list; \"-n1\").\n",
    "begin_goterms=$(grep \"GO:\" \"$file\" | awk -F'\\t' '{for (i=1;i<=NF;i++) if($i ~/GO:/) print i}' | sort -ug | head -n1)\n",
    "\n",
    "# While loop to process each line of the input file.\n",
    "while read -r line\n",
    "\tdo\n",
    "\t\n",
    "\t# Send contents of the current line to awk.\n",
    "\t# Set the field separator as a tab (-F'\\t') and print the number of fields in that line.\n",
    "\t# Save the results of the echo/awk pipe (i.e. number of fields) to the variable \"max_field\".\n",
    "\tmax_field=$(echo \"$line\" | awk -F'\\t' '{print NF}')\n",
    "\n",
    "\t# Send contents of current line to cut.\n",
    "\t# Cut fields (i.e. retain those fields) 1-12.\n",
    "\t# Save the results of the echo/cut pipe (i.e. fields 1-12) to the variable \"fixed_fields\"\n",
    "\tfixed_fields=$(echo \"$line\" | cut -f1-2)\n",
    "\n",
    "\t# Since not all the lines contain the same number of fields (e.g. may not have GO terms),\n",
    "\t# evaluate the number of fields in each line to determine how to handle current line.\n",
    "\n",
    "\t# If the value in max_field is less than the field number where the GO terms begin,\n",
    "\t# then just print the current line (%s) followed by a newline (\\n).\n",
    "\tif (( \"$max_field\" < \"$begin_goterms\" ))\n",
    "\t\tthen printf \"%s\\n\" \"$line\"\n",
    "\t\t\telse\n",
    "\n",
    "\t\t\t# Send contents of current line (which contains GO terms) to cut.\n",
    "\t\t\t# Cut fields (i.e. retain those fields) 13 to whatever the last field is in the curent line.\n",
    "\t\t\t# Save the results of the echo/cut pipe (i.e. all the GO terms fields) to the variable \"goterms\".\n",
    "\t\t\tgoterms=$(echo \"$line\" | cut -f\"$begin_goterms\"-\"$max_field\")\n",
    "\t\t\t\n",
    "\t\t\t# Assign values in the variable \"goterms\" to a new indexed array (called \"array\"), \n",
    "\t\t\t# with tab delimiter (IFS=$'\\t')\n",
    "\t\t\tIFS=$'\\t' read -r -a array <<<\"$goterms\"\n",
    "\t\t\t\n",
    "\t\t\t# Iterate through each element of the array.\n",
    "\t\t\t# Print the first 12 fields (i.e. the fields stored in \"fixed_fields\") followed by a tab (%s\\t).\n",
    "\t\t\t# Print the current element in the array (i.e. the current GO term) followed by a new line (%s\\n).\n",
    "\t\t\tfor element in \"${!array[@]}\"\t\n",
    "\t\t\t\tdo printf \"%s\\t%s\\n\" \"$fixed_fields\" \"${array[$element]}\"\n",
    "\t\t\tdone\n",
    "\tfi\n",
    "\n",
    "# Send the input file into the while loop and send the output to a file named \"rhonda_fixed.txt\".\n",
    "done < \"$file\" > \"$output_file\""
   ]
  },
  {
   "cell_type": "code",
   "execution_count": 50,
   "metadata": {
    "scrolled": false
   },
   "outputs": [
    {
     "name": "stdout",
     "output_type": "stream",
     "text": [
      "TRINITY_DN274805_c0_g2\tGO:0003779\tGO:0003779\r\n",
      "TRINITY_DN274805_c0_g2\tGO:0003779\tGO:0008092\r\n",
      "TRINITY_DN276416_c0_g1\tGO:0005524\tGO:0005524\r\n",
      "TRINITY_DN276416_c0_g1\tGO:0005524\tGO:0008144\r\n",
      "TRINITY_DN276416_c0_g1\tGO:0005524\tGO:0032559\r\n",
      "TRINITY_DN276416_c0_g1\tGO:0005524\tGO:0035639\r\n",
      "TRINITY_DN276416_c0_g1\tGO:0005524\tGO:0030554\r\n",
      "TRINITY_DN449830_c0_g1\tGO:0005524\tGO:0005524\r\n",
      "TRINITY_DN449830_c0_g1\tGO:0005524\tGO:0008144\r\n",
      "TRINITY_DN449830_c0_g1\tGO:0005524\tGO:0032559\r\n",
      "TRINITY_DN449830_c0_g1\tGO:0005524\tGO:0035639\r\n",
      "TRINITY_DN449830_c0_g1\tGO:0005524\tGO:0030554\r\n",
      "TRINITY_DN312726_c1_g4\tGO:0008509\tGO:0008509\r\n",
      "TRINITY_DN316900_c0_g1\tGO:0004190\tGO:0004190\r\n",
      "TRINITY_DN316900_c0_g1\tGO:0004190\tGO:0070001\r\n",
      "TRINITY_DN251134_c1_g1\tGO:0015085\tGO:0015085\r\n",
      "TRINITY_DN259150_c0_g1\tGO:0016836\tGO:0016836\r\n",
      "TRINITY_DN259150_c0_g1\tGO:0016836\tGO:0016835\r\n",
      "TRINITY_DN292324_c0_g1\tGO:0004806\tGO:0004806\r\n",
      "TRINITY_DN292324_c0_g1\tGO:0004806\tGO:0052689\r\n"
     ]
    }
   ],
   "source": [
    "#It was unfolded correctly but the second column is not correct\n",
    "!head -20 nonZostera_blast-GO-unfolded.tab"
   ]
  },
  {
   "cell_type": "code",
   "execution_count": 66,
   "metadata": {},
   "outputs": [],
   "source": [
    "#Only retain the first and third columns\n",
    "#Sort\n",
    "#Save as a new file\n",
    "!awk '{print $3\"\\t\"$1}' nonZostera_blast-GO-unfolded.tab \\\n",
    "| sort \\\n",
    "> nonZostera_blast-GO-unfolded-sorted.tab"
   ]
  },
  {
   "cell_type": "code",
   "execution_count": 67,
   "metadata": {
    "scrolled": false
   },
   "outputs": [
    {
     "name": "stdout",
     "output_type": "stream",
     "text": [
      "GO:0000166\tTRINITY_DN276416_c0_g1\n",
      "GO:0000166\tTRINITY_DN449830_c0_g1\n",
      "GO:0000287\tTRINITY_DN277082_c0_g1\n",
      "GO:0003677\tTRINITY_DN314232_c4_g4\n",
      "GO:0003723\tTRINITY_DN251191_c0_g1\n",
      "GO:0003723\tTRINITY_DN251191_c0_g2\n",
      "GO:0003723\tTRINITY_DN295087_c0_g1\n",
      "GO:0003723\tTRINITY_DN312702_c0_g1\n",
      "GO:0003735\tTRINITY_DN296759_c4_g1\n",
      "GO:0003774\tTRINITY_DN293386_c0_g1\n",
      "     155 nonZostera_blast-GO-unfolded-sorted.tab\n"
     ]
    }
   ],
   "source": [
    "#Confirm output\n",
    "!head nonZostera_blast-GO-unfolded-sorted.tab\n",
    "!wc -l nonZostera_blast-GO-unfolded-sorted.tab"
   ]
  },
  {
   "cell_type": "markdown",
   "metadata": {},
   "source": [
    "## 3. Match to GO Slim terms"
   ]
  },
  {
   "cell_type": "code",
   "execution_count": 70,
   "metadata": {},
   "outputs": [
    {
     "name": "stdout",
     "output_type": "stream",
     "text": [
      "  % Total    % Received % Xferd  Average Speed   Time    Time     Time  Current\n",
      "                                 Dload  Upload   Total   Spent    Left  Speed\n",
      "100 2314k  100 2314k    0     0   465k      0  0:00:04  0:00:04 --:--:--  465k\n"
     ]
    }
   ],
   "source": [
    "#Download list of GO Slim and matching GOterms\n",
    "!curl -O http://owl.fish.washington.edu/halfshell/bu-alanine-wd/17-07-20/GO-GOslim.sorted"
   ]
  },
  {
   "cell_type": "code",
   "execution_count": 71,
   "metadata": {},
   "outputs": [
    {
     "name": "stdout",
     "output_type": "stream",
     "text": [
      "GO:0000001\tmitochondrion inheritance\tcell organization and biogenesis\tP\r\n",
      "GO:0000002\tmitochondrial genome maintenance\tcell organization and biogenesis\tP\r\n",
      "GO:0000003\treproduction\tother biological processes\tP\r\n",
      "GO:0000006\thigh affinity zinc uptake transmembrane transporter activity\ttransporter activity\tF\r\n",
      "GO:0000007\tlow-affinity zinc ion transmembrane transporter activity\ttransporter activity\tF\r\n",
      "GO:0000009\t\"alpha-1,6-mannosyltransferase activity\"\tother molecular function\tF\r\n",
      "GO:0000010\ttrans-hexaprenyltranstransferase activity\tother molecular function\tF\r\n",
      "GO:0000011\tvacuole inheritance\tcell organization and biogenesis\tP\r\n",
      "GO:0000012\tsingle strand break repair\tDNA metabolism\tP\r\n",
      "GO:0000012\tsingle strand break repair\tstress response\tP\r\n"
     ]
    }
   ],
   "source": [
    "!head GO-GOslim.sorted"
   ]
  },
  {
   "cell_type": "markdown",
   "metadata": {},
   "source": [
    "### *Z. marina*"
   ]
  },
  {
   "cell_type": "code",
   "execution_count": 89,
   "metadata": {},
   "outputs": [],
   "source": [
    "#Join files to get GOslim for each query (with duplicate GOslim / query removed)\n",
    "!join -1 1 -2 1 -t $'\\t' \\\n",
    "Zostera_blast-GO-unfolded-sorted.tab \\\n",
    "GO-GOslim.sorted \\\n",
    "| uniq | awk -F'\\t' -v OFS='\\t' '{print $2, $3, $4, $5}' \\\n",
    "> Zostera_blastquery-GOslim.tab"
   ]
  },
  {
   "cell_type": "code",
   "execution_count": 90,
   "metadata": {
    "scrolled": true
   },
   "outputs": [
    {
     "name": "stdout",
     "output_type": "stream",
     "text": [
      "TRINITY_DN102431_c0_g1\ttRNA binding\tnucleic acid binding activity\tF\n",
      "TRINITY_DN238280_c0_g1\ttRNA binding\tnucleic acid binding activity\tF\n",
      "TRINITY_DN271649_c0_g1\ttRNA binding\tnucleic acid binding activity\tF\n",
      "TRINITY_DN276607_c0_g1\ttRNA binding\tnucleic acid binding activity\tF\n",
      "TRINITY_DN277000_c0_g1\ttRNA binding\tnucleic acid binding activity\tF\n",
      "TRINITY_DN316649_c0_g1\ttRNA binding\tnucleic acid binding activity\tF\n",
      "TRINITY_DN298605_c1_g1\tsuccinate dehydrogenase activity\tother molecular function\tF\n",
      "TRINITY_DN271641_c0_g3\tSNARE binding\tother molecular function\tF\n",
      "TRINITY_DN255876_c0_g1\tmagnesium ion binding\tother molecular function\tF\n",
      "TRINITY_DN255960_c0_g1\tmagnesium ion binding\tother molecular function\tF\n",
      "     806 Zostera_blastquery-GOslim.tab\n"
     ]
    }
   ],
   "source": [
    "#Check output\n",
    "!head Zostera_blastquery-GOslim.tab\n",
    "!wc -l Zostera_blastquery-GOslim.tab"
   ]
  },
  {
   "cell_type": "markdown",
   "metadata": {},
   "source": [
    "### *L. zostera*"
   ]
  },
  {
   "cell_type": "code",
   "execution_count": 75,
   "metadata": {},
   "outputs": [],
   "source": [
    "#Join files to get GOslim for each query (with duplicate GOslim / query removed)\n",
    "!join -1 1 -2 1 -t $'\\t' \\\n",
    "nonZostera_blast-GO-unfolded-sorted.tab \\\n",
    "GO-GOslim.sorted \\\n",
    "| uniq | awk -F'\\t' -v OFS='\\t' '{print $2, $4, $5}' \\\n",
    "> nonZostera_blastquery-GOslim.tab"
   ]
  },
  {
   "cell_type": "code",
   "execution_count": 76,
   "metadata": {
    "scrolled": true
   },
   "outputs": [
    {
     "name": "stdout",
     "output_type": "stream",
     "text": [
      "TRINITY_DN276416_c0_g1\tother molecular function\tF\n",
      "TRINITY_DN449830_c0_g1\tother molecular function\tF\n",
      "TRINITY_DN277082_c0_g1\tother molecular function\tF\n",
      "TRINITY_DN314232_c4_g4\tnucleic acid binding activity\tF\n",
      "TRINITY_DN251191_c0_g1\tnucleic acid binding activity\tF\n",
      "TRINITY_DN251191_c0_g2\tnucleic acid binding activity\tF\n",
      "TRINITY_DN295087_c0_g1\tnucleic acid binding activity\tF\n",
      "TRINITY_DN312702_c0_g1\tnucleic acid binding activity\tF\n",
      "TRINITY_DN296759_c4_g1\tother molecular function\tF\n",
      "TRINITY_DN293386_c0_g1\tcytoskeletal activity\tF\n",
      "     146 nonZostera_blastquery-GOslim.tab\n"
     ]
    }
   ],
   "source": [
    "#Check output\n",
    "!head nonZostera_blastquery-GOslim.tab\n",
    "!wc -l nonZostera_blastquery-GOslim.tab"
   ]
  },
  {
   "cell_type": "markdown",
   "metadata": {},
   "source": [
    "## 4. Get Biological Process GO Slim terms"
   ]
  },
  {
   "cell_type": "markdown",
   "metadata": {},
   "source": [
    "### *Z. marina*"
   ]
  },
  {
   "cell_type": "code",
   "execution_count": 85,
   "metadata": {},
   "outputs": [],
   "source": [
    "#Get all lines that match P (biological process)\n",
    "#Sort\n",
    "#Save output\n",
    "!awk -F\"\\t\" '$3 == \"P\" { print $1\"\\t\"$2 }' Zostera_blastquery-GOslim.tab | sort > Zostera_blastquery-GOslim-BP.sorted"
   ]
  },
  {
   "cell_type": "code",
   "execution_count": 86,
   "metadata": {},
   "outputs": [
    {
     "name": "stdout",
     "output_type": "stream",
     "text": [
      "       0       0       0 Zostera_blastquery-GOslim-BP.sorted\r\n"
     ]
    }
   ],
   "source": [
    "#Check output\n",
    "!head Zostera_blastquery-GOslim-BP.sorted\n",
    "!wc Zostera_blastquery-GOslim-BP.sorted"
   ]
  },
  {
   "cell_type": "code",
   "execution_count": 79,
   "metadata": {},
   "outputs": [
    {
     "name": "stdout",
     "output_type": "stream",
     "text": [
      "       0 Zostera_blastquery-GOslim-BP.sorted.unique\r\n"
     ]
    }
   ],
   "source": [
    "#Remove duplicate entries\n",
    "#Count the number of unique entries\n",
    "!uniq Zostera_blastquery-GOslim-BP.sorted > Zostera_blastquery-GOslim-BP.sorted.unique\n",
    "!head Zostera_blastquery-GOslim-BP.sorted.unique\n",
    "!wc -l Zostera_blastquery-GOslim-BP.sorted.unique"
   ]
  },
  {
   "cell_type": "code",
   "execution_count": 80,
   "metadata": {},
   "outputs": [
    {
     "name": "stdout",
     "output_type": "stream",
     "text": [
      "       0\r\n"
     ]
    }
   ],
   "source": [
    "#Count the number of unique IDs with GOSlim terms\n",
    "!uniq -f1 Zostera_blastquery-GOslim-BP.sorted.unique | wc -l"
   ]
  },
  {
   "cell_type": "code",
   "execution_count": 81,
   "metadata": {},
   "outputs": [
    {
     "name": "stdout",
     "output_type": "stream",
     "text": [
      "       0 Zostera_blastquery-GOslim-BP.sorted.unique.noOther\r\n"
     ]
    }
   ],
   "source": [
    "#Remove all \"other biological processes\"\n",
    "#Confirm removal\n",
    "#Count the number of entries\n",
    "!grep --invert-match \"other biological processes\" Zostera_blastquery-GOslim-BP.sorted.unique \\\n",
    "> Zostera_blastquery-GOslim-BP.sorted.unique.noOther\n",
    "!head Zostera_blastquery-GOslim-BP.sorted.unique.noOther\n",
    "!wc -l Zostera_blastquery-GOslim-BP.sorted.unique.noOther"
   ]
  },
  {
   "cell_type": "code",
   "execution_count": 82,
   "metadata": {},
   "outputs": [
    {
     "name": "stdout",
     "output_type": "stream",
     "text": [
      "       0\r\n"
     ]
    }
   ],
   "source": [
    "#Count the number of unique CGI IDs with defined GOSlim terms\n",
    "!uniq -f1 Zostera_blastquery-GOslim-BP.sorted.unique.noOther | wc -l"
   ]
  },
  {
   "cell_type": "markdown",
   "metadata": {},
   "source": [
    "### *L. zostera*"
   ]
  }
 ],
 "metadata": {
  "kernelspec": {
   "display_name": "Python 3",
   "language": "python",
   "name": "python3"
  },
  "language_info": {
   "codemirror_mode": {
    "name": "ipython",
    "version": 3
   },
   "file_extension": ".py",
   "mimetype": "text/x-python",
   "name": "python",
   "nbconvert_exporter": "python",
   "pygments_lexer": "ipython3",
   "version": "3.7.4"
  }
 },
 "nbformat": 4,
 "nbformat_minor": 2
}
