{
 "cells": [
  {
   "cell_type": "markdown",
   "metadata": {},
   "source": [
    "# `blastx` and Uniprot File Merging\n",
    "\n",
    "In this notebook, we will merge `blastx` output for *Zostera marina* and *Labyrinthula zosterae* with information from the [Uniprot-SwissProt database](https://www.uniprot.org/uniprot/?query=reviewed:yes)."
   ]
  },
  {
   "cell_type": "markdown",
   "metadata": {},
   "source": [
    "## Step 0: Set working directory"
   ]
  },
  {
   "cell_type": "code",
   "execution_count": 6,
   "metadata": {
    "collapsed": false
   },
   "outputs": [
    {
     "name": "stdout",
     "output_type": "stream",
     "text": [
      "/Users/yaaminivenkataraman/Documents/project-EWD-transcriptomics/scripts\r\n"
     ]
    }
   ],
   "source": [
    "!pwd"
   ]
  },
  {
   "cell_type": "code",
   "execution_count": 9,
   "metadata": {
    "collapsed": false
   },
   "outputs": [
    {
     "name": "stdout",
     "output_type": "stream",
     "text": [
      "/Users/yaaminivenkataraman/Documents/project-EWD-transcriptomics/data\n"
     ]
    }
   ],
   "source": [
    "cd ../data/"
   ]
  },
  {
   "cell_type": "code",
   "execution_count": 10,
   "metadata": {
    "collapsed": false
   },
   "outputs": [
    {
     "name": "stdout",
     "output_type": "stream",
     "text": [
      "\u001b[34m2019-07-09-Merging-Script-Troubleshooting\u001b[m\u001b[m/\r\n",
      "README.md\r\n",
      "\u001b[31mZostera_SwissProt_e5_output\u001b[m\u001b[m*\r\n",
      "\u001b[31mZostera_contigs.fasta\u001b[m\u001b[m*\r\n",
      "\u001b[31mnonZostera_SwissProt_e5_outputBOX.txt\u001b[m\u001b[m*\r\n",
      "\u001b[31mnonZostera_contigs.fasta\u001b[m\u001b[m*\r\n"
     ]
    }
   ],
   "source": [
    "ls -F"
   ]
  },
  {
   "cell_type": "markdown",
   "metadata": {},
   "source": [
    "## Step 1: Format `blastx` output"
   ]
  },
  {
   "cell_type": "markdown",
   "metadata": {},
   "source": [
    "### Step 1a: *Z. marina*"
   ]
  },
  {
   "cell_type": "code",
   "execution_count": 11,
   "metadata": {
    "collapsed": false,
    "scrolled": true
   },
   "outputs": [
    {
     "name": "stdout",
     "output_type": "stream",
     "text": [
      "TRINITY_DN31278_c0_g1_i1\tsp|Q54J75|RPB2_DICDI\t64.0\t111\t40\t0\t1\t333\t950\t1060\t6.9e-40\t164.5\r\n",
      "TRINITY_DN31239_c0_g1_i1\tsp|Q9SIT6|AB5G_ARATH\t29.6\t125\t88\t0\t58\t432\t440\t564\t1.4e-12\t74.3\r\n"
     ]
    }
   ],
   "source": [
    "!head -n2 Zostera_SwissProt_e5_output"
   ]
  },
  {
   "cell_type": "code",
   "execution_count": 16,
   "metadata": {
    "collapsed": true
   },
   "outputs": [],
   "source": [
    "#Convert pipe delimiters to tab delimiters using tr (tr means translate)\n",
    "!tr '|' '\\t' < Zostera_SwissProt_e5_output \\\n",
    "> Zostera-blast-sep.tab"
   ]
  },
  {
   "cell_type": "code",
   "execution_count": 17,
   "metadata": {
    "collapsed": false
   },
   "outputs": [
    {
     "name": "stdout",
     "output_type": "stream",
     "text": [
      "TRINITY_DN31278_c0_g1_i1\tsp\tQ54J75\tRPB2_DICDI\t64.0\t111\t40\t0\t1\t333\t950\t1060\t6.9e-40\t164.5\r\n",
      "TRINITY_DN31239_c0_g1_i1\tsp\tQ9SIT6\tAB5G_ARATH\t29.6\t125\t88\t0\t58\t432\t440\t564\t1.4e-12\t74.3\r\n"
     ]
    }
   ],
   "source": [
    "!head -n2 Zostera-blast-sep.tab"
   ]
  },
  {
   "cell_type": "code",
   "execution_count": 26,
   "metadata": {
    "collapsed": true
   },
   "outputs": [],
   "source": [
    "#Reduce the number of columns using awk. Sort, and save as a new file.\n",
    "!awk -v OFS='\\t' '{print $3, $1, $13}' < Zostera-blast-sep.tab | sort \\\n",
    "> Zostera-blast-sort.tab"
   ]
  },
  {
   "cell_type": "code",
   "execution_count": 27,
   "metadata": {
    "collapsed": false,
    "scrolled": true
   },
   "outputs": [
    {
     "name": "stdout",
     "output_type": "stream",
     "text": [
      "A0A024B7I0\tTRINITY_DN278019_c0_g1_i1\t6.4e-133\r\n",
      "A0A067XMP1\tTRINITY_DN166310_c0_g1_i1\t2.0e-17\r\n",
      "A0A067XMP1\tTRINITY_DN17396_c0_g1_i1\t6.1e-17\r\n",
      "A0A067XMP1\tTRINITY_DN309320_c0_g7_i1\t3.2e-07\r\n",
      "A0A068FIK2\tTRINITY_DN241620_c0_g1_i1\t1.6e-37\r\n",
      "A0A068FIK2\tTRINITY_DN285385_c0_g3_i3\t2.4e-29\r\n",
      "A0A068FIK2\tTRINITY_DN308379_c0_g1_i1\t3.7e-207\r\n",
      "A0A068FIK2\tTRINITY_DN308379_c0_g1_i4\t0.0e+00\r\n",
      "A0A068FIK2\tTRINITY_DN308379_c0_g1_i5\t4.5e-226\r\n",
      "A0A068FIK2\tTRINITY_DN308379_c0_g1_i5\t7.7e-133\r\n"
     ]
    }
   ],
   "source": [
    "!head Zostera-blast-sort.tab"
   ]
  },
  {
   "cell_type": "markdown",
   "metadata": {},
   "source": [
    "### Step 1b: *L. zosterae*"
   ]
  },
  {
   "cell_type": "markdown",
   "metadata": {},
   "source": [
    "We will assume that everything that is not *Z. marina* will be *L. zosterae*."
   ]
  },
  {
   "cell_type": "code",
   "execution_count": 28,
   "metadata": {
    "collapsed": false,
    "scrolled": true
   },
   "outputs": [
    {
     "name": "stdout",
     "output_type": "stream",
     "text": [
      "TRINITY_DN31224_c0_g1_i1\tsp|Q54T06|Y8206_DICDI\t52.1\t96\t40\t1\t4\t273\t458\t553\t4.1e-25\t115.2\r\n",
      "TRINITY_DN31259_c0_g1_i1\tsp|P15374|UCHL3_HUMAN\t49.3\t73\t37\t0\t8\t226\t144\t216\t1.3e-13\t76.6\r\n"
     ]
    }
   ],
   "source": [
    "!head -n2 nonZostera_SwissProt_e5_outputBOX.txt"
   ]
  },
  {
   "cell_type": "code",
   "execution_count": 29,
   "metadata": {
    "collapsed": true
   },
   "outputs": [],
   "source": [
    "#Convert pipe delimiters to tab delimiters using tr (tr means translate)\n",
    "!tr '|' '\\t' < nonZostera_SwissProt_e5_outputBOX.txt \\\n",
    "> nonZostera-blast-sep.tab"
   ]
  },
  {
   "cell_type": "code",
   "execution_count": 30,
   "metadata": {
    "collapsed": false
   },
   "outputs": [
    {
     "name": "stdout",
     "output_type": "stream",
     "text": [
      "TRINITY_DN31224_c0_g1_i1\tsp\tQ54T06\tY8206_DICDI\t52.1\t96\t40\t1\t4\t273\t458\t553\t4.1e-25\t115.2\r\n",
      "TRINITY_DN31259_c0_g1_i1\tsp\tP15374\tUCHL3_HUMAN\t49.3\t73\t37\t0\t8\t226\t144\t216\t1.3e-13\t76.6\r\n"
     ]
    }
   ],
   "source": [
    "!head -n2 nonZostera-blast-sep.tab"
   ]
  },
  {
   "cell_type": "code",
   "execution_count": 31,
   "metadata": {
    "collapsed": true
   },
   "outputs": [],
   "source": [
    "#Reduce the number of columns using awk. Sort, and save as a new file.\n",
    "!awk -v OFS='\\t' '{print $3, $1, $13}' < nonZostera-blast-sep.tab | sort \\\n",
    "> nonZostera-blast-sort.tab"
   ]
  },
  {
   "cell_type": "code",
   "execution_count": 32,
   "metadata": {
    "collapsed": false,
    "scrolled": true
   },
   "outputs": [
    {
     "name": "stdout",
     "output_type": "stream",
     "text": [
      "A0A024RXP8\tTRINITY_DN416168_c0_g1_i1\t7.8e-07\r\n",
      "A0A024SMV2\tTRINITY_DN174741_c0_g1_i1\t8.9e-10\r\n",
      "A0A024SMV2\tTRINITY_DN192522_c0_g1_i1\t3.6e-11\r\n",
      "A0A060X6Z0\tTRINITY_DN123691_c0_g1_i1\t3.5e-19\r\n",
      "A0A067XMP1\tTRINITY_DN166166_c0_g1_i1\t1.1e-10\r\n",
      "A0A067XMP1\tTRINITY_DN166166_c0_g1_i2\t2.0e-10\r\n",
      "A0A067XMP1\tTRINITY_DN245901_c0_g1_i3\t4.4e-06\r\n",
      "A0A067XMP1\tTRINITY_DN336889_c0_g1_i1\t3.6e-06\r\n",
      "A0A067XMP1\tTRINITY_DN341637_c0_g1_i1\t1.8e-12\r\n",
      "A0A067XMP1\tTRINITY_DN393221_c0_g1_i1\t4.0e-06\r\n"
     ]
    }
   ],
   "source": [
    "!head nonZostera-blast-sort.tab"
   ]
  },
  {
   "cell_type": "markdown",
   "metadata": {},
   "source": [
    "## Step 2. Format Uniprot-SwissProt database"
   ]
  },
  {
   "cell_type": "markdown",
   "metadata": {},
   "source": [
    "The Uniprot annotation file was downloaded from [this link](https://www.uniprot.org/uniprot/?query=reviewed:yes) on 2019-07-10. The following information was included as separate columns:\n",
    "\n",
    "- Entry (Uniprot Accession code)\n",
    "- Protein Names\n",
    "- Gene ontology (biological process)\n",
    "- Gene ontology (cellular component)\n",
    "- Gene ontology (molecular function)\n",
    "- Gene onology IDs\n",
    "- Status (Reviewed or not reviewed)\n",
    "- Organism"
   ]
  },
  {
   "cell_type": "code",
   "execution_count": 34,
   "metadata": {
    "collapsed": false
   },
   "outputs": [
    {
     "name": "stdout",
     "output_type": "stream",
     "text": [
      "Entry\tProtein names\tGene ontology (biological process)\tGene ontology (cellular component)\tGene ontology (molecular function)\tGene ontology IDs\tStatus\tOrganism\r\n",
      "Q0ATK2\tAcetyl-coenzyme A carboxylase carboxyl transferase subunit beta (ACCase subunit beta) (Acetyl-CoA carboxylase carboxyltransferase subunit beta) (EC 2.1.3.15)\tfatty acid biosynthetic process [GO:0006633]; malonyl-CoA biosynthetic process [GO:2001295]\tacetyl-CoA carboxylase complex [GO:0009317]\tacetyl-CoA carboxylase activity [GO:0003989]; ATP binding [GO:0005524]; carboxyl- or carbamoyltransferase activity [GO:0016743]\tGO:0003989; GO:0005524; GO:0006633; GO:0009317; GO:0016743; GO:2001295\treviewed\tMaricaulis maris (strain MCS10)\r\n"
     ]
    }
   ],
   "source": [
    "!head -n2 uniprot-reviewed_yes.tab"
   ]
  },
  {
   "cell_type": "code",
   "execution_count": 36,
   "metadata": {
    "collapsed": false
   },
   "outputs": [],
   "source": [
    "#Sort file by the first column (-k 1), which is the Uniprot Entry (Uniprot Accession Code)\n",
    "!sort uniprot-reviewed_yes.tab -k 1 > uniprot-SP-GO-sorted.tab"
   ]
  },
  {
   "cell_type": "code",
   "execution_count": 38,
   "metadata": {
    "collapsed": false
   },
   "outputs": [
    {
     "name": "stdout",
     "output_type": "stream",
     "text": [
      "A0A023GPI8\tLectin alpha chain (CboL) [Cleaved into: Lectin beta chain; Lectin gamma chain]\t\t\tmannose binding [GO:0005537]; metal ion binding [GO:0046872]\tGO:0005537; GO:0046872\treviewed\tCanavalia boliviana\r\n",
      "A0A023GPJ0\tImmunity protein CdiI\t\t\t\t\treviewed\tEnterobacter cloacae subsp. cloacae (strain ATCC 13047 / DSM 30054 / NBRC 13535 / NCDC 279-56)\r\n"
     ]
    }
   ],
   "source": [
    "!head -n2 uniprot-SP-GO-sorted.tab"
   ]
  },
  {
   "cell_type": "markdown",
   "metadata": {},
   "source": [
    "## Step 3: Join `blastx` output with Uniprot annotation file"
   ]
  },
  {
   "cell_type": "markdown",
   "metadata": {},
   "source": [
    "### Step 3a: *Z. marina*"
   ]
  },
  {
   "cell_type": "code",
   "execution_count": null,
   "metadata": {
    "collapsed": true
   },
   "outputs": [],
   "source": [
    "#Join the first column in the first file with the first column in the second file\n",
    "join -1 1 -2 1 -t $'\\t' \\\n",
    "Zostera-blast-sort.tab \\\n",
    "uniprot-SP-GO.sorted \\\n",
    "> _blast-annot.tab"
   ]
  }
 ],
 "metadata": {
  "anaconda-cloud": {},
  "kernelspec": {
   "display_name": "Python [default]",
   "language": "python",
   "name": "python3"
  },
  "language_info": {
   "codemirror_mode": {
    "name": "ipython",
    "version": 3
   },
   "file_extension": ".py",
   "mimetype": "text/x-python",
   "name": "python",
   "nbconvert_exporter": "python",
   "pygments_lexer": "ipython3",
   "version": "3.5.2"
  }
 },
 "nbformat": 4,
 "nbformat_minor": 1
}
