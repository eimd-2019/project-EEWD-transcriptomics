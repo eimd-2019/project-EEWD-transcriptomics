{
 "cells": [
  {
   "cell_type": "markdown",
   "metadata": {},
   "source": [
    "# Assigning GO Slim Terms"
   ]
  },
  {
   "cell_type": "markdown",
   "metadata": {},
   "source": [
    "In this notebook, I'll assign GO Slim terms to differentially expressed genes for *Zostera marina* and *Labyrinthula zosterae*. This will help with downstream interpretation of biological processes impacted by infection."
   ]
  },
  {
   "cell_type": "markdown",
   "metadata": {},
   "source": [
    "## 0. Set working directory"
   ]
  },
  {
   "cell_type": "code",
   "execution_count": 1,
   "metadata": {},
   "outputs": [
    {
     "data": {
      "text/plain": [
       "'/Users/yaaminivenkataraman/Documents/project-EWD-transcriptomics/scripts'"
      ]
     },
     "execution_count": 1,
     "metadata": {},
     "output_type": "execute_result"
    }
   ],
   "source": [
    "pwd"
   ]
  },
  {
   "cell_type": "code",
   "execution_count": 3,
   "metadata": {},
   "outputs": [
    {
     "name": "stdout",
     "output_type": "stream",
     "text": [
      "/Users/yaaminivenkataraman/Documents/project-EWD-transcriptomics/analyses/GO-MWU/DE-GO-MWU\n"
     ]
    }
   ],
   "source": [
    "cd ../analyses/GO-MWU/DE-GO-MWU/"
   ]
  },
  {
   "cell_type": "markdown",
   "metadata": {},
   "source": [
    "## 1. Format differentially expressed genes"
   ]
  },
  {
   "cell_type": "markdown",
   "metadata": {},
   "source": [
    "### *Z. marina*"
   ]
  },
  {
   "cell_type": "code",
   "execution_count": 46,
   "metadata": {
    "scrolled": true
   },
   "outputs": [
    {
     "name": "stdout",
     "output_type": "stream",
     "text": [
      "seq\tterm\r\n",
      "TRINITY_DN296376_c0_g1\tGO:0016407\r\n",
      "TRINITY_DN314167_c0_g1\tGO:0003993\r\n",
      "TRINITY_DN298173_c0_g1\tGO:0022804\r\n",
      "TRINITY_DN299750_c3_g1\tGO:0022804\r\n",
      "TRINITY_DN312095_c1_g3\tGO:0022804\r\n",
      "TRINITY_DN231504_c0_g1\tGO:0016411;GO:0008374\r\n",
      "TRINITY_DN256326_c0_g1\tGO:0016411;GO:0008374\r\n",
      "TRINITY_DN292999_c3_g1\tGO:0016411;GO:0008374\r\n",
      "TRINITY_DN223830_c0_g1\tGO:0033218\r\n"
     ]
    }
   ],
   "source": [
    "#Check current file formats\n",
    "!head 2019-07-15-Zostera-DEG-GOterms.tab"
   ]
  },
  {
   "cell_type": "code",
   "execution_count": 47,
   "metadata": {},
   "outputs": [],
   "source": [
    "#Remove header line and save as new file\n",
    "!tail -n +2 2019-07-15-Zostera-DEG-GOterms.tab > 2019-07-15-Zostera-DEG-GOterms-noHead.tab"
   ]
  },
  {
   "cell_type": "code",
   "execution_count": 48,
   "metadata": {},
   "outputs": [
    {
     "name": "stdout",
     "output_type": "stream",
     "text": [
      "TRINITY_DN296376_c0_g1\tGO:0016407\r\n",
      "TRINITY_DN314167_c0_g1\tGO:0003993\r\n",
      "TRINITY_DN298173_c0_g1\tGO:0022804\r\n",
      "TRINITY_DN299750_c3_g1\tGO:0022804\r\n",
      "TRINITY_DN312095_c1_g3\tGO:0022804\r\n",
      "TRINITY_DN231504_c0_g1\tGO:0016411;GO:0008374\r\n",
      "TRINITY_DN256326_c0_g1\tGO:0016411;GO:0008374\r\n",
      "TRINITY_DN292999_c3_g1\tGO:0016411;GO:0008374\r\n",
      "TRINITY_DN223830_c0_g1\tGO:0033218\r\n",
      "TRINITY_DN276063_c0_g1\tGO:0033218\r\n"
     ]
    }
   ],
   "source": [
    "!head 2019-07-15-Zostera-DEG-GOterms-noHead.tab"
   ]
  },
  {
   "cell_type": "markdown",
   "metadata": {},
   "source": [
    "### *L. zosterae*"
   ]
  },
  {
   "cell_type": "code",
   "execution_count": 49,
   "metadata": {},
   "outputs": [
    {
     "name": "stdout",
     "output_type": "stream",
     "text": [
      "seq\tterm\r\n",
      "TRINITY_DN274805_c0_g2\tGO:0003779;GO:0008092\r\n",
      "TRINITY_DN276416_c0_g1\tGO:0005524;GO:0008144;GO:0032559;GO:0035639;GO:0030554\r\n",
      "TRINITY_DN449830_c0_g1\tGO:0005524;GO:0008144;GO:0032559;GO:0035639;GO:0030554\r\n",
      "TRINITY_DN312726_c1_g4\tGO:0008509\r\n",
      "TRINITY_DN316900_c0_g1\tGO:0004190;GO:0070001\r\n",
      "TRINITY_DN251134_c1_g1\tGO:0015085\r\n",
      "TRINITY_DN259150_c0_g1\tGO:0016836;GO:0016835\r\n",
      "TRINITY_DN292324_c0_g1\tGO:0004806;GO:0052689\r\n",
      "TRINITY_DN277209_c0_g1\tGO:0004180\r\n"
     ]
    }
   ],
   "source": [
    "#Check current file formats\n",
    "!head 2019-07-15-nonZostera-DEG-GOterms.tab"
   ]
  },
  {
   "cell_type": "code",
   "execution_count": 51,
   "metadata": {},
   "outputs": [],
   "source": [
    "#Remove header line and save as new file\n",
    "!tail -n +2 2019-07-15-nonZostera-DEG-GOterms.tab > 2019-07-15-nonZostera-DEG-GOterms-noHead.tab"
   ]
  },
  {
   "cell_type": "code",
   "execution_count": 52,
   "metadata": {},
   "outputs": [
    {
     "name": "stdout",
     "output_type": "stream",
     "text": [
      "TRINITY_DN274805_c0_g2\tGO:0003779;GO:0008092\r\n",
      "TRINITY_DN276416_c0_g1\tGO:0005524;GO:0008144;GO:0032559;GO:0035639;GO:0030554\r\n",
      "TRINITY_DN449830_c0_g1\tGO:0005524;GO:0008144;GO:0032559;GO:0035639;GO:0030554\r\n",
      "TRINITY_DN312726_c1_g4\tGO:0008509\r\n",
      "TRINITY_DN316900_c0_g1\tGO:0004190;GO:0070001\r\n",
      "TRINITY_DN251134_c1_g1\tGO:0015085\r\n",
      "TRINITY_DN259150_c0_g1\tGO:0016836;GO:0016835\r\n",
      "TRINITY_DN292324_c0_g1\tGO:0004806;GO:0052689\r\n",
      "TRINITY_DN277209_c0_g1\tGO:0004180\r\n",
      "TRINITY_DN22073_c0_g1\tGO:0005261\r\n"
     ]
    }
   ],
   "source": [
    "!head 2019-07-15-nonZostera-DEG-GOterms-noHead.tab"
   ]
  },
  {
   "cell_type": "code",
   "execution_count": null,
   "metadata": {},
   "outputs": [],
   "source": []
  },
  {
   "cell_type": "code",
   "execution_count": null,
   "metadata": {},
   "outputs": [],
   "source": []
  },
  {
   "cell_type": "code",
   "execution_count": null,
   "metadata": {},
   "outputs": [],
   "source": []
  },
  {
   "cell_type": "code",
   "execution_count": null,
   "metadata": {},
   "outputs": [],
   "source": []
  },
  {
   "cell_type": "code",
   "execution_count": null,
   "metadata": {},
   "outputs": [],
   "source": []
  },
  {
   "cell_type": "code",
   "execution_count": null,
   "metadata": {},
   "outputs": [],
   "source": []
  }
 ],
 "metadata": {
  "kernelspec": {
   "display_name": "Python 3",
   "language": "python",
   "name": "python3"
  },
  "language_info": {
   "codemirror_mode": {
    "name": "ipython",
    "version": 3
   },
   "file_extension": ".py",
   "mimetype": "text/x-python",
   "name": "python",
   "nbconvert_exporter": "python",
   "pygments_lexer": "ipython3",
   "version": "3.7.4"
  }
 },
 "nbformat": 4,
 "nbformat_minor": 2
}
