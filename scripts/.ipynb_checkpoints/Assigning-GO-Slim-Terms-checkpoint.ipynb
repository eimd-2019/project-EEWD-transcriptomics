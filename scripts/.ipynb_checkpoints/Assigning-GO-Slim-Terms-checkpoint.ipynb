{
 "cells": [
  {
   "cell_type": "markdown",
   "metadata": {},
   "source": [
    "# Assigning GO Slim Terms"
   ]
  },
  {
   "cell_type": "markdown",
   "metadata": {},
   "source": [
    "In this notebook, I'll assign GO Slim terms to differentially expressed genes for *Zostera marina* and *Labyrinthula zosterae*. This will help with downstream interpretation of biological processes impacted by infection."
   ]
  },
  {
   "cell_type": "markdown",
   "metadata": {},
   "source": [
    "## 0. Set working directory"
   ]
  },
  {
   "cell_type": "code",
   "execution_count": 1,
   "metadata": {},
   "outputs": [
    {
     "data": {
      "text/plain": [
       "'/Users/yaaminivenkataraman/Documents/project-EWD-transcriptomics/scripts'"
      ]
     },
     "execution_count": 1,
     "metadata": {},
     "output_type": "execute_result"
    }
   ],
   "source": [
    "pwd"
   ]
  },
  {
   "cell_type": "code",
   "execution_count": 2,
   "metadata": {},
   "outputs": [
    {
     "name": "stdout",
     "output_type": "stream",
     "text": [
      "/Users/yaaminivenkataraman/Documents/project-EWD-transcriptomics/analyses/GO-MWU/DE-GO-MWU\n"
     ]
    }
   ],
   "source": [
    "cd ../analyses/GO-MWU/DE-GO-MWU/"
   ]
  },
  {
   "cell_type": "markdown",
   "metadata": {},
   "source": [
    "## 1. Format differentially expressed gene lists"
   ]
  },
  {
   "cell_type": "markdown",
   "metadata": {},
   "source": [
    "### *Z. marina*"
   ]
  },
  {
   "cell_type": "code",
   "execution_count": 46,
   "metadata": {
    "scrolled": true
   },
   "outputs": [
    {
     "name": "stdout",
     "output_type": "stream",
     "text": [
      "seq\tterm\r\n",
      "TRINITY_DN296376_c0_g1\tGO:0016407\r\n",
      "TRINITY_DN314167_c0_g1\tGO:0003993\r\n",
      "TRINITY_DN298173_c0_g1\tGO:0022804\r\n",
      "TRINITY_DN299750_c3_g1\tGO:0022804\r\n",
      "TRINITY_DN312095_c1_g3\tGO:0022804\r\n",
      "TRINITY_DN231504_c0_g1\tGO:0016411;GO:0008374\r\n",
      "TRINITY_DN256326_c0_g1\tGO:0016411;GO:0008374\r\n",
      "TRINITY_DN292999_c3_g1\tGO:0016411;GO:0008374\r\n",
      "TRINITY_DN223830_c0_g1\tGO:0033218\r\n"
     ]
    }
   ],
   "source": [
    "#Check current file formats\n",
    "!head 2019-07-15-Zostera-DEG-GOterms.tab"
   ]
  },
  {
   "cell_type": "code",
   "execution_count": 76,
   "metadata": {},
   "outputs": [],
   "source": [
    "#Remove header line\n",
    "# Sort file and save as new file\n",
    "!tail -n +2 2019-07-15-Zostera-DEG-GOterms.tab \\\n",
    "| sort > 2019-07-15-Zostera-DEG-GOterms-noHead.tab"
   ]
  },
  {
   "cell_type": "code",
   "execution_count": 3,
   "metadata": {},
   "outputs": [
    {
     "name": "stdout",
     "output_type": "stream",
     "text": [
      "TRINITY_DN102431_c0_g1\tGO:0000049\r\n",
      "TRINITY_DN104822_c0_g1\tGO:0003677\r\n",
      "TRINITY_DN111591_c0_g1\tGO:0016829\r\n",
      "TRINITY_DN111591_c0_g1\tGO:0016836;GO:0016835\r\n",
      "TRINITY_DN151705_c0_g1\tGO:0003756;GO:0016864\r\n",
      "TRINITY_DN151705_c0_g1\tGO:0016853\r\n",
      "TRINITY_DN151705_c0_g1\tGO:0016860\r\n",
      "TRINITY_DN172940_c0_g1\tGO:0008168\r\n",
      "TRINITY_DN172940_c0_g1\tGO:0016741\r\n",
      "TRINITY_DN175296_c0_g1\tGO:0016491\r\n"
     ]
    }
   ],
   "source": [
    "!head 2019-07-15-Zostera-DEG-GOterms-noHead.tab"
   ]
  },
  {
   "cell_type": "code",
   "execution_count": 43,
   "metadata": {},
   "outputs": [],
   "source": [
    "#Add space after each ; delimiter and save as a few file\n",
    "!sed 's/;/; /g' 2019-07-15-Zostera-DEG-GOterms-noHead.tab > Zostera_blast-annot.tab"
   ]
  },
  {
   "cell_type": "code",
   "execution_count": 44,
   "metadata": {
    "scrolled": false
   },
   "outputs": [
    {
     "name": "stdout",
     "output_type": "stream",
     "text": [
      "TRINITY_DN102431_c0_g1\tGO:0000049\r\n",
      "TRINITY_DN104822_c0_g1\tGO:0003677\r\n",
      "TRINITY_DN111591_c0_g1\tGO:0016829\r\n",
      "TRINITY_DN111591_c0_g1\tGO:0016836; GO:0016835\r\n",
      "TRINITY_DN151705_c0_g1\tGO:0003756; GO:0016864\r\n",
      "TRINITY_DN151705_c0_g1\tGO:0016853\r\n",
      "TRINITY_DN151705_c0_g1\tGO:0016860\r\n",
      "TRINITY_DN172940_c0_g1\tGO:0008168\r\n",
      "TRINITY_DN172940_c0_g1\tGO:0016741\r\n",
      "TRINITY_DN175296_c0_g1\tGO:0016491\r\n",
      "TRINITY_DN175296_c0_g1\tGO:0016616; GO:0016614\r\n",
      "TRINITY_DN2119_c1_g1\tGO:0005507\r\n",
      "TRINITY_DN2119_c1_g1\tGO:0046872; GO:0043169\r\n",
      "TRINITY_DN2119_c1_g1\tGO:0046914\r\n",
      "TRINITY_DN223640_c0_g1\tGO:0004518\r\n",
      "TRINITY_DN223640_c0_g1\tGO:0016788\r\n",
      "TRINITY_DN223640_c0_g1\tGO:0140098\r\n",
      "TRINITY_DN223830_c0_g1\tGO:0033218\r\n",
      "TRINITY_DN226183_c0_g1\tGO:0004372; GO:0016742\r\n",
      "TRINITY_DN226183_c0_g1\tGO:0016741\r\n"
     ]
    }
   ],
   "source": [
    "#Check output\n",
    "!head -20 Zostera_blast-annot.tab"
   ]
  },
  {
   "cell_type": "markdown",
   "metadata": {},
   "source": [
    "### *L. zosterae*"
   ]
  },
  {
   "cell_type": "code",
   "execution_count": 71,
   "metadata": {},
   "outputs": [
    {
     "name": "stdout",
     "output_type": "stream",
     "text": [
      "seq\tterm\r\n",
      "TRINITY_DN274805_c0_g2\tGO:0003779;GO:0008092\r\n",
      "TRINITY_DN276416_c0_g1\tGO:0005524;GO:0008144;GO:0032559;GO:0035639;GO:0030554\r\n",
      "TRINITY_DN449830_c0_g1\tGO:0005524;GO:0008144;GO:0032559;GO:0035639;GO:0030554\r\n",
      "TRINITY_DN312726_c1_g4\tGO:0008509\r\n",
      "TRINITY_DN316900_c0_g1\tGO:0004190;GO:0070001\r\n",
      "TRINITY_DN251134_c1_g1\tGO:0015085\r\n",
      "TRINITY_DN259150_c0_g1\tGO:0016836;GO:0016835\r\n",
      "TRINITY_DN292324_c0_g1\tGO:0004806;GO:0052689\r\n",
      "TRINITY_DN277209_c0_g1\tGO:0004180\r\n"
     ]
    }
   ],
   "source": [
    "#Check current file formats\n",
    "!head 2019-07-15-nonZostera-DEG-GOterms.tab"
   ]
  },
  {
   "cell_type": "code",
   "execution_count": 72,
   "metadata": {},
   "outputs": [],
   "source": [
    "#Remove header line and save as new file\n",
    "!tail -n +2 2019-07-15-nonZostera-DEG-GOterms.tab > 2019-07-15-nonZostera-DEG-GOterms-noHead.tab"
   ]
  },
  {
   "cell_type": "code",
   "execution_count": 34,
   "metadata": {},
   "outputs": [
    {
     "name": "stdout",
     "output_type": "stream",
     "text": [
      "TRINITY_DN274805_c0_g2\tGO:0003779;GO:0008092\r\n",
      "TRINITY_DN276416_c0_g1\tGO:0005524;GO:0008144;GO:0032559;GO:0035639;GO:0030554\r\n",
      "TRINITY_DN449830_c0_g1\tGO:0005524;GO:0008144;GO:0032559;GO:0035639;GO:0030554\r\n",
      "TRINITY_DN312726_c1_g4\tGO:0008509\r\n",
      "TRINITY_DN316900_c0_g1\tGO:0004190;GO:0070001\r\n",
      "TRINITY_DN251134_c1_g1\tGO:0015085\r\n",
      "TRINITY_DN259150_c0_g1\tGO:0016836;GO:0016835\r\n",
      "TRINITY_DN292324_c0_g1\tGO:0004806;GO:0052689\r\n",
      "TRINITY_DN277209_c0_g1\tGO:0004180\r\n",
      "TRINITY_DN22073_c0_g1\tGO:0005261\r\n"
     ]
    }
   ],
   "source": [
    "!head 2019-07-15-nonZostera-DEG-GOterms-noHead.tab"
   ]
  },
  {
   "cell_type": "code",
   "execution_count": 35,
   "metadata": {},
   "outputs": [],
   "source": [
    "#Add space after each ; delimiter and save as a few file\n",
    "!sed 's/;/; /g' 2019-07-15-nonZostera-DEG-GOterms-noHead.tab > nonZostera_blast-annot.tab"
   ]
  },
  {
   "cell_type": "code",
   "execution_count": 36,
   "metadata": {
    "scrolled": true
   },
   "outputs": [
    {
     "name": "stdout",
     "output_type": "stream",
     "text": [
      "TRINITY_DN274805_c0_g2\tGO:0003779; GO:0008092\r\n",
      "TRINITY_DN276416_c0_g1\tGO:0005524; GO:0008144; GO:0032559; GO:0035639; GO:0030554\r\n",
      "TRINITY_DN449830_c0_g1\tGO:0005524; GO:0008144; GO:0032559; GO:0035639; GO:0030554\r\n",
      "TRINITY_DN312726_c1_g4\tGO:0008509\r\n",
      "TRINITY_DN316900_c0_g1\tGO:0004190; GO:0070001\r\n",
      "TRINITY_DN251134_c1_g1\tGO:0015085\r\n",
      "TRINITY_DN259150_c0_g1\tGO:0016836; GO:0016835\r\n",
      "TRINITY_DN292324_c0_g1\tGO:0004806; GO:0052689\r\n",
      "TRINITY_DN277209_c0_g1\tGO:0004180\r\n",
      "TRINITY_DN22073_c0_g1\tGO:0005261\r\n",
      "TRINITY_DN251134_c1_g1\tGO:0005261\r\n",
      "TRINITY_DN22073_c0_g1\tGO:0005216; GO:0022838; GO:0015267; GO:0022803\r\n",
      "TRINITY_DN251134_c1_g1\tGO:0005216; GO:0022838; GO:0015267; GO:0022803\r\n",
      "TRINITY_DN314831_c1_g5\tGO:0008234\r\n",
      "TRINITY_DN314232_c4_g4\tGO:0003677\r\n",
      "TRINITY_DN316900_c0_g1\tGO:0004175\r\n",
      "TRINITY_DN277209_c0_g1\tGO:0008238\r\n",
      "TRINITY_DN293894_c0_g2\tGO:0008238\r\n",
      "TRINITY_DN312093_c0_g3\tGO:0003924\r\n",
      "TRINITY_DN293386_c0_g1\tGO:0017111; GO:0016462; GO:0016818; GO:0016817\r\n"
     ]
    }
   ],
   "source": [
    "#Check output\n",
    "!head -20 nonZostera_blast-annot.tab"
   ]
  },
  {
   "cell_type": "markdown",
   "metadata": {},
   "source": [
    "## 2. Match to GO Slim terms"
   ]
  },
  {
   "cell_type": "markdown",
   "metadata": {},
   "source": [
    "### *Z. marina*"
   ]
  },
  {
   "cell_type": "code",
   "execution_count": 45,
   "metadata": {},
   "outputs": [],
   "source": [
    "%%bash \n",
    "\n",
    "# This script was originally written to address a specific problem that Rhonda was having\n",
    "\n",
    "# input_file is the initial, \"problem\" file\n",
    "# file is an intermediate file that most of the program works upon\n",
    "# output_file is the final file produced by the script\n",
    "input_file=\"Zostera_blast-annot.tab\"\n",
    "file=\"Zostera_intermediate.file\"\n",
    "output_file=\"Zostera_blast-GO-unfolded.tab\"\n",
    "\n",
    "# sed command substitutes the \"; \" sequence to a tab and writes the new format to a new file.\n",
    "# This character sequence is how the GO terms are delimited in their field.\n",
    "sed $'s/; /\\t/g' \"$input_file\" > \"$file\"\n",
    "\n",
    "# Identify first field containing a GO term.\n",
    "# Search file with grep for \"GO:\" and pipe to awk.\n",
    "# Awk sets tab as field delimiter (-F'\\t'), runs a for loop that looks for \"GO:\" (~/GO:/), and then prints the field number).\n",
    "# Awk results are piped to sort, which sorts unique by number (-ug).\n",
    "# Sort results are piped to head to retrieve the lowest value (i.e. the top of the list; \"-n1\").\n",
    "begin_goterms=$(grep \"GO:\" \"$file\" | awk -F'\\t' '{for (i=1;i<=NF;i++) if($i ~/GO:/) print i}' | sort -ug | head -n1)\n",
    "\n",
    "# While loop to process each line of the input file.\n",
    "while read -r line\n",
    "\tdo\n",
    "\t\n",
    "\t# Send contents of the current line to awk.\n",
    "\t# Set the field separator as a tab (-F'\\t') and print the number of fields in that line.\n",
    "\t# Save the results of the echo/awk pipe (i.e. number of fields) to the variable \"max_field\".\n",
    "\tmax_field=$(echo \"$line\" | awk -F'\\t' '{print NF}')\n",
    "\n",
    "\t# Send contents of current line to cut.\n",
    "\t# Cut fields (i.e. retain those fields) 1-12.\n",
    "\t# Save the results of the echo/cut pipe (i.e. fields 1-12) to the variable \"fixed_fields\"\n",
    "\tfixed_fields=$(echo \"$line\" | cut -f1-2)\n",
    "\n",
    "\t# Since not all the lines contain the same number of fields (e.g. may not have GO terms),\n",
    "\t# evaluate the number of fields in each line to determine how to handle current line.\n",
    "\n",
    "\t# If the value in max_field is less than the field number where the GO terms begin,\n",
    "\t# then just print the current line (%s) followed by a newline (\\n).\n",
    "\tif (( \"$max_field\" < \"$begin_goterms\" ))\n",
    "\t\tthen printf \"%s\\n\" \"$line\"\n",
    "\t\t\telse\n",
    "\n",
    "\t\t\t# Send contents of current line (which contains GO terms) to cut.\n",
    "\t\t\t# Cut fields (i.e. retain those fields) 13 to whatever the last field is in the curent line.\n",
    "\t\t\t# Save the results of the echo/cut pipe (i.e. all the GO terms fields) to the variable \"goterms\".\n",
    "\t\t\tgoterms=$(echo \"$line\" | cut -f\"$begin_goterms\"-\"$max_field\")\n",
    "\t\t\t\n",
    "\t\t\t# Assign values in the variable \"goterms\" to a new indexed array (called \"array\"), \n",
    "\t\t\t# with tab delimiter (IFS=$'\\t')\n",
    "\t\t\tIFS=$'\\t' read -r -a array <<<\"$goterms\"\n",
    "\t\t\t\n",
    "\t\t\t# Iterate through each element of the array.\n",
    "\t\t\t# Print the first 12 fields (i.e. the fields stored in \"fixed_fields\") followed by a tab (%s\\t).\n",
    "\t\t\t# Print the current element in the array (i.e. the current GO term) followed by a new line (%s\\n).\n",
    "\t\t\tfor element in \"${!array[@]}\"\t\n",
    "\t\t\t\tdo printf \"%s\\t%s\\n\" \"$fixed_fields\" \"${array[$element]}\"\n",
    "\t\t\tdone\n",
    "\tfi\n",
    "\n",
    "# Send the input file into the while loop and send the output to a file named \"rhonda_fixed.txt\".\n",
    "done < \"$file\" > \"$output_file\""
   ]
  },
  {
   "cell_type": "code",
   "execution_count": 46,
   "metadata": {
    "scrolled": false
   },
   "outputs": [
    {
     "name": "stdout",
     "output_type": "stream",
     "text": [
      "TRINITY_DN102431_c0_g1\tGO:0000049\tGO:0000049\r\n",
      "TRINITY_DN104822_c0_g1\tGO:0003677\tGO:0003677\r\n",
      "TRINITY_DN111591_c0_g1\tGO:0016829\tGO:0016829\r\n",
      "TRINITY_DN111591_c0_g1\tGO:0016836\tGO:0016836\r\n",
      "TRINITY_DN111591_c0_g1\tGO:0016836\tGO:0016835\r\n",
      "TRINITY_DN151705_c0_g1\tGO:0003756\tGO:0003756\r\n",
      "TRINITY_DN151705_c0_g1\tGO:0003756\tGO:0016864\r\n",
      "TRINITY_DN151705_c0_g1\tGO:0016853\tGO:0016853\r\n",
      "TRINITY_DN151705_c0_g1\tGO:0016860\tGO:0016860\r\n",
      "TRINITY_DN172940_c0_g1\tGO:0008168\tGO:0008168\r\n",
      "TRINITY_DN172940_c0_g1\tGO:0016741\tGO:0016741\r\n",
      "TRINITY_DN175296_c0_g1\tGO:0016491\tGO:0016491\r\n",
      "TRINITY_DN175296_c0_g1\tGO:0016616\tGO:0016616\r\n",
      "TRINITY_DN175296_c0_g1\tGO:0016616\tGO:0016614\r\n",
      "TRINITY_DN2119_c1_g1\tGO:0005507\tGO:0005507\r\n",
      "TRINITY_DN2119_c1_g1\tGO:0046872\tGO:0046872\r\n",
      "TRINITY_DN2119_c1_g1\tGO:0046872\tGO:0043169\r\n",
      "TRINITY_DN2119_c1_g1\tGO:0046914\tGO:0046914\r\n",
      "TRINITY_DN223640_c0_g1\tGO:0004518\tGO:0004518\r\n",
      "TRINITY_DN223640_c0_g1\tGO:0016788\tGO:0016788\r\n"
     ]
    }
   ],
   "source": [
    "#It was unfolded correctly but the second column is not correct\n",
    "!head -20 Zostera_blast-GO-unfolded.tab"
   ]
  },
  {
   "cell_type": "code",
   "execution_count": 47,
   "metadata": {},
   "outputs": [],
   "source": [
    "#Only retain the first and third columns\n",
    "#Sort\n",
    "#Save as a new file\n",
    "!awk '{print $1\"\\t\"$3}' Zostera_blast-GO-unfolded.tab \\\n",
    "| sort \\\n",
    "> Zostera_blast-GO-unfolded-correct.tab"
   ]
  },
  {
   "cell_type": "code",
   "execution_count": 48,
   "metadata": {
    "scrolled": true
   },
   "outputs": [
    {
     "name": "stdout",
     "output_type": "stream",
     "text": [
      "TRINITY_DN102431_c0_g1\tGO:0000049\r\n",
      "TRINITY_DN104822_c0_g1\tGO:0003677\r\n",
      "TRINITY_DN111591_c0_g1\tGO:0016829\r\n",
      "TRINITY_DN111591_c0_g1\tGO:0016835\r\n",
      "TRINITY_DN111591_c0_g1\tGO:0016836\r\n",
      "TRINITY_DN151705_c0_g1\tGO:0003756\r\n",
      "TRINITY_DN151705_c0_g1\tGO:0016853\r\n",
      "TRINITY_DN151705_c0_g1\tGO:0016860\r\n",
      "TRINITY_DN151705_c0_g1\tGO:0016864\r\n",
      "TRINITY_DN172940_c0_g1\tGO:0008168\r\n"
     ]
    }
   ],
   "source": [
    "#Confirm output\n",
    "!head Zostera_blast-GO-unfolded-correct.tab"
   ]
  },
  {
   "cell_type": "markdown",
   "metadata": {},
   "source": [
    "### *L. zosterae*"
   ]
  },
  {
   "cell_type": "code",
   "execution_count": null,
   "metadata": {},
   "outputs": [],
   "source": []
  },
  {
   "cell_type": "code",
   "execution_count": null,
   "metadata": {},
   "outputs": [],
   "source": []
  },
  {
   "cell_type": "code",
   "execution_count": null,
   "metadata": {},
   "outputs": [],
   "source": []
  },
  {
   "cell_type": "code",
   "execution_count": null,
   "metadata": {},
   "outputs": [],
   "source": []
  },
  {
   "cell_type": "code",
   "execution_count": null,
   "metadata": {},
   "outputs": [],
   "source": []
  },
  {
   "cell_type": "code",
   "execution_count": null,
   "metadata": {},
   "outputs": [],
   "source": []
  },
  {
   "cell_type": "code",
   "execution_count": null,
   "metadata": {},
   "outputs": [],
   "source": []
  },
  {
   "cell_type": "code",
   "execution_count": 38,
   "metadata": {
    "scrolled": false
   },
   "outputs": [
    {
     "name": "stdout",
     "output_type": "stream",
     "text": [
      "TRINITY_DN274805_c0_g2\tGO:0003779; GO:0008092\r\n",
      "TRINITY_DN276416_c0_g1\tGO:0005524; GO:0008144; GO:0032559; GO:0035639; GO:0030554\r\n",
      "TRINITY_DN449830_c0_g1\tGO:0005524; GO:0008144; GO:0032559; GO:0035639; GO:0030554\r\n",
      "TRINITY_DN312726_c1_g4\tGO:0008509\r\n",
      "TRINITY_DN316900_c0_g1\tGO:0004190; GO:0070001\r\n",
      "TRINITY_DN251134_c1_g1\tGO:0015085\r\n",
      "TRINITY_DN259150_c0_g1\tGO:0016836; GO:0016835\r\n",
      "TRINITY_DN292324_c0_g1\tGO:0004806; GO:0052689\r\n",
      "TRINITY_DN277209_c0_g1\tGO:0004180\r\n",
      "TRINITY_DN22073_c0_g1\tGO:0005261\r\n",
      "TRINITY_DN251134_c1_g1\tGO:0005261\r\n",
      "TRINITY_DN22073_c0_g1\tGO:0005216; GO:0022838; GO:0015267; GO:0022803\r\n",
      "TRINITY_DN251134_c1_g1\tGO:0005216; GO:0022838; GO:0015267; GO:0022803\r\n",
      "TRINITY_DN314831_c1_g5\tGO:0008234\r\n",
      "TRINITY_DN314232_c4_g4\tGO:0003677\r\n",
      "TRINITY_DN316900_c0_g1\tGO:0004175\r\n",
      "TRINITY_DN277209_c0_g1\tGO:0008238\r\n",
      "TRINITY_DN293894_c0_g2\tGO:0008238\r\n",
      "TRINITY_DN312093_c0_g3\tGO:0003924\r\n",
      "TRINITY_DN293386_c0_g1\tGO:0017111; GO:0016462; GO:0016818; GO:0016817\r\n"
     ]
    }
   ],
   "source": [
    "#It was unfolded correctly but the second column is not correct\n",
    "!head -20 nonZostera_blast-annot.tab"
   ]
  },
  {
   "cell_type": "code",
   "execution_count": 31,
   "metadata": {},
   "outputs": [],
   "source": [
    "#Only retain the first and third columns\n",
    "#Sort\n",
    "#Save as a new file\n",
    "!awk '{print $1\"\\t\"$3}' Zostera_blast-GO-unfolded.tab \\\n",
    "| sort \\\n",
    "> Zostera_blast-GO-unfolded-correct.tab"
   ]
  },
  {
   "cell_type": "code",
   "execution_count": 32,
   "metadata": {
    "scrolled": false
   },
   "outputs": [
    {
     "name": "stdout",
     "output_type": "stream",
     "text": [
      "TRINITY_DN102431_c0_g1\tGO:0000049\r\n",
      "TRINITY_DN104822_c0_g1\tGO:0003677\r\n",
      "TRINITY_DN111591_c0_g1\tGO:0016829\r\n",
      "TRINITY_DN111591_c0_g1\tGO:0016835\r\n",
      "TRINITY_DN111591_c0_g1\tGO:0016836\r\n",
      "TRINITY_DN151705_c0_g1\tGO:0003756\r\n",
      "TRINITY_DN151705_c0_g1\tGO:0016853\r\n",
      "TRINITY_DN151705_c0_g1\tGO:0016860\r\n",
      "TRINITY_DN151705_c0_g1\tGO:0016864\r\n",
      "TRINITY_DN172940_c0_g1\tGO:0008168\r\n"
     ]
    }
   ],
   "source": [
    "#Confirm output\n",
    "!head Zostera_blast-GO-unfolded-correct.tab"
   ]
  }
 ],
 "metadata": {
  "kernelspec": {
   "display_name": "Python 3",
   "language": "python",
   "name": "python3"
  },
  "language_info": {
   "codemirror_mode": {
    "name": "ipython",
    "version": 3
   },
   "file_extension": ".py",
   "mimetype": "text/x-python",
   "name": "python",
   "nbconvert_exporter": "python",
   "pygments_lexer": "ipython3",
   "version": "3.7.4"
  }
 },
 "nbformat": 4,
 "nbformat_minor": 2
}
