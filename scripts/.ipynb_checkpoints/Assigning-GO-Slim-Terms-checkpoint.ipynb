{
 "cells": [
  {
   "cell_type": "markdown",
   "metadata": {},
   "source": [
    "# Assigning GO Slim Terms"
   ]
  },
  {
   "cell_type": "markdown",
   "metadata": {},
   "source": [
    "In this notebook, I'll assign GO Slim terms to differentially expressed genes for *Zostera marina* and *Labyrinthula zosterae*. I will only do this for files with GO-MWU Biological Process output. This will help with downstream interpretation of biological processes impacted by infection."
   ]
  },
  {
   "cell_type": "markdown",
   "metadata": {},
   "source": [
    "## 0. Set working directory"
   ]
  },
  {
   "cell_type": "code",
   "execution_count": 1,
   "metadata": {},
   "outputs": [
    {
     "data": {
      "text/plain": [
       "'/Users/yaaminivenkataraman/Documents/project-EWD-transcriptomics/scripts'"
      ]
     },
     "execution_count": 1,
     "metadata": {},
     "output_type": "execute_result"
    }
   ],
   "source": [
    "pwd"
   ]
  },
  {
   "cell_type": "code",
   "execution_count": 2,
   "metadata": {},
   "outputs": [
    {
     "name": "stdout",
     "output_type": "stream",
     "text": [
      "/Users/yaaminivenkataraman/Documents/project-EWD-transcriptomics/analyses/GO-MWU/DE-GO-MWU\n"
     ]
    }
   ],
   "source": [
    "cd ../analyses/GO-MWU/DE-GO-MWU/"
   ]
  },
  {
   "cell_type": "markdown",
   "metadata": {},
   "source": [
    "## 1. Format differentially expressed gene lists"
   ]
  },
  {
   "cell_type": "markdown",
   "metadata": {},
   "source": [
    "### *Z. marina*"
   ]
  },
  {
   "cell_type": "code",
   "execution_count": 117,
   "metadata": {
    "scrolled": true
   },
   "outputs": [
    {
     "name": "stdout",
     "output_type": "stream",
     "text": [
      "seq\tterm\n",
      "TRINITY_DN299263_c0_g1\tGO:0002758;GO:0002757;GO:0002218;GO:0002253;GO:0002764;GO:0045089;GO:0050778;GO:0050776;GO:0031349;GO:0045088;GO:0002684;GO:0002682;GO:0031347;GO:0080134\n",
      "TRINITY_DN299263_c0_g2\tGO:0002758;GO:0002757;GO:0002218;GO:0002253;GO:0002764;GO:0045089;GO:0050778;GO:0050776;GO:0031349;GO:0045088;GO:0002684;GO:0002682;GO:0031347;GO:0080134\n",
      "TRINITY_DN312745_c1_g2\tGO:0002758;GO:0002757;GO:0002218;GO:0002253;GO:0002764;GO:0045089;GO:0050778;GO:0050776;GO:0031349;GO:0045088;GO:0002684;GO:0002682;GO:0031347;GO:0080134\n",
      "TRINITY_DN295269_c0_g3\tGO:0000187;GO:0032147;GO:0043406;GO:0045860;GO:0001934;GO:0033674;GO:0031401;GO:0042327;GO:0051347;GO:0032270;GO:0045937;GO:0043085;GO:0031325;GO:0051247;GO:0010562;GO:0044093;GO:0009893;GO:0010604;GO:0051173;GO:0043405;GO:0043410;GO:0071902;GO:0043408;GO:1902533;GO:1902531;GO:0009967;GO:0010647;GO:0023056\n",
      "TRINITY_DN294767_c5_g1\tGO:0002181;GO:0006412;GO:0043043;GO:0006518;GO:0043604\n",
      "TRINITY_DN294767_c5_g2\tGO:0002181;GO:0006412;GO:0043043;GO:0006518;GO:0043604\n",
      "TRINITY_DN294775_c0_g1\tGO:0002181;GO:0006412;GO:0043043;GO:0006518;GO:0043604\n",
      "TRINITY_DN298834_c0_g1\tGO:0002181;GO:0006412;GO:0043043;GO:0006518;GO:0043604\n",
      "TRINITY_DN298841_c2_g1\tGO:0002181;GO:0006412;GO:0043043;GO:0006518;GO:0043604\n",
      "     318 2019-07-15-Zostera-DEG-GOterms.tab\n"
     ]
    }
   ],
   "source": [
    "#Check current file formats for BP GOterms\n",
    "!head 2019-07-15-Zostera-DEG-GOterms.tab\n",
    "!wc -l 2019-07-15-Zostera-DEG-GOterms.tab"
   ]
  },
  {
   "cell_type": "code",
   "execution_count": 118,
   "metadata": {},
   "outputs": [],
   "source": [
    "#Remove header line\n",
    "# Sort file and save as new file\n",
    "!tail -n +2 2019-07-15-Zostera-DEG-GOterms.tab \\\n",
    "| sort > 2019-07-15-Zostera-DEG-GOterms-noHead.tab"
   ]
  },
  {
   "cell_type": "code",
   "execution_count": 119,
   "metadata": {},
   "outputs": [
    {
     "name": "stdout",
     "output_type": "stream",
     "text": [
      "TRINITY_DN111543_c0_g1\tGO:0001676\r\n",
      "TRINITY_DN111543_c0_g1\tGO:0006631;GO:0032787\r\n",
      "TRINITY_DN111543_c0_g1\tGO:0019752;GO:0043436;GO:0006082\r\n",
      "TRINITY_DN111543_c0_g1\tGO:0044255;GO:0006629\r\n",
      "TRINITY_DN111543_c0_g1\tGO:0044281\r\n",
      "TRINITY_DN139711_c0_g1\tGO:0000377;GO:0000375;GO:0008380;GO:0000398;GO:0006397\r\n",
      "TRINITY_DN139711_c0_g1\tGO:0016071\r\n",
      "TRINITY_DN172833_c0_g1\tGO:0006721;GO:0006720\r\n",
      "TRINITY_DN172833_c0_g1\tGO:0019752;GO:0043436;GO:0006082\r\n",
      "TRINITY_DN172833_c0_g1\tGO:0044255;GO:0006629\r\n"
     ]
    }
   ],
   "source": [
    "!head 2019-07-15-Zostera-DEG-GOterms-noHead.tab"
   ]
  },
  {
   "cell_type": "code",
   "execution_count": 120,
   "metadata": {},
   "outputs": [],
   "source": [
    "#Add space after each ; delimiter and save as a few file\n",
    "!sed 's/;/; /g' 2019-07-15-Zostera-DEG-GOterms-noHead.tab > Zostera_blast-annot.tab"
   ]
  },
  {
   "cell_type": "code",
   "execution_count": 121,
   "metadata": {
    "scrolled": false
   },
   "outputs": [
    {
     "name": "stdout",
     "output_type": "stream",
     "text": [
      "TRINITY_DN111543_c0_g1\tGO:0001676\n",
      "TRINITY_DN111543_c0_g1\tGO:0006631; GO:0032787\n",
      "TRINITY_DN111543_c0_g1\tGO:0019752; GO:0043436; GO:0006082\n",
      "TRINITY_DN111543_c0_g1\tGO:0044255; GO:0006629\n",
      "TRINITY_DN111543_c0_g1\tGO:0044281\n",
      "TRINITY_DN139711_c0_g1\tGO:0000377; GO:0000375; GO:0008380; GO:0000398; GO:0006397\n",
      "TRINITY_DN139711_c0_g1\tGO:0016071\n",
      "TRINITY_DN172833_c0_g1\tGO:0006721; GO:0006720\n",
      "TRINITY_DN172833_c0_g1\tGO:0019752; GO:0043436; GO:0006082\n",
      "TRINITY_DN172833_c0_g1\tGO:0044255; GO:0006629\n",
      "TRINITY_DN172833_c0_g1\tGO:0044281\n",
      "TRINITY_DN172833_c0_g1\tGO:0065008\n",
      "TRINITY_DN226686_c0_g1\tGO:0002376\n",
      "TRINITY_DN226686_c0_g1\tGO:0006950; GO:0050896\n",
      "TRINITY_DN228040_c0_g1\tGO:0000079; GO:1904029\n",
      "TRINITY_DN228040_c0_g1\tGO:0051726\n",
      "TRINITY_DN228040_c0_g1\tGO:0060255; GO:0019222; GO:0031323; GO:0051171; GO:0080090\n",
      "TRINITY_DN228040_c0_g1\tGO:0071900; GO:0045859; GO:0001932; GO:0043549; GO:0031399; GO:0042325; GO:0051338; GO:0032268; GO:0019220; GO:0050790; GO:0051246; GO:0051174; GO:0065009\n",
      "TRINITY_DN228042_c0_g1\tGO:0000278; GO:0007049\n",
      "TRINITY_DN234177_c0_g1\tGO:0006464; GO:0036211\n",
      "     317    1166   17154 Zostera_blast-annot.tab\n"
     ]
    }
   ],
   "source": [
    "#Check output\n",
    "!head -20 Zostera_blast-annot.tab\n",
    "!wc Zostera_blast-annot.tab"
   ]
  },
  {
   "cell_type": "markdown",
   "metadata": {},
   "source": [
    "### *L. zosterae*"
   ]
  },
  {
   "cell_type": "code",
   "execution_count": 122,
   "metadata": {},
   "outputs": [
    {
     "name": "stdout",
     "output_type": "stream",
     "text": [
      "seq\tterm\n",
      "TRINITY_DN312737_c2_g2\tGO:0009653\n",
      "TRINITY_DN271666_c1_g1\tGO:0009056;GO:1901575\n",
      "TRINITY_DN271666_c1_g1\tGO:0006464;GO:0036211;GO:0044267;GO:0043412;GO:0019538\n",
      "TRINITY_DN296708_c0_g1\tGO:0006464;GO:0036211;GO:0044267;GO:0043412;GO:0019538\n",
      "TRINITY_DN233011_c0_g1\tGO:0000281;GO:0061640;GO:0000910\n",
      "TRINITY_DN277328_c0_g1\tGO:0000281;GO:0061640;GO:0000910\n",
      "TRINITY_DN299789_c0_g2\tGO:0000281;GO:0061640;GO:0000910\n",
      "TRINITY_DN311731_c0_g1\tGO:0007010\n",
      "TRINITY_DN311493_c0_g1\tGO:0042592\n",
      "      55     110    2681 2019-07-15-nonZostera-DEG-GOterms.tab\n"
     ]
    }
   ],
   "source": [
    "#Check current file formats for BP GOterms\n",
    "!head 2019-07-15-nonZostera-DEG-GOterms.tab\n",
    "!wc 2019-07-15-nonZostera-DEG-GOterms.tab"
   ]
  },
  {
   "cell_type": "code",
   "execution_count": 123,
   "metadata": {},
   "outputs": [],
   "source": [
    "#Remove header line and save as new file\n",
    "!tail -n +2 2019-07-15-nonZostera-DEG-GOterms.tab > 2019-07-15-nonZostera-DEG-GOterms-noHead.tab"
   ]
  },
  {
   "cell_type": "code",
   "execution_count": 124,
   "metadata": {},
   "outputs": [
    {
     "name": "stdout",
     "output_type": "stream",
     "text": [
      "TRINITY_DN312737_c2_g2\tGO:0009653\r\n",
      "TRINITY_DN271666_c1_g1\tGO:0009056;GO:1901575\r\n",
      "TRINITY_DN271666_c1_g1\tGO:0006464;GO:0036211;GO:0044267;GO:0043412;GO:0019538\r\n",
      "TRINITY_DN296708_c0_g1\tGO:0006464;GO:0036211;GO:0044267;GO:0043412;GO:0019538\r\n",
      "TRINITY_DN233011_c0_g1\tGO:0000281;GO:0061640;GO:0000910\r\n",
      "TRINITY_DN277328_c0_g1\tGO:0000281;GO:0061640;GO:0000910\r\n",
      "TRINITY_DN299789_c0_g2\tGO:0000281;GO:0061640;GO:0000910\r\n",
      "TRINITY_DN311731_c0_g1\tGO:0007010\r\n",
      "TRINITY_DN311493_c0_g1\tGO:0042592\r\n",
      "TRINITY_DN271666_c1_g1\tGO:0009057\r\n"
     ]
    }
   ],
   "source": [
    "!head 2019-07-15-nonZostera-DEG-GOterms-noHead.tab"
   ]
  },
  {
   "cell_type": "code",
   "execution_count": 125,
   "metadata": {},
   "outputs": [],
   "source": [
    "#Add space after each ; delimiter and save as a few file\n",
    "!sed 's/;/; /g' 2019-07-15-nonZostera-DEG-GOterms-noHead.tab > nonZostera_blast-annot.tab"
   ]
  },
  {
   "cell_type": "code",
   "execution_count": 126,
   "metadata": {
    "scrolled": true
   },
   "outputs": [
    {
     "name": "stdout",
     "output_type": "stream",
     "text": [
      "TRINITY_DN312737_c2_g2\tGO:0009653\n",
      "TRINITY_DN271666_c1_g1\tGO:0009056; GO:1901575\n",
      "TRINITY_DN271666_c1_g1\tGO:0006464; GO:0036211; GO:0044267; GO:0043412; GO:0019538\n",
      "TRINITY_DN296708_c0_g1\tGO:0006464; GO:0036211; GO:0044267; GO:0043412; GO:0019538\n",
      "TRINITY_DN233011_c0_g1\tGO:0000281; GO:0061640; GO:0000910\n",
      "TRINITY_DN277328_c0_g1\tGO:0000281; GO:0061640; GO:0000910\n",
      "TRINITY_DN299789_c0_g2\tGO:0000281; GO:0061640; GO:0000910\n",
      "TRINITY_DN311731_c0_g1\tGO:0007010\n",
      "TRINITY_DN311493_c0_g1\tGO:0042592\n",
      "TRINITY_DN271666_c1_g1\tGO:0009057\n",
      "TRINITY_DN311731_c0_g1\tGO:0007017\n",
      "TRINITY_DN233011_c0_g1\tGO:1903047\n",
      "TRINITY_DN277328_c0_g1\tGO:1903047\n",
      "TRINITY_DN299789_c0_g2\tGO:1903047\n",
      "TRINITY_DN256449_c0_g1\tGO:0016071\n",
      "TRINITY_DN296708_c0_g1\tGO:0034470; GO:0034660\n",
      "TRINITY_DN255273_c0_g1\tGO:0010605; GO:0009892; GO:0048519\n",
      "TRINITY_DN311716_c0_g2\tGO:0010605; GO:0009892; GO:0048519\n",
      "TRINITY_DN255273_c0_g1\tGO:0031324; GO:0048523; GO:0051172\n",
      "TRINITY_DN311716_c0_g2\tGO:0031324; GO:0048523; GO:0051172\n",
      "      54     184    2748 nonZostera_blast-annot.tab\n"
     ]
    }
   ],
   "source": [
    "#Check output\n",
    "!head -20 nonZostera_blast-annot.tab\n",
    "!wc nonZostera_blast-annot.tab"
   ]
  },
  {
   "cell_type": "markdown",
   "metadata": {},
   "source": [
    "## 2. Unfold GOterms"
   ]
  },
  {
   "cell_type": "markdown",
   "metadata": {},
   "source": [
    "### *Z. marina*"
   ]
  },
  {
   "cell_type": "code",
   "execution_count": 127,
   "metadata": {},
   "outputs": [],
   "source": [
    "%%bash \n",
    "\n",
    "# This script was originally written to address a specific problem that Rhonda was having\n",
    "\n",
    "# input_file is the initial, \"problem\" file\n",
    "# file is an intermediate file that most of the program works upon\n",
    "# output_file is the final file produced by the script\n",
    "input_file=\"Zostera_blast-annot.tab\"\n",
    "file=\"Zostera_intermediate.file\"\n",
    "output_file=\"Zostera_blast-GO-unfolded.tab\"\n",
    "\n",
    "# sed command substitutes the \"; \" sequence to a tab and writes the new format to a new file.\n",
    "# This character sequence is how the GO terms are delimited in their field.\n",
    "sed $'s/; /\\t/g' \"$input_file\" > \"$file\"\n",
    "\n",
    "# Identify first field containing a GO term.\n",
    "# Search file with grep for \"GO:\" and pipe to awk.\n",
    "# Awk sets tab as field delimiter (-F'\\t'), runs a for loop that looks for \"GO:\" (~/GO:/), and then prints the field number).\n",
    "# Awk results are piped to sort, which sorts unique by number (-ug).\n",
    "# Sort results are piped to head to retrieve the lowest value (i.e. the top of the list; \"-n1\").\n",
    "begin_goterms=$(grep \"GO:\" \"$file\" | awk -F'\\t' '{for (i=1;i<=NF;i++) if($i ~/GO:/) print i}' | sort -ug | head -n1)\n",
    "\n",
    "# While loop to process each line of the input file.\n",
    "while read -r line\n",
    "\tdo\n",
    "\t\n",
    "\t# Send contents of the current line to awk.\n",
    "\t# Set the field separator as a tab (-F'\\t') and print the number of fields in that line.\n",
    "\t# Save the results of the echo/awk pipe (i.e. number of fields) to the variable \"max_field\".\n",
    "\tmax_field=$(echo \"$line\" | awk -F'\\t' '{print NF}')\n",
    "\n",
    "\t# Send contents of current line to cut.\n",
    "\t# Cut fields (i.e. retain those fields) 1-12.\n",
    "\t# Save the results of the echo/cut pipe (i.e. fields 1-12) to the variable \"fixed_fields\"\n",
    "\tfixed_fields=$(echo \"$line\" | cut -f1-2)\n",
    "\n",
    "\t# Since not all the lines contain the same number of fields (e.g. may not have GO terms),\n",
    "\t# evaluate the number of fields in each line to determine how to handle current line.\n",
    "\n",
    "\t# If the value in max_field is less than the field number where the GO terms begin,\n",
    "\t# then just print the current line (%s) followed by a newline (\\n).\n",
    "\tif (( \"$max_field\" < \"$begin_goterms\" ))\n",
    "\t\tthen printf \"%s\\n\" \"$line\"\n",
    "\t\t\telse\n",
    "\n",
    "\t\t\t# Send contents of current line (which contains GO terms) to cut.\n",
    "\t\t\t# Cut fields (i.e. retain those fields) 13 to whatever the last field is in the curent line.\n",
    "\t\t\t# Save the results of the echo/cut pipe (i.e. all the GO terms fields) to the variable \"goterms\".\n",
    "\t\t\tgoterms=$(echo \"$line\" | cut -f\"$begin_goterms\"-\"$max_field\")\n",
    "\t\t\t\n",
    "\t\t\t# Assign values in the variable \"goterms\" to a new indexed array (called \"array\"), \n",
    "\t\t\t# with tab delimiter (IFS=$'\\t')\n",
    "\t\t\tIFS=$'\\t' read -r -a array <<<\"$goterms\"\n",
    "\t\t\t\n",
    "\t\t\t# Iterate through each element of the array.\n",
    "\t\t\t# Print the first 12 fields (i.e. the fields stored in \"fixed_fields\") followed by a tab (%s\\t).\n",
    "\t\t\t# Print the current element in the array (i.e. the current GO term) followed by a new line (%s\\n).\n",
    "\t\t\tfor element in \"${!array[@]}\"\t\n",
    "\t\t\t\tdo printf \"%s\\t%s\\n\" \"$fixed_fields\" \"${array[$element]}\"\n",
    "\t\t\tdone\n",
    "\tfi\n",
    "\n",
    "# Send the input file into the while loop and send the output to a file named \"rhonda_fixed.txt\".\n",
    "done < \"$file\" > \"$output_file\""
   ]
  },
  {
   "cell_type": "code",
   "execution_count": 128,
   "metadata": {
    "scrolled": false
   },
   "outputs": [
    {
     "name": "stdout",
     "output_type": "stream",
     "text": [
      "TRINITY_DN111543_c0_g1\tGO:0001676\tGO:0001676\r\n",
      "TRINITY_DN111543_c0_g1\tGO:0006631\tGO:0006631\r\n",
      "TRINITY_DN111543_c0_g1\tGO:0006631\tGO:0032787\r\n",
      "TRINITY_DN111543_c0_g1\tGO:0019752\tGO:0019752\r\n",
      "TRINITY_DN111543_c0_g1\tGO:0019752\tGO:0043436\r\n",
      "TRINITY_DN111543_c0_g1\tGO:0019752\tGO:0006082\r\n",
      "TRINITY_DN111543_c0_g1\tGO:0044255\tGO:0044255\r\n",
      "TRINITY_DN111543_c0_g1\tGO:0044255\tGO:0006629\r\n",
      "TRINITY_DN111543_c0_g1\tGO:0044281\tGO:0044281\r\n",
      "TRINITY_DN139711_c0_g1\tGO:0000377\tGO:0000377\r\n",
      "TRINITY_DN139711_c0_g1\tGO:0000377\tGO:0000375\r\n",
      "TRINITY_DN139711_c0_g1\tGO:0000377\tGO:0008380\r\n",
      "TRINITY_DN139711_c0_g1\tGO:0000377\tGO:0000398\r\n",
      "TRINITY_DN139711_c0_g1\tGO:0000377\tGO:0006397\r\n",
      "TRINITY_DN139711_c0_g1\tGO:0016071\tGO:0016071\r\n",
      "TRINITY_DN172833_c0_g1\tGO:0006721\tGO:0006721\r\n",
      "TRINITY_DN172833_c0_g1\tGO:0006721\tGO:0006720\r\n",
      "TRINITY_DN172833_c0_g1\tGO:0019752\tGO:0019752\r\n",
      "TRINITY_DN172833_c0_g1\tGO:0019752\tGO:0043436\r\n",
      "TRINITY_DN172833_c0_g1\tGO:0019752\tGO:0006082\r\n"
     ]
    }
   ],
   "source": [
    "#It was unfolded correctly but the second column is not correct\n",
    "!head -20 Zostera_blast-GO-unfolded.tab"
   ]
  },
  {
   "cell_type": "code",
   "execution_count": 129,
   "metadata": {},
   "outputs": [],
   "source": [
    "#Only retain the third and first columns\n",
    "#Sort\n",
    "#Save as a new file\n",
    "!awk '{print $3\"\\t\"$1}' Zostera_blast-GO-unfolded.tab \\\n",
    "| sort \\\n",
    "> Zostera_blast-GO-unfolded-sorted.tab"
   ]
  },
  {
   "cell_type": "code",
   "execution_count": 130,
   "metadata": {
    "scrolled": false
   },
   "outputs": [
    {
     "name": "stdout",
     "output_type": "stream",
     "text": [
      "GO:0000027\tTRINITY_DN293394_c0_g1\n",
      "GO:0000027\tTRINITY_DN298832_c1_g1\n",
      "GO:0000027\tTRINITY_DN298848_c3_g2\n",
      "GO:0000027\tTRINITY_DN314236_c0_g1\n",
      "GO:0000028\tTRINITY_DN292998_c5_g6\n",
      "GO:0000028\tTRINITY_DN316936_c5_g1\n",
      "GO:0000045\tTRINITY_DN298449_c4_g2\n",
      "GO:0000075\tTRINITY_DN312745_c1_g1\n",
      "GO:0000075\tTRINITY_DN312745_c1_g3\n",
      "GO:0000075\tTRINITY_DN316221_c2_g2\n",
      "     849 Zostera_blast-GO-unfolded-sorted.tab\n"
     ]
    }
   ],
   "source": [
    "#Confirm output\n",
    "!head Zostera_blast-GO-unfolded-sorted.tab\n",
    "!wc -l Zostera_blast-GO-unfolded-sorted.tab"
   ]
  },
  {
   "cell_type": "markdown",
   "metadata": {},
   "source": [
    "### *L. zosterae*"
   ]
  },
  {
   "cell_type": "code",
   "execution_count": 131,
   "metadata": {},
   "outputs": [],
   "source": [
    "%%bash \n",
    "\n",
    "# This script was originally written to address a specific problem that Rhonda was having\n",
    "\n",
    "# input_file is the initial, \"problem\" file\n",
    "# file is an intermediate file that most of the program works upon\n",
    "# output_file is the final file produced by the script\n",
    "input_file=\"nonZostera_blast-annot.tab\"\n",
    "file=\"nonZostera_intermediate.file\"\n",
    "output_file=\"nonZostera_blast-GO-unfolded.tab\"\n",
    "\n",
    "# sed command substitutes the \"; \" sequence to a tab and writes the new format to a new file.\n",
    "# This character sequence is how the GO terms are delimited in their field.\n",
    "sed $'s/; /\\t/g' \"$input_file\" > \"$file\"\n",
    "\n",
    "# Identify first field containing a GO term.\n",
    "# Search file with grep for \"GO:\" and pipe to awk.\n",
    "# Awk sets tab as field delimiter (-F'\\t'), runs a for loop that looks for \"GO:\" (~/GO:/), and then prints the field number).\n",
    "# Awk results are piped to sort, which sorts unique by number (-ug).\n",
    "# Sort results are piped to head to retrieve the lowest value (i.e. the top of the list; \"-n1\").\n",
    "begin_goterms=$(grep \"GO:\" \"$file\" | awk -F'\\t' '{for (i=1;i<=NF;i++) if($i ~/GO:/) print i}' | sort -ug | head -n1)\n",
    "\n",
    "# While loop to process each line of the input file.\n",
    "while read -r line\n",
    "\tdo\n",
    "\t\n",
    "\t# Send contents of the current line to awk.\n",
    "\t# Set the field separator as a tab (-F'\\t') and print the number of fields in that line.\n",
    "\t# Save the results of the echo/awk pipe (i.e. number of fields) to the variable \"max_field\".\n",
    "\tmax_field=$(echo \"$line\" | awk -F'\\t' '{print NF}')\n",
    "\n",
    "\t# Send contents of current line to cut.\n",
    "\t# Cut fields (i.e. retain those fields) 1-12.\n",
    "\t# Save the results of the echo/cut pipe (i.e. fields 1-12) to the variable \"fixed_fields\"\n",
    "\tfixed_fields=$(echo \"$line\" | cut -f1-2)\n",
    "\n",
    "\t# Since not all the lines contain the same number of fields (e.g. may not have GO terms),\n",
    "\t# evaluate the number of fields in each line to determine how to handle current line.\n",
    "\n",
    "\t# If the value in max_field is less than the field number where the GO terms begin,\n",
    "\t# then just print the current line (%s) followed by a newline (\\n).\n",
    "\tif (( \"$max_field\" < \"$begin_goterms\" ))\n",
    "\t\tthen printf \"%s\\n\" \"$line\"\n",
    "\t\t\telse\n",
    "\n",
    "\t\t\t# Send contents of current line (which contains GO terms) to cut.\n",
    "\t\t\t# Cut fields (i.e. retain those fields) 13 to whatever the last field is in the curent line.\n",
    "\t\t\t# Save the results of the echo/cut pipe (i.e. all the GO terms fields) to the variable \"goterms\".\n",
    "\t\t\tgoterms=$(echo \"$line\" | cut -f\"$begin_goterms\"-\"$max_field\")\n",
    "\t\t\t\n",
    "\t\t\t# Assign values in the variable \"goterms\" to a new indexed array (called \"array\"), \n",
    "\t\t\t# with tab delimiter (IFS=$'\\t')\n",
    "\t\t\tIFS=$'\\t' read -r -a array <<<\"$goterms\"\n",
    "\t\t\t\n",
    "\t\t\t# Iterate through each element of the array.\n",
    "\t\t\t# Print the first 12 fields (i.e. the fields stored in \"fixed_fields\") followed by a tab (%s\\t).\n",
    "\t\t\t# Print the current element in the array (i.e. the current GO term) followed by a new line (%s\\n).\n",
    "\t\t\tfor element in \"${!array[@]}\"\t\n",
    "\t\t\t\tdo printf \"%s\\t%s\\n\" \"$fixed_fields\" \"${array[$element]}\"\n",
    "\t\t\tdone\n",
    "\tfi\n",
    "\n",
    "# Send the input file into the while loop and send the output to a file named \"rhonda_fixed.txt\".\n",
    "done < \"$file\" > \"$output_file\""
   ]
  },
  {
   "cell_type": "code",
   "execution_count": 132,
   "metadata": {
    "scrolled": false
   },
   "outputs": [
    {
     "name": "stdout",
     "output_type": "stream",
     "text": [
      "TRINITY_DN312737_c2_g2\tGO:0009653\tGO:0009653\r\n",
      "TRINITY_DN271666_c1_g1\tGO:0009056\tGO:0009056\r\n",
      "TRINITY_DN271666_c1_g1\tGO:0009056\tGO:1901575\r\n",
      "TRINITY_DN271666_c1_g1\tGO:0006464\tGO:0006464\r\n",
      "TRINITY_DN271666_c1_g1\tGO:0006464\tGO:0036211\r\n",
      "TRINITY_DN271666_c1_g1\tGO:0006464\tGO:0044267\r\n",
      "TRINITY_DN271666_c1_g1\tGO:0006464\tGO:0043412\r\n",
      "TRINITY_DN271666_c1_g1\tGO:0006464\tGO:0019538\r\n",
      "TRINITY_DN296708_c0_g1\tGO:0006464\tGO:0006464\r\n",
      "TRINITY_DN296708_c0_g1\tGO:0006464\tGO:0036211\r\n",
      "TRINITY_DN296708_c0_g1\tGO:0006464\tGO:0044267\r\n",
      "TRINITY_DN296708_c0_g1\tGO:0006464\tGO:0043412\r\n",
      "TRINITY_DN296708_c0_g1\tGO:0006464\tGO:0019538\r\n",
      "TRINITY_DN233011_c0_g1\tGO:0000281\tGO:0000281\r\n",
      "TRINITY_DN233011_c0_g1\tGO:0000281\tGO:0061640\r\n",
      "TRINITY_DN233011_c0_g1\tGO:0000281\tGO:0000910\r\n",
      "TRINITY_DN277328_c0_g1\tGO:0000281\tGO:0000281\r\n",
      "TRINITY_DN277328_c0_g1\tGO:0000281\tGO:0061640\r\n",
      "TRINITY_DN277328_c0_g1\tGO:0000281\tGO:0000910\r\n",
      "TRINITY_DN299789_c0_g2\tGO:0000281\tGO:0000281\r\n"
     ]
    }
   ],
   "source": [
    "#It was unfolded correctly but the second column is not correct\n",
    "!head -20 nonZostera_blast-GO-unfolded.tab"
   ]
  },
  {
   "cell_type": "code",
   "execution_count": 133,
   "metadata": {},
   "outputs": [],
   "source": [
    "#Only retain the first and third columns\n",
    "#Sort\n",
    "#Save as a new file\n",
    "!awk '{print $3\"\\t\"$1}' nonZostera_blast-GO-unfolded.tab \\\n",
    "| sort \\\n",
    "> nonZostera_blast-GO-unfolded-sorted.tab"
   ]
  },
  {
   "cell_type": "code",
   "execution_count": 145,
   "metadata": {
    "scrolled": false
   },
   "outputs": [
    {
     "name": "stdout",
     "output_type": "stream",
     "text": [
      "GO:0000281\tTRINITY_DN233011_c0_g1\n",
      "GO:0000281\tTRINITY_DN277328_c0_g1\n",
      "GO:0000281\tTRINITY_DN299789_c0_g2\n",
      "GO:0000302\tTRINITY_DN295214_c0_g1\n",
      "GO:0000302\tTRINITY_DN295214_c0_g2\n",
      "GO:0000302\tTRINITY_DN312005_c1_g1\n",
      "GO:0000910\tTRINITY_DN233011_c0_g1\n",
      "GO:0000910\tTRINITY_DN277328_c0_g1\n",
      "GO:0000910\tTRINITY_DN299789_c0_g2\n",
      "GO:0001932\tTRINITY_DN255903_c0_g1\n",
      "     130 nonZostera_blast-GO-unfolded-sorted.tab\n"
     ]
    }
   ],
   "source": [
    "#Confirm output\n",
    "!head nonZostera_blast-GO-unfolded-sorted.tab\n",
    "!wc -l nonZostera_blast-GO-unfolded-sorted.tab"
   ]
  },
  {
   "cell_type": "markdown",
   "metadata": {},
   "source": [
    "## 3. Match BP GOterms to GO Slim terms"
   ]
  },
  {
   "cell_type": "code",
   "execution_count": 135,
   "metadata": {},
   "outputs": [
    {
     "name": "stdout",
     "output_type": "stream",
     "text": [
      "  % Total    % Received % Xferd  Average Speed   Time    Time     Time  Current\n",
      "                                 Dload  Upload   Total   Spent    Left  Speed\n",
      "100 2314k  100 2314k    0     0  1115k      0  0:00:02  0:00:02 --:--:-- 1115k\n"
     ]
    }
   ],
   "source": [
    "#Download list of GO Slim and matching GOterms\n",
    "!curl -O http://owl.fish.washington.edu/halfshell/bu-alanine-wd/17-07-20/GO-GOslim.sorted"
   ]
  },
  {
   "cell_type": "code",
   "execution_count": 136,
   "metadata": {},
   "outputs": [
    {
     "name": "stdout",
     "output_type": "stream",
     "text": [
      "GO:0000001\tmitochondrion inheritance\tcell organization and biogenesis\tP\r\n",
      "GO:0000002\tmitochondrial genome maintenance\tcell organization and biogenesis\tP\r\n",
      "GO:0000003\treproduction\tother biological processes\tP\r\n",
      "GO:0000006\thigh affinity zinc uptake transmembrane transporter activity\ttransporter activity\tF\r\n",
      "GO:0000007\tlow-affinity zinc ion transmembrane transporter activity\ttransporter activity\tF\r\n",
      "GO:0000009\t\"alpha-1,6-mannosyltransferase activity\"\tother molecular function\tF\r\n",
      "GO:0000010\ttrans-hexaprenyltranstransferase activity\tother molecular function\tF\r\n",
      "GO:0000011\tvacuole inheritance\tcell organization and biogenesis\tP\r\n",
      "GO:0000012\tsingle strand break repair\tDNA metabolism\tP\r\n",
      "GO:0000012\tsingle strand break repair\tstress response\tP\r\n"
     ]
    }
   ],
   "source": [
    "!head GO-GOslim.sorted"
   ]
  },
  {
   "cell_type": "markdown",
   "metadata": {},
   "source": [
    "### *Z. marina*"
   ]
  },
  {
   "cell_type": "code",
   "execution_count": 148,
   "metadata": {},
   "outputs": [],
   "source": [
    "#Join files to get GOslim for each query\n",
    "#Remove duplicate GOslim and queries removed\n",
    "#Sort files\n",
    "#Only print gene ID, GO Slim, and original GOterm\n",
    "!join -1 1 -2 1 -t $'\\t' \\\n",
    "Zostera_blast-GO-unfolded-sorted.tab \\\n",
    "GO-GOslim.sorted \\\n",
    "| uniq | sort | awk -F'\\t' -v OFS='\\t' '{print $2, $4, $3}' \\\n",
    "> Zostera_blastquery-GOslim.tab"
   ]
  },
  {
   "cell_type": "code",
   "execution_count": 149,
   "metadata": {
    "scrolled": false
   },
   "outputs": [
    {
     "name": "stdout",
     "output_type": "stream",
     "text": [
      "TRINITY_DN293394_c0_g1\tcell organization and biogenesis\tribosomal large subunit assembly\n",
      "TRINITY_DN298832_c1_g1\tcell organization and biogenesis\tribosomal large subunit assembly\n",
      "TRINITY_DN298848_c3_g2\tcell organization and biogenesis\tribosomal large subunit assembly\n",
      "TRINITY_DN314236_c0_g1\tcell organization and biogenesis\tribosomal large subunit assembly\n",
      "TRINITY_DN292998_c5_g6\tcell organization and biogenesis\tribosomal small subunit assembly\n",
      "TRINITY_DN316936_c5_g1\tcell organization and biogenesis\tribosomal small subunit assembly\n",
      "TRINITY_DN298449_c4_g2\tcell organization and biogenesis\tautophagic vacuole formation\n",
      "TRINITY_DN298449_c4_g2\tother metabolic processes\tautophagic vacuole formation\n",
      "TRINITY_DN298449_c4_g2\tstress response\tautophagic vacuole formation\n",
      "TRINITY_DN312745_c1_g1\tcell cycle and proliferation\tcell cycle checkpoint\n",
      "     765 Zostera_blastquery-GOslim.tab\n"
     ]
    }
   ],
   "source": [
    "#Check output\n",
    "!head Zostera_blastquery-GOslim.tab\n",
    "!wc -l Zostera_blastquery-GOslim.tab"
   ]
  },
  {
   "cell_type": "code",
   "execution_count": 150,
   "metadata": {},
   "outputs": [
    {
     "name": "stdout",
     "output_type": "stream",
     "text": [
      "     258\r\n"
     ]
    }
   ],
   "source": [
    "#Count the number of unique IDs with GOSlim terms\n",
    "!uniq -f1 Zostera_blastquery-GOslim.tab | wc -l"
   ]
  },
  {
   "cell_type": "code",
   "execution_count": 151,
   "metadata": {
    "scrolled": true
   },
   "outputs": [
    {
     "name": "stdout",
     "output_type": "stream",
     "text": [
      "TRINITY_DN293394_c0_g1\tcell organization and biogenesis\tribosomal large subunit assembly\n",
      "TRINITY_DN298832_c1_g1\tcell organization and biogenesis\tribosomal large subunit assembly\n",
      "TRINITY_DN298848_c3_g2\tcell organization and biogenesis\tribosomal large subunit assembly\n",
      "TRINITY_DN314236_c0_g1\tcell organization and biogenesis\tribosomal large subunit assembly\n",
      "TRINITY_DN292998_c5_g6\tcell organization and biogenesis\tribosomal small subunit assembly\n",
      "TRINITY_DN316936_c5_g1\tcell organization and biogenesis\tribosomal small subunit assembly\n",
      "TRINITY_DN298449_c4_g2\tcell organization and biogenesis\tautophagic vacuole formation\n",
      "TRINITY_DN298449_c4_g2\tother metabolic processes\tautophagic vacuole formation\n",
      "TRINITY_DN298449_c4_g2\tstress response\tautophagic vacuole formation\n",
      "TRINITY_DN312745_c1_g1\tcell cycle and proliferation\tcell cycle checkpoint\n",
      "     601 Zostera_blastquery-GOslim-BP.sorted.unique.noOther\n"
     ]
    }
   ],
   "source": [
    "#Remove all \"other biological processes\"\n",
    "#Confirm removal\n",
    "#Count the number of entries\n",
    "!grep --invert-match \"other biological processes\" Zostera_blastquery-GOslim.tab \\\n",
    "> Zostera_blastquery-GOslim-BP.sorted.unique.noOther\n",
    "!head Zostera_blastquery-GOslim-BP.sorted.unique.noOther\n",
    "!wc -l Zostera_blastquery-GOslim-BP.sorted.unique.noOther"
   ]
  },
  {
   "cell_type": "code",
   "execution_count": 152,
   "metadata": {
    "scrolled": true
   },
   "outputs": [
    {
     "name": "stdout",
     "output_type": "stream",
     "text": [
      "     208\r\n"
     ]
    }
   ],
   "source": [
    "#Count the number of unique CGI IDs with defined GOSlim terms\n",
    "!uniq -f1 Zostera_blastquery-GOslim-BP.sorted.unique.noOther | wc -l"
   ]
  },
  {
   "cell_type": "markdown",
   "metadata": {},
   "source": [
    "### *L. zostera*"
   ]
  },
  {
   "cell_type": "code",
   "execution_count": 153,
   "metadata": {},
   "outputs": [],
   "source": [
    "#Join files to get GOslim for each query\n",
    "#Remove duplicate GOslim and queries removed\n",
    "#Sort files\n",
    "#Only print gene ID, GO Slim, and original GOterm\n",
    "!join -1 1 -2 1 -t $'\\t' \\\n",
    "nonZostera_blast-GO-unfolded-sorted.tab \\\n",
    "GO-GOslim.sorted \\\n",
    "| uniq | sort | awk -F'\\t' -v OFS='\\t' '{print $2, $4, $3}' \\\n",
    "> nonZostera_blastquery-GOslim.tab"
   ]
  },
  {
   "cell_type": "code",
   "execution_count": 154,
   "metadata": {
    "scrolled": true
   },
   "outputs": [
    {
     "name": "stdout",
     "output_type": "stream",
     "text": [
      "TRINITY_DN233011_c0_g1\tcell cycle and proliferation\tcytokinesis after mitosis\n",
      "TRINITY_DN277328_c0_g1\tcell cycle and proliferation\tcytokinesis after mitosis\n",
      "TRINITY_DN299789_c0_g2\tcell cycle and proliferation\tcytokinesis after mitosis\n",
      "TRINITY_DN295214_c0_g1\tstress response\tresponse to reactive oxygen species\n",
      "TRINITY_DN295214_c0_g2\tstress response\tresponse to reactive oxygen species\n",
      "TRINITY_DN312005_c1_g1\tstress response\tresponse to reactive oxygen species\n",
      "TRINITY_DN233011_c0_g1\tother biological processes\tcytokinesis\n",
      "TRINITY_DN277328_c0_g1\tother biological processes\tcytokinesis\n",
      "TRINITY_DN299789_c0_g2\tother biological processes\tcytokinesis\n",
      "TRINITY_DN255903_c0_g1\tprotein metabolism\tregulation of protein amino acid phosphorylation\n",
      "     110 nonZostera_blastquery-GOslim.tab\n"
     ]
    }
   ],
   "source": [
    "#Check output\n",
    "!head nonZostera_blastquery-GOslim.tab\n",
    "!wc -l nonZostera_blastquery-GOslim.tab"
   ]
  },
  {
   "cell_type": "code",
   "execution_count": 155,
   "metadata": {},
   "outputs": [
    {
     "name": "stdout",
     "output_type": "stream",
     "text": [
      "      53\r\n"
     ]
    }
   ],
   "source": [
    "#Count the number of unique IDs with GOSlim terms\n",
    "!uniq -f1 nonZostera_blastquery-GOslim.tab | wc -l"
   ]
  },
  {
   "cell_type": "code",
   "execution_count": 156,
   "metadata": {
    "scrolled": true
   },
   "outputs": [
    {
     "name": "stdout",
     "output_type": "stream",
     "text": [
      "TRINITY_DN233011_c0_g1\tcell cycle and proliferation\tcytokinesis after mitosis\n",
      "TRINITY_DN277328_c0_g1\tcell cycle and proliferation\tcytokinesis after mitosis\n",
      "TRINITY_DN299789_c0_g2\tcell cycle and proliferation\tcytokinesis after mitosis\n",
      "TRINITY_DN295214_c0_g1\tstress response\tresponse to reactive oxygen species\n",
      "TRINITY_DN295214_c0_g2\tstress response\tresponse to reactive oxygen species\n",
      "TRINITY_DN312005_c1_g1\tstress response\tresponse to reactive oxygen species\n",
      "TRINITY_DN255903_c0_g1\tprotein metabolism\tregulation of protein amino acid phosphorylation\n",
      "TRINITY_DN299755_c1_g3\tprotein metabolism\tregulation of protein amino acid phosphorylation\n",
      "TRINITY_DN256449_c0_g1\tother metabolic processes\t\"nucleobase, nucleoside, nucleotide and nucleic acid metabolic process\"\n",
      "TRINITY_DN296708_c0_g1\tother metabolic processes\t\"nucleobase, nucleoside, nucleotide and nucleic acid metabolic process\"\n",
      "      92 nonZostera_blastquery-GOslim-BP.sorted.unique.noOther\n"
     ]
    }
   ],
   "source": [
    "#Remove all \"other biological processes\"\n",
    "#Confirm removal\n",
    "#Count the number of entries\n",
    "!grep --invert-match \"other biological processes\" nonZostera_blastquery-GOslim.tab \\\n",
    "> nonZostera_blastquery-GOslim-BP.sorted.unique.noOther\n",
    "!head nonZostera_blastquery-GOslim-BP.sorted.unique.noOther\n",
    "!wc -l nonZostera_blastquery-GOslim-BP.sorted.unique.noOther"
   ]
  },
  {
   "cell_type": "code",
   "execution_count": 157,
   "metadata": {
    "scrolled": false
   },
   "outputs": [
    {
     "name": "stdout",
     "output_type": "stream",
     "text": [
      "      43\r\n"
     ]
    }
   ],
   "source": [
    "#Count the number of unique CGI IDs with defined GOSlim terms\n",
    "!uniq -f1 nonZostera_blastquery-GOslim-BP.sorted.unique.noOther | wc -l"
   ]
  },
  {
   "cell_type": "markdown",
   "metadata": {},
   "source": [
    "## 4. Match GO Slim terms to original annotations"
   ]
  },
  {
   "cell_type": "markdown",
   "metadata": {},
   "source": [
    "### *Z. marina*"
   ]
  },
  {
   "cell_type": "code",
   "execution_count": 19,
   "metadata": {},
   "outputs": [
    {
     "name": "stdout",
     "output_type": "stream",
     "text": [
      "seq\tProteinN\r\n",
      "TRINITY_DN299263_c0_g1\tcAMP-dependent protein kinase catalytic subunit gamma (PKA C-gamma) (EC 2.7.11.11)\r\n",
      "TRINITY_DN299263_c0_g2\tcAMP-dependent protein kinase catalytic subunit gamma (PKA C-gamma) (EC 2.7.11.11)\r\n",
      "TRINITY_DN312745_c1_g2\tcAMP-dependent protein kinase catalytic subunit gamma (PKA C-gamma) (EC 2.7.11.11)\r\n",
      "TRINITY_DN295269_c0_g3\tSerine/threonine-protein kinase Tao (EC 2.7.11.1)\r\n"
     ]
    }
   ],
   "source": [
    "#Check format of gene list with protein annotations\n",
    "!head -n5 2019-07-15-Zostera-DEG-ProteinN.tab"
   ]
  },
  {
   "cell_type": "code",
   "execution_count": 39,
   "metadata": {},
   "outputs": [],
   "source": [
    "#Remove header line\n",
    "# Sort file and only keep unique entries\n",
    "#Save output\n",
    "!tail -n +2 2019-07-15-Zostera-DEG-ProteinN.tab \\\n",
    "| sort | uniq \\\n",
    "> 2019-07-15-Zostera-DEG-ProteinN.noHead.tab"
   ]
  },
  {
   "cell_type": "code",
   "execution_count": 40,
   "metadata": {},
   "outputs": [
    {
     "name": "stdout",
     "output_type": "stream",
     "text": [
      "TRINITY_DN111543_c0_g1\tPeroxisomal acyl-coenzyme A oxidase 1 (AOX 1) (EC 1.3.3.6) (Long-chain acyl-CoA oxidase) (AtCX1)\r\n",
      "TRINITY_DN139711_c0_g1\tPolyadenylate-binding protein (PABP) (Poly(A)-binding protein)\r\n",
      "TRINITY_DN172833_c0_g1\tGibberellin 2-beta-dioxygenase 8 (EC 1.14.11.13) (GA 2-oxidase 8) (Gibberellin 2-beta-hydroxylase 8) (Gibberellin 2-oxidase 8)\r\n",
      "TRINITY_DN226686_c0_g1\tGDP-L-fucose synthase (EC 1.1.1.271) (GDP-4-keto-6-deoxy-D-mannose-3,5-epimerase-4-reductase) (Protein FX) (Red cell NADP(H)-binding protein) (Short-chain dehydrogenase/reductase family 4E member 1)\r\n",
      "TRINITY_DN228040_c0_g1\tNucleolar GTP-binding protein 1 (Chronic renal failure gene protein) (GTP-binding protein NGB)\r\n"
     ]
    }
   ],
   "source": [
    "#Check header was removed\n",
    "!head -n5 2019-07-15-Zostera-DEG-ProteinN.noHead.tab"
   ]
  },
  {
   "cell_type": "code",
   "execution_count": 45,
   "metadata": {},
   "outputs": [],
   "source": [
    "#Join protein annotation with GO Slim terms (unique, no other)\n",
    "#Use a left join so unpaired lines from GOSlim terms are still printed\n",
    "!join -1 1 -2 1 -t $'\\t' -a1 \\\n",
    "Zostera_blastquery-GOslim-BP.sorted.unique.noOther \\\n",
    "2019-07-15-Zostera-DEG-ProteinN.noHead.tab \\\n",
    "> Zostera_blastquery-GOslim-BP.sorted.unique.noOther.ProteinN"
   ]
  },
  {
   "cell_type": "code",
   "execution_count": 46,
   "metadata": {},
   "outputs": [
    {
     "name": "stdout",
     "output_type": "stream",
     "text": [
      "TRINITY_DN293394_c0_g1\tcell organization and biogenesis\tribosomal large subunit assembly\t60S ribosomal protein L6\n",
      "TRINITY_DN298832_c1_g1\tcell organization and biogenesis\tribosomal large subunit assembly\tmRNA turnover protein 4 homolog (Ribosome assembly factor MRTO4)\n",
      "TRINITY_DN298848_c3_g2\tcell organization and biogenesis\tribosomal large subunit assembly\t60S acidic ribosomal protein P0-1\n",
      "TRINITY_DN314236_c0_g1\tcell organization and biogenesis\tribosomal large subunit assembly\tMidasin (Dynein-related AAA-ATPase REA1) (MIDAS-containing protein) (Ribosome export/assembly protein 1)\n",
      "TRINITY_DN292998_c5_g6\tcell organization and biogenesis\tribosomal small subunit assembly\n",
      "TRINITY_DN316936_c5_g1\tcell organization and biogenesis\tribosomal small subunit assembly\tRibosomal RNA-processing protein 7 homolog A (Gastric cancer antigen Zg14)\n",
      "TRINITY_DN298449_c4_g2\tcell organization and biogenesis\tautophagic vacuole formation\n",
      "TRINITY_DN298449_c4_g2\tother metabolic processes\tautophagic vacuole formation\n",
      "TRINITY_DN298449_c4_g2\tstress response\tautophagic vacuole formation\n",
      "TRINITY_DN312745_c1_g1\tcell cycle and proliferation\tcell cycle checkpoint\n",
      "     601 Zostera_blastquery-GOslim-BP.sorted.unique.noOther.ProteinN\n"
     ]
    }
   ],
   "source": [
    "!head Zostera_blastquery-GOslim-BP.sorted.unique.noOther.ProteinN\n",
    "!wc -l Zostera_blastquery-GOslim-BP.sorted.unique.noOther.ProteinN"
   ]
  },
  {
   "cell_type": "code",
   "execution_count": null,
   "metadata": {},
   "outputs": [],
   "source": []
  }
 ],
 "metadata": {
  "kernelspec": {
   "display_name": "Python 3",
   "language": "python",
   "name": "python3"
  },
  "language_info": {
   "codemirror_mode": {
    "name": "ipython",
    "version": 3
   },
   "file_extension": ".py",
   "mimetype": "text/x-python",
   "name": "python",
   "nbconvert_exporter": "python",
   "pygments_lexer": "ipython3",
   "version": "3.7.4"
  }
 },
 "nbformat": 4,
 "nbformat_minor": 2
}
